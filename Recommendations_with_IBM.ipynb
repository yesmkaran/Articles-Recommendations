{
  "cells": [
    {
      "cell_type": "markdown",
      "metadata": {
        "id": "SziH-xda2pAW"
      },
      "source": [
        "# Recommendations with IBM\n",
        "\n",
        "In this notebook, you will be putting your recommendation skills to use on real data from the IBM Watson Studio platform.\n",
        "\n",
        "\n",
        "You may either submit your notebook through the workspace here, or you may work from your local machine and submit through the next page.  Either way assure that your code passes the project [RUBRIC](Need to update this).  **Please save regularly.**\n",
        "\n",
        "By following the table of contents, you will build out a number of different methods for making recommendations that can be used for different situations.\n",
        "\n",
        "\n",
        "## Table of Contents\n",
        "\n",
        "I. [Exploratory Data Analysis](#Exploratory-Data-Analysis)<br>\n",
        "II. [Rank Based Recommendations](#Rank)<br>\n",
        "III. [User-User Based Collaborative Filtering](#User-User)<br>\n",
        "IV. [Content Based Recommendations (EXTRA - NOT REQUIRED)](#Content-Recs)<br>\n",
        "V. [Matrix Factorization](#Matrix-Fact)<br>\n",
        "VI. [Extras & Concluding](#conclusions)\n",
        "\n",
        "At the end of the notebook, you will find directions for how to submit your work.  Let's get started by importing the necessary libraries and reading in the data."
      ]
    },
    {
      "cell_type": "code",
      "execution_count": 1,
      "metadata": {
        "collapsed": true,
        "colab": {
          "base_uri": "https://localhost:8080/",
          "height": 206
        },
        "id": "N5DPazIi2pAe",
        "outputId": "dd9f4ef1-5392-4848-c7f0-d68b9dd5c2fc"
      },
      "outputs": [
        {
          "output_type": "execute_result",
          "data": {
            "text/plain": [
              "   article_id                                              title  \\\n",
              "0      1430.0  using pixiedust for fast, flexible, and easier...   \n",
              "1      1314.0       healthcare python streaming application demo   \n",
              "2      1429.0         use deep learning for image classification   \n",
              "3      1338.0          ml optimization using cognitive assistant   \n",
              "4      1276.0          deploy your python model as a restful api   \n",
              "\n",
              "                                      email  \n",
              "0  ef5f11f77ba020cd36e1105a00ab868bbdbf7fe7  \n",
              "1  083cbdfa93c8444beaa4c5f5e0f5f9198e4f9e0b  \n",
              "2  b96a4f2e92d8572034b1e9b28f9ac673765cd074  \n",
              "3  06485706b34a5c9bf2a0ecdac41daf7e7654ceb7  \n",
              "4  f01220c46fc92c6e6b161b1849de11faacd7ccb2  "
            ],
            "text/html": [
              "\n",
              "  <div id=\"df-3447d08d-93ee-4806-95b0-9b725a016330\" class=\"colab-df-container\">\n",
              "    <div>\n",
              "<style scoped>\n",
              "    .dataframe tbody tr th:only-of-type {\n",
              "        vertical-align: middle;\n",
              "    }\n",
              "\n",
              "    .dataframe tbody tr th {\n",
              "        vertical-align: top;\n",
              "    }\n",
              "\n",
              "    .dataframe thead th {\n",
              "        text-align: right;\n",
              "    }\n",
              "</style>\n",
              "<table border=\"1\" class=\"dataframe\">\n",
              "  <thead>\n",
              "    <tr style=\"text-align: right;\">\n",
              "      <th></th>\n",
              "      <th>article_id</th>\n",
              "      <th>title</th>\n",
              "      <th>email</th>\n",
              "    </tr>\n",
              "  </thead>\n",
              "  <tbody>\n",
              "    <tr>\n",
              "      <th>0</th>\n",
              "      <td>1430.0</td>\n",
              "      <td>using pixiedust for fast, flexible, and easier...</td>\n",
              "      <td>ef5f11f77ba020cd36e1105a00ab868bbdbf7fe7</td>\n",
              "    </tr>\n",
              "    <tr>\n",
              "      <th>1</th>\n",
              "      <td>1314.0</td>\n",
              "      <td>healthcare python streaming application demo</td>\n",
              "      <td>083cbdfa93c8444beaa4c5f5e0f5f9198e4f9e0b</td>\n",
              "    </tr>\n",
              "    <tr>\n",
              "      <th>2</th>\n",
              "      <td>1429.0</td>\n",
              "      <td>use deep learning for image classification</td>\n",
              "      <td>b96a4f2e92d8572034b1e9b28f9ac673765cd074</td>\n",
              "    </tr>\n",
              "    <tr>\n",
              "      <th>3</th>\n",
              "      <td>1338.0</td>\n",
              "      <td>ml optimization using cognitive assistant</td>\n",
              "      <td>06485706b34a5c9bf2a0ecdac41daf7e7654ceb7</td>\n",
              "    </tr>\n",
              "    <tr>\n",
              "      <th>4</th>\n",
              "      <td>1276.0</td>\n",
              "      <td>deploy your python model as a restful api</td>\n",
              "      <td>f01220c46fc92c6e6b161b1849de11faacd7ccb2</td>\n",
              "    </tr>\n",
              "  </tbody>\n",
              "</table>\n",
              "</div>\n",
              "    <div class=\"colab-df-buttons\">\n",
              "\n",
              "  <div class=\"colab-df-container\">\n",
              "    <button class=\"colab-df-convert\" onclick=\"convertToInteractive('df-3447d08d-93ee-4806-95b0-9b725a016330')\"\n",
              "            title=\"Convert this dataframe to an interactive table.\"\n",
              "            style=\"display:none;\">\n",
              "\n",
              "  <svg xmlns=\"http://www.w3.org/2000/svg\" height=\"24px\" viewBox=\"0 -960 960 960\">\n",
              "    <path d=\"M120-120v-720h720v720H120Zm60-500h600v-160H180v160Zm220 220h160v-160H400v160Zm0 220h160v-160H400v160ZM180-400h160v-160H180v160Zm440 0h160v-160H620v160ZM180-180h160v-160H180v160Zm440 0h160v-160H620v160Z\"/>\n",
              "  </svg>\n",
              "    </button>\n",
              "\n",
              "  <style>\n",
              "    .colab-df-container {\n",
              "      display:flex;\n",
              "      gap: 12px;\n",
              "    }\n",
              "\n",
              "    .colab-df-convert {\n",
              "      background-color: #E8F0FE;\n",
              "      border: none;\n",
              "      border-radius: 50%;\n",
              "      cursor: pointer;\n",
              "      display: none;\n",
              "      fill: #1967D2;\n",
              "      height: 32px;\n",
              "      padding: 0 0 0 0;\n",
              "      width: 32px;\n",
              "    }\n",
              "\n",
              "    .colab-df-convert:hover {\n",
              "      background-color: #E2EBFA;\n",
              "      box-shadow: 0px 1px 2px rgba(60, 64, 67, 0.3), 0px 1px 3px 1px rgba(60, 64, 67, 0.15);\n",
              "      fill: #174EA6;\n",
              "    }\n",
              "\n",
              "    .colab-df-buttons div {\n",
              "      margin-bottom: 4px;\n",
              "    }\n",
              "\n",
              "    [theme=dark] .colab-df-convert {\n",
              "      background-color: #3B4455;\n",
              "      fill: #D2E3FC;\n",
              "    }\n",
              "\n",
              "    [theme=dark] .colab-df-convert:hover {\n",
              "      background-color: #434B5C;\n",
              "      box-shadow: 0px 1px 3px 1px rgba(0, 0, 0, 0.15);\n",
              "      filter: drop-shadow(0px 1px 2px rgba(0, 0, 0, 0.3));\n",
              "      fill: #FFFFFF;\n",
              "    }\n",
              "  </style>\n",
              "\n",
              "    <script>\n",
              "      const buttonEl =\n",
              "        document.querySelector('#df-3447d08d-93ee-4806-95b0-9b725a016330 button.colab-df-convert');\n",
              "      buttonEl.style.display =\n",
              "        google.colab.kernel.accessAllowed ? 'block' : 'none';\n",
              "\n",
              "      async function convertToInteractive(key) {\n",
              "        const element = document.querySelector('#df-3447d08d-93ee-4806-95b0-9b725a016330');\n",
              "        const dataTable =\n",
              "          await google.colab.kernel.invokeFunction('convertToInteractive',\n",
              "                                                    [key], {});\n",
              "        if (!dataTable) return;\n",
              "\n",
              "        const docLinkHtml = 'Like what you see? Visit the ' +\n",
              "          '<a target=\"_blank\" href=https://colab.research.google.com/notebooks/data_table.ipynb>data table notebook</a>'\n",
              "          + ' to learn more about interactive tables.';\n",
              "        element.innerHTML = '';\n",
              "        dataTable['output_type'] = 'display_data';\n",
              "        await google.colab.output.renderOutput(dataTable, element);\n",
              "        const docLink = document.createElement('div');\n",
              "        docLink.innerHTML = docLinkHtml;\n",
              "        element.appendChild(docLink);\n",
              "      }\n",
              "    </script>\n",
              "  </div>\n",
              "\n",
              "\n",
              "<div id=\"df-b4cdf9d0-3415-4550-8273-3fda075fa14a\">\n",
              "  <button class=\"colab-df-quickchart\" onclick=\"quickchart('df-b4cdf9d0-3415-4550-8273-3fda075fa14a')\"\n",
              "            title=\"Suggest charts\"\n",
              "            style=\"display:none;\">\n",
              "\n",
              "<svg xmlns=\"http://www.w3.org/2000/svg\" height=\"24px\"viewBox=\"0 0 24 24\"\n",
              "     width=\"24px\">\n",
              "    <g>\n",
              "        <path d=\"M19 3H5c-1.1 0-2 .9-2 2v14c0 1.1.9 2 2 2h14c1.1 0 2-.9 2-2V5c0-1.1-.9-2-2-2zM9 17H7v-7h2v7zm4 0h-2V7h2v10zm4 0h-2v-4h2v4z\"/>\n",
              "    </g>\n",
              "</svg>\n",
              "  </button>\n",
              "\n",
              "<style>\n",
              "  .colab-df-quickchart {\n",
              "      --bg-color: #E8F0FE;\n",
              "      --fill-color: #1967D2;\n",
              "      --hover-bg-color: #E2EBFA;\n",
              "      --hover-fill-color: #174EA6;\n",
              "      --disabled-fill-color: #AAA;\n",
              "      --disabled-bg-color: #DDD;\n",
              "  }\n",
              "\n",
              "  [theme=dark] .colab-df-quickchart {\n",
              "      --bg-color: #3B4455;\n",
              "      --fill-color: #D2E3FC;\n",
              "      --hover-bg-color: #434B5C;\n",
              "      --hover-fill-color: #FFFFFF;\n",
              "      --disabled-bg-color: #3B4455;\n",
              "      --disabled-fill-color: #666;\n",
              "  }\n",
              "\n",
              "  .colab-df-quickchart {\n",
              "    background-color: var(--bg-color);\n",
              "    border: none;\n",
              "    border-radius: 50%;\n",
              "    cursor: pointer;\n",
              "    display: none;\n",
              "    fill: var(--fill-color);\n",
              "    height: 32px;\n",
              "    padding: 0;\n",
              "    width: 32px;\n",
              "  }\n",
              "\n",
              "  .colab-df-quickchart:hover {\n",
              "    background-color: var(--hover-bg-color);\n",
              "    box-shadow: 0 1px 2px rgba(60, 64, 67, 0.3), 0 1px 3px 1px rgba(60, 64, 67, 0.15);\n",
              "    fill: var(--button-hover-fill-color);\n",
              "  }\n",
              "\n",
              "  .colab-df-quickchart-complete:disabled,\n",
              "  .colab-df-quickchart-complete:disabled:hover {\n",
              "    background-color: var(--disabled-bg-color);\n",
              "    fill: var(--disabled-fill-color);\n",
              "    box-shadow: none;\n",
              "  }\n",
              "\n",
              "  .colab-df-spinner {\n",
              "    border: 2px solid var(--fill-color);\n",
              "    border-color: transparent;\n",
              "    border-bottom-color: var(--fill-color);\n",
              "    animation:\n",
              "      spin 1s steps(1) infinite;\n",
              "  }\n",
              "\n",
              "  @keyframes spin {\n",
              "    0% {\n",
              "      border-color: transparent;\n",
              "      border-bottom-color: var(--fill-color);\n",
              "      border-left-color: var(--fill-color);\n",
              "    }\n",
              "    20% {\n",
              "      border-color: transparent;\n",
              "      border-left-color: var(--fill-color);\n",
              "      border-top-color: var(--fill-color);\n",
              "    }\n",
              "    30% {\n",
              "      border-color: transparent;\n",
              "      border-left-color: var(--fill-color);\n",
              "      border-top-color: var(--fill-color);\n",
              "      border-right-color: var(--fill-color);\n",
              "    }\n",
              "    40% {\n",
              "      border-color: transparent;\n",
              "      border-right-color: var(--fill-color);\n",
              "      border-top-color: var(--fill-color);\n",
              "    }\n",
              "    60% {\n",
              "      border-color: transparent;\n",
              "      border-right-color: var(--fill-color);\n",
              "    }\n",
              "    80% {\n",
              "      border-color: transparent;\n",
              "      border-right-color: var(--fill-color);\n",
              "      border-bottom-color: var(--fill-color);\n",
              "    }\n",
              "    90% {\n",
              "      border-color: transparent;\n",
              "      border-bottom-color: var(--fill-color);\n",
              "    }\n",
              "  }\n",
              "</style>\n",
              "\n",
              "  <script>\n",
              "    async function quickchart(key) {\n",
              "      const quickchartButtonEl =\n",
              "        document.querySelector('#' + key + ' button');\n",
              "      quickchartButtonEl.disabled = true;  // To prevent multiple clicks.\n",
              "      quickchartButtonEl.classList.add('colab-df-spinner');\n",
              "      try {\n",
              "        const charts = await google.colab.kernel.invokeFunction(\n",
              "            'suggestCharts', [key], {});\n",
              "      } catch (error) {\n",
              "        console.error('Error during call to suggestCharts:', error);\n",
              "      }\n",
              "      quickchartButtonEl.classList.remove('colab-df-spinner');\n",
              "      quickchartButtonEl.classList.add('colab-df-quickchart-complete');\n",
              "    }\n",
              "    (() => {\n",
              "      let quickchartButtonEl =\n",
              "        document.querySelector('#df-b4cdf9d0-3415-4550-8273-3fda075fa14a button');\n",
              "      quickchartButtonEl.style.display =\n",
              "        google.colab.kernel.accessAllowed ? 'block' : 'none';\n",
              "    })();\n",
              "  </script>\n",
              "</div>\n",
              "\n",
              "    </div>\n",
              "  </div>\n"
            ],
            "application/vnd.google.colaboratory.intrinsic+json": {
              "type": "dataframe",
              "variable_name": "df",
              "summary": "{\n  \"name\": \"df\",\n  \"rows\": 45993,\n  \"fields\": [\n    {\n      \"column\": \"article_id\",\n      \"properties\": {\n        \"dtype\": \"number\",\n        \"std\": 486.64786555202915,\n        \"min\": 0.0,\n        \"max\": 1444.0,\n        \"num_unique_values\": 714,\n        \"samples\": [\n          373.0,\n          16.0,\n          1279.0\n        ],\n        \"semantic_type\": \"\",\n        \"description\": \"\"\n      }\n    },\n    {\n      \"column\": \"title\",\n      \"properties\": {\n        \"dtype\": \"category\",\n        \"num_unique_values\": 714,\n        \"samples\": [\n          \"working with notebooks in dsx\",\n          \"higher-order logistic regression for large datasets\",\n          \"dry bulb temperature, by country, station and year\"\n        ],\n        \"semantic_type\": \"\",\n        \"description\": \"\"\n      }\n    },\n    {\n      \"column\": \"email\",\n      \"properties\": {\n        \"dtype\": \"category\",\n        \"num_unique_values\": 5148,\n        \"samples\": [\n          \"387e41599cc55bf6bf0bd475535fcec75827ba3d\",\n          \"74a9d1e1e6f38549301ac3da23ced47c4f3d6bc4\",\n          \"bce93e473d892fff420cf2809242ebae1bd27437\"\n        ],\n        \"semantic_type\": \"\",\n        \"description\": \"\"\n      }\n    }\n  ]\n}"
            }
          },
          "metadata": {},
          "execution_count": 1
        }
      ],
      "source": [
        "import pandas as pd\n",
        "import numpy as np\n",
        "import matplotlib.pyplot as plt\n",
        "import project_tests as t\n",
        "\n",
        "%matplotlib inline\n",
        "\n",
        "df = pd.read_csv('user-item-interactions.csv')\n",
        "df_content = pd.read_csv('articles_community.csv')\n",
        "del df['Unnamed: 0']\n",
        "del df_content['Unnamed: 0']\n",
        "\n",
        "# Show df to get an idea of the data\n",
        "df.head()"
      ]
    },
    {
      "cell_type": "code",
      "execution_count": 2,
      "metadata": {
        "collapsed": true,
        "colab": {
          "base_uri": "https://localhost:8080/",
          "height": 293
        },
        "id": "bN6qg4Fx2pAi",
        "outputId": "a26f5ef6-e3a2-41f8-d608-08e7d501ace5"
      },
      "outputs": [
        {
          "output_type": "execute_result",
          "data": {
            "text/plain": [
              "                                            doc_body  \\\n",
              "0  Skip navigation Sign in SearchLoading...\\r\\n\\r...   \n",
              "1  No Free Hunch Navigation * kaggle.com\\r\\n\\r\\n ...   \n",
              "2  ☰ * Login\\r\\n * Sign Up\\r\\n\\r\\n * Learning Pat...   \n",
              "3  DATALAYER: HIGH THROUGHPUT, LOW LATENCY AT SCA...   \n",
              "4  Skip navigation Sign in SearchLoading...\\r\\n\\r...   \n",
              "\n",
              "                                     doc_description  \\\n",
              "0  Detect bad readings in real time using Python ...   \n",
              "1  See the forest, see the trees. Here lies the c...   \n",
              "2  Here’s this week’s news in Data Science and Bi...   \n",
              "3  Learn how distributed DBs solve the problem of...   \n",
              "4  This video demonstrates the power of IBM DataS...   \n",
              "\n",
              "                                       doc_full_name doc_status  article_id  \n",
              "0  Detect Malfunctioning IoT Sensors with Streami...       Live           0  \n",
              "1  Communicating data science: A guide to present...       Live           1  \n",
              "2         This Week in Data Science (April 18, 2017)       Live           2  \n",
              "3  DataLayer Conference: Boost the performance of...       Live           3  \n",
              "4      Analyze NY Restaurant data using Spark in DSX       Live           4  "
            ],
            "text/html": [
              "\n",
              "  <div id=\"df-75cb1450-ab4e-4cff-9bd1-c8974468a94e\" class=\"colab-df-container\">\n",
              "    <div>\n",
              "<style scoped>\n",
              "    .dataframe tbody tr th:only-of-type {\n",
              "        vertical-align: middle;\n",
              "    }\n",
              "\n",
              "    .dataframe tbody tr th {\n",
              "        vertical-align: top;\n",
              "    }\n",
              "\n",
              "    .dataframe thead th {\n",
              "        text-align: right;\n",
              "    }\n",
              "</style>\n",
              "<table border=\"1\" class=\"dataframe\">\n",
              "  <thead>\n",
              "    <tr style=\"text-align: right;\">\n",
              "      <th></th>\n",
              "      <th>doc_body</th>\n",
              "      <th>doc_description</th>\n",
              "      <th>doc_full_name</th>\n",
              "      <th>doc_status</th>\n",
              "      <th>article_id</th>\n",
              "    </tr>\n",
              "  </thead>\n",
              "  <tbody>\n",
              "    <tr>\n",
              "      <th>0</th>\n",
              "      <td>Skip navigation Sign in SearchLoading...\\r\\n\\r...</td>\n",
              "      <td>Detect bad readings in real time using Python ...</td>\n",
              "      <td>Detect Malfunctioning IoT Sensors with Streami...</td>\n",
              "      <td>Live</td>\n",
              "      <td>0</td>\n",
              "    </tr>\n",
              "    <tr>\n",
              "      <th>1</th>\n",
              "      <td>No Free Hunch Navigation * kaggle.com\\r\\n\\r\\n ...</td>\n",
              "      <td>See the forest, see the trees. Here lies the c...</td>\n",
              "      <td>Communicating data science: A guide to present...</td>\n",
              "      <td>Live</td>\n",
              "      <td>1</td>\n",
              "    </tr>\n",
              "    <tr>\n",
              "      <th>2</th>\n",
              "      <td>☰ * Login\\r\\n * Sign Up\\r\\n\\r\\n * Learning Pat...</td>\n",
              "      <td>Here’s this week’s news in Data Science and Bi...</td>\n",
              "      <td>This Week in Data Science (April 18, 2017)</td>\n",
              "      <td>Live</td>\n",
              "      <td>2</td>\n",
              "    </tr>\n",
              "    <tr>\n",
              "      <th>3</th>\n",
              "      <td>DATALAYER: HIGH THROUGHPUT, LOW LATENCY AT SCA...</td>\n",
              "      <td>Learn how distributed DBs solve the problem of...</td>\n",
              "      <td>DataLayer Conference: Boost the performance of...</td>\n",
              "      <td>Live</td>\n",
              "      <td>3</td>\n",
              "    </tr>\n",
              "    <tr>\n",
              "      <th>4</th>\n",
              "      <td>Skip navigation Sign in SearchLoading...\\r\\n\\r...</td>\n",
              "      <td>This video demonstrates the power of IBM DataS...</td>\n",
              "      <td>Analyze NY Restaurant data using Spark in DSX</td>\n",
              "      <td>Live</td>\n",
              "      <td>4</td>\n",
              "    </tr>\n",
              "  </tbody>\n",
              "</table>\n",
              "</div>\n",
              "    <div class=\"colab-df-buttons\">\n",
              "\n",
              "  <div class=\"colab-df-container\">\n",
              "    <button class=\"colab-df-convert\" onclick=\"convertToInteractive('df-75cb1450-ab4e-4cff-9bd1-c8974468a94e')\"\n",
              "            title=\"Convert this dataframe to an interactive table.\"\n",
              "            style=\"display:none;\">\n",
              "\n",
              "  <svg xmlns=\"http://www.w3.org/2000/svg\" height=\"24px\" viewBox=\"0 -960 960 960\">\n",
              "    <path d=\"M120-120v-720h720v720H120Zm60-500h600v-160H180v160Zm220 220h160v-160H400v160Zm0 220h160v-160H400v160ZM180-400h160v-160H180v160Zm440 0h160v-160H620v160ZM180-180h160v-160H180v160Zm440 0h160v-160H620v160Z\"/>\n",
              "  </svg>\n",
              "    </button>\n",
              "\n",
              "  <style>\n",
              "    .colab-df-container {\n",
              "      display:flex;\n",
              "      gap: 12px;\n",
              "    }\n",
              "\n",
              "    .colab-df-convert {\n",
              "      background-color: #E8F0FE;\n",
              "      border: none;\n",
              "      border-radius: 50%;\n",
              "      cursor: pointer;\n",
              "      display: none;\n",
              "      fill: #1967D2;\n",
              "      height: 32px;\n",
              "      padding: 0 0 0 0;\n",
              "      width: 32px;\n",
              "    }\n",
              "\n",
              "    .colab-df-convert:hover {\n",
              "      background-color: #E2EBFA;\n",
              "      box-shadow: 0px 1px 2px rgba(60, 64, 67, 0.3), 0px 1px 3px 1px rgba(60, 64, 67, 0.15);\n",
              "      fill: #174EA6;\n",
              "    }\n",
              "\n",
              "    .colab-df-buttons div {\n",
              "      margin-bottom: 4px;\n",
              "    }\n",
              "\n",
              "    [theme=dark] .colab-df-convert {\n",
              "      background-color: #3B4455;\n",
              "      fill: #D2E3FC;\n",
              "    }\n",
              "\n",
              "    [theme=dark] .colab-df-convert:hover {\n",
              "      background-color: #434B5C;\n",
              "      box-shadow: 0px 1px 3px 1px rgba(0, 0, 0, 0.15);\n",
              "      filter: drop-shadow(0px 1px 2px rgba(0, 0, 0, 0.3));\n",
              "      fill: #FFFFFF;\n",
              "    }\n",
              "  </style>\n",
              "\n",
              "    <script>\n",
              "      const buttonEl =\n",
              "        document.querySelector('#df-75cb1450-ab4e-4cff-9bd1-c8974468a94e button.colab-df-convert');\n",
              "      buttonEl.style.display =\n",
              "        google.colab.kernel.accessAllowed ? 'block' : 'none';\n",
              "\n",
              "      async function convertToInteractive(key) {\n",
              "        const element = document.querySelector('#df-75cb1450-ab4e-4cff-9bd1-c8974468a94e');\n",
              "        const dataTable =\n",
              "          await google.colab.kernel.invokeFunction('convertToInteractive',\n",
              "                                                    [key], {});\n",
              "        if (!dataTable) return;\n",
              "\n",
              "        const docLinkHtml = 'Like what you see? Visit the ' +\n",
              "          '<a target=\"_blank\" href=https://colab.research.google.com/notebooks/data_table.ipynb>data table notebook</a>'\n",
              "          + ' to learn more about interactive tables.';\n",
              "        element.innerHTML = '';\n",
              "        dataTable['output_type'] = 'display_data';\n",
              "        await google.colab.output.renderOutput(dataTable, element);\n",
              "        const docLink = document.createElement('div');\n",
              "        docLink.innerHTML = docLinkHtml;\n",
              "        element.appendChild(docLink);\n",
              "      }\n",
              "    </script>\n",
              "  </div>\n",
              "\n",
              "\n",
              "<div id=\"df-66fcd4a3-e15d-46cf-a9be-7f97f8e75f0d\">\n",
              "  <button class=\"colab-df-quickchart\" onclick=\"quickchart('df-66fcd4a3-e15d-46cf-a9be-7f97f8e75f0d')\"\n",
              "            title=\"Suggest charts\"\n",
              "            style=\"display:none;\">\n",
              "\n",
              "<svg xmlns=\"http://www.w3.org/2000/svg\" height=\"24px\"viewBox=\"0 0 24 24\"\n",
              "     width=\"24px\">\n",
              "    <g>\n",
              "        <path d=\"M19 3H5c-1.1 0-2 .9-2 2v14c0 1.1.9 2 2 2h14c1.1 0 2-.9 2-2V5c0-1.1-.9-2-2-2zM9 17H7v-7h2v7zm4 0h-2V7h2v10zm4 0h-2v-4h2v4z\"/>\n",
              "    </g>\n",
              "</svg>\n",
              "  </button>\n",
              "\n",
              "<style>\n",
              "  .colab-df-quickchart {\n",
              "      --bg-color: #E8F0FE;\n",
              "      --fill-color: #1967D2;\n",
              "      --hover-bg-color: #E2EBFA;\n",
              "      --hover-fill-color: #174EA6;\n",
              "      --disabled-fill-color: #AAA;\n",
              "      --disabled-bg-color: #DDD;\n",
              "  }\n",
              "\n",
              "  [theme=dark] .colab-df-quickchart {\n",
              "      --bg-color: #3B4455;\n",
              "      --fill-color: #D2E3FC;\n",
              "      --hover-bg-color: #434B5C;\n",
              "      --hover-fill-color: #FFFFFF;\n",
              "      --disabled-bg-color: #3B4455;\n",
              "      --disabled-fill-color: #666;\n",
              "  }\n",
              "\n",
              "  .colab-df-quickchart {\n",
              "    background-color: var(--bg-color);\n",
              "    border: none;\n",
              "    border-radius: 50%;\n",
              "    cursor: pointer;\n",
              "    display: none;\n",
              "    fill: var(--fill-color);\n",
              "    height: 32px;\n",
              "    padding: 0;\n",
              "    width: 32px;\n",
              "  }\n",
              "\n",
              "  .colab-df-quickchart:hover {\n",
              "    background-color: var(--hover-bg-color);\n",
              "    box-shadow: 0 1px 2px rgba(60, 64, 67, 0.3), 0 1px 3px 1px rgba(60, 64, 67, 0.15);\n",
              "    fill: var(--button-hover-fill-color);\n",
              "  }\n",
              "\n",
              "  .colab-df-quickchart-complete:disabled,\n",
              "  .colab-df-quickchart-complete:disabled:hover {\n",
              "    background-color: var(--disabled-bg-color);\n",
              "    fill: var(--disabled-fill-color);\n",
              "    box-shadow: none;\n",
              "  }\n",
              "\n",
              "  .colab-df-spinner {\n",
              "    border: 2px solid var(--fill-color);\n",
              "    border-color: transparent;\n",
              "    border-bottom-color: var(--fill-color);\n",
              "    animation:\n",
              "      spin 1s steps(1) infinite;\n",
              "  }\n",
              "\n",
              "  @keyframes spin {\n",
              "    0% {\n",
              "      border-color: transparent;\n",
              "      border-bottom-color: var(--fill-color);\n",
              "      border-left-color: var(--fill-color);\n",
              "    }\n",
              "    20% {\n",
              "      border-color: transparent;\n",
              "      border-left-color: var(--fill-color);\n",
              "      border-top-color: var(--fill-color);\n",
              "    }\n",
              "    30% {\n",
              "      border-color: transparent;\n",
              "      border-left-color: var(--fill-color);\n",
              "      border-top-color: var(--fill-color);\n",
              "      border-right-color: var(--fill-color);\n",
              "    }\n",
              "    40% {\n",
              "      border-color: transparent;\n",
              "      border-right-color: var(--fill-color);\n",
              "      border-top-color: var(--fill-color);\n",
              "    }\n",
              "    60% {\n",
              "      border-color: transparent;\n",
              "      border-right-color: var(--fill-color);\n",
              "    }\n",
              "    80% {\n",
              "      border-color: transparent;\n",
              "      border-right-color: var(--fill-color);\n",
              "      border-bottom-color: var(--fill-color);\n",
              "    }\n",
              "    90% {\n",
              "      border-color: transparent;\n",
              "      border-bottom-color: var(--fill-color);\n",
              "    }\n",
              "  }\n",
              "</style>\n",
              "\n",
              "  <script>\n",
              "    async function quickchart(key) {\n",
              "      const quickchartButtonEl =\n",
              "        document.querySelector('#' + key + ' button');\n",
              "      quickchartButtonEl.disabled = true;  // To prevent multiple clicks.\n",
              "      quickchartButtonEl.classList.add('colab-df-spinner');\n",
              "      try {\n",
              "        const charts = await google.colab.kernel.invokeFunction(\n",
              "            'suggestCharts', [key], {});\n",
              "      } catch (error) {\n",
              "        console.error('Error during call to suggestCharts:', error);\n",
              "      }\n",
              "      quickchartButtonEl.classList.remove('colab-df-spinner');\n",
              "      quickchartButtonEl.classList.add('colab-df-quickchart-complete');\n",
              "    }\n",
              "    (() => {\n",
              "      let quickchartButtonEl =\n",
              "        document.querySelector('#df-66fcd4a3-e15d-46cf-a9be-7f97f8e75f0d button');\n",
              "      quickchartButtonEl.style.display =\n",
              "        google.colab.kernel.accessAllowed ? 'block' : 'none';\n",
              "    })();\n",
              "  </script>\n",
              "</div>\n",
              "\n",
              "    </div>\n",
              "  </div>\n"
            ],
            "application/vnd.google.colaboratory.intrinsic+json": {
              "type": "dataframe",
              "variable_name": "df_content",
              "summary": "{\n  \"name\": \"df_content\",\n  \"rows\": 1056,\n  \"fields\": [\n    {\n      \"column\": \"doc_body\",\n      \"properties\": {\n        \"dtype\": \"string\",\n        \"num_unique_values\": 1036,\n        \"samples\": [\n          \"* DATA WAREHOUSING FEATURES, IMPROVEMENTS, AND UPDATES: INTRODUCING THE NEWDASHDBBy Alan HoffmanDecember 19, 2014INTRODUCING THE NEW DASHDBToday we\\u2019re excited to announce that the Cloudant/dashDB integration isofficially out of beta and into General Availability. For those that don\\u2019t know,IBM dashDB is a cloud-based data warehouse with built-in analytics tailored tohelp ensure you\\u2019re making the most of your data. dashDB is accessible right inthe Cloudant dashboard by way of the Warehousing tab.We have made a number of upgrades, performance improvements, and bugfixes inthis release. Our initial dashDB blog post still gives a good overview of dashDB\\u2019s integration with Cloudant and serves asa helpful getting started guide.Here are some of the highlights from this release: 1. The limit to the warehouse size has been increased from 1 GB to 10 GB    (compressed,) which translates into roughly 30 GB of JSON but your mileage    may vary based on compression. That\\u2019s more than enough to get meaningful    insight from your Cloudant data. Please note that you are still entitled to    one warehouse per Cloudant account 2.  3. Incremental updates are here! Your warehouses will be automatically updated    as you add new data to the underlying database and you will no longer need    to rescan to include new data. 4.  5. Improved performance. Initial testing shows a 20x improvement in data    transfer and schema discovery. You\\u2019ll be able to move more data, much    faster, to your dashDB instance 6.  7. Finally, we have improved our integration with IBM Bluemix so warehouses you    create in Cloudant will be accessible from your Bluemix console. Because of    this, you will be asked for a Bluemix id and password when you create or    delete a warehouse. If you do not have a Bluemix id, you can get one hereWith great power comes great responsibility (meaning billing of course.)Customers that create warehouses will be expected (after a 30 day free trial) toprovide credit card info to Bluemix to ensure continued use of the service.(Users that exceed the free limit on dashDB warehouses (1 GB compressed) will berequired to enter a credit card so they can be billed.)We are by no means done with our work on dashDB, the Schema Discovery Process(SDP), or the Cloudant integration. This is simply the next step in ourcontinued evolution. We\\u2019ve got of an exciting plans for 2015. We would love to hear your feedback about how we can improve the service for you so please don\\u2019t hesitate to reachout .Please enable JavaScript to view the comments powered by Disqus.SIGN UP FOR UPDATES!RECENT POSTS * Data Privacy and Governance Update * Cloudant Warehousing: New features and improvements * Announcing ISO 27001 Compliance for Cloudant, dashDB and BigInsights! * Understanding Mango View-Based Indexes vs. Search-Based Indexes * Introducing Monitoring Plugins for IBM Cloudant LocalBlog archive Follow @cloudantPRODUCT * Why DBaaS? * Features * Pricing * DBaaS ComparisonDOCS * Getting Started * API Reference * Libraries * GuidesFOR DEVELOPERS * FAQ * Sample AppsRESOURCES * Blog * Case Studies * Data Sheets * Training * Webinars * Whitepapers * Videos * EventsCOMPANY * About Us * Contact UsNEWS * In the Press * Press Releases * Awards * Terms Of Use * | * Privacy * | * \\u00a9IBM Corporation 2016\",\n          \"Study Group Deep Learning Curriculum Blog Newsletter ArchiveTENSORFLOW QUICK TIPS\\r\\nby Malte Baumann on February 19, 2017\\r\\n\\r\\n\\r\\n\\r\\nTENSORFLOW WAS THE NEW KID ON THE BLOCK WHEN IT WAS INTRODUCED IN 2015 AND HAS\\r\\nBECOME THE MOST USED DEEP LEARNING FRAMEWORK LAST YEAR. I JUMPED ON THE TRAIN A\\r\\nFEW MONTHS AFTER THE FIRST RELEASE AND BEGAN MY JOURNEY INTO DEEP LEARNING\\r\\nDURING MY MASTER'S THESIS. IT TOOK A WHILE TO GET USED TO THE COMPUTATION GRAPH\\r\\nAND SESSION MODEL, BUT SINCE THEN I'VE GOT MY HEAD AROUND MOST OF THE QUIRKS AND\\r\\nTWISTS.\\r\\n\\r\\nTHIS SHORT ARTICLE IS NO INTRODUCTION TO TENSORFLOW, BUT INSTEAD OFFERS SOME\\r\\nQUICK TIPS, MOSTLY FOCUSED ON PERFORMANCE, THAT REVEAL COMMON PITFALLS AND MAY\\r\\nBOOST YOUR MODEL AND TRAINING PERFORMANCE TO NEW LEVELS. WE'LL START WITH\\r\\nPREPROCESSING AND YOUR INPUT PIPELINE, VISIT GRAPH CONSTRUCTION AND MOVE ON TO\\r\\nDEBUGGING AND PERFORMANCE OPTIMIZATIONS.\\r\\n\\r\\nPREPROCESSING AND INPUT PIPELINES\\r\\nKEEP PREPROCESSING CLEAN AND LEAN\\r\\nARE YOU BAFFLED AT HOW LONG IT TAKES TO TRAIN YOUR RELATIVELY SIMPLE MODEL?\\r\\nCHECK YOUR PREPROCESSING! IF YOU'RE DOING ANY HEAVY PREPROCESSING LIKE\\r\\nTRANSFORMING DATA TO NEURAL NETWORK INPUTS, THOSE CAN SIGNIFICANTLY SLOW DOWN\\r\\nYOUR INFERENCE SPEED. IN MY CASE I WAS CREATING SO-CALLED 'DISTANCE MAPS',\\r\\nGRAYSCALE IMAGES USED IN \\\"DEEP INTERACTIVE OBJECT SELECTION\\\" AS ADDITIONAL\\r\\nINPUTS, USING A CUSTOM PYTHON FUNCTION. MY TRAINING SPEED TOPPED OUT AT AROUND\\r\\n2.4 IMAGES PER SECOND EVEN WHEN I SWITCHED TO A MUCH MORE POWERFUL GTX 1080. I\\r\\nTHEN NOTICED THE BOTTLENECK AND AFTER APPLYING MY FIX I WAS ABLE TO TRAIN AT\\r\\nAROUND 50 IMAGES PER SECOND.\\r\\n\\r\\nIF YOU NOTICE SUCH A BOTTLENECK THE USUAL FIRST IMPULSE IS TO OPTIMIZE THE CODE.\\r\\nBUT A MUCH MORE EFFECTIVE WAY TO STRIP AWAY COMPUTATION TIME FROM YOUR TRAINING\\r\\nPIPELINE IS TO MOVE THE PREPROCESSING INTO A ONE-TIME OPERATION THAT GENERATES\\r\\nTFRECORD FILES. YOUR HEAVY PREPROCESSING IS ONLY DONE ONCE TO CREATE TFRECORDS\\r\\nFOR ALL YOUR TRAINING DATA AND YOUR PIPELINE BOILS DOWN TO LOADING THE RECORDS.\\r\\nEVEN IF YOU WANT TO INTRODUCE SOME KIND OF RANDOMNESS TO AUGMENT YOUR DATA, ITS\\r\\nWORTH TO THINK ABOUT CREATING THE DIFFERENT VARIATIONS ONCE INSTEAD OF BLOATING\\r\\nYOUR PIPELINE.\\r\\n\\r\\nWATCH YOUR QUEUES\\r\\nA WAY TO NOTICE EXPENSIVE PREPROCESSING PIPELINES ARE THE QUEUE GRAPHS IN\\r\\nTENSORBOARD. THESE ARE GENERATED AUTOMATICALLY IF YOU USE THE FRAMEWORKS\\r\\nQUEUERUNNERS AND STORE THE SUMMARIES IN A FILE. THE GRAPHS SHOW IF YOUR MACHINE\\r\\nWAS ABLE TO KEEP THE QUEUES FILLED. IF YOU NOTICE NEGATIVE SPIKES IN THE GRAPHS\\r\\nYOUR SYSTEM IS UNABLE TO GENERATE NEW DATA IN THE TIME YOUR MACHINE WANTS TO\\r\\nPROCESS ONE BATCH. ONE OF THE REASONS FOR THIS WAS ALREADY DISCUSSED IN THE\\r\\nPREVIOUS SECTION. THE MOST COMMON REASON IN MY EXPERIENCE IS LARGE MIN_AFTER_DEQUEUE VALUES. IF YOUR QUEUES TRY TO KEEP LOTS OF RECORDS IN MEMORY, THEY CAN EASILY\\r\\nSATURATE YOUR CAPACITIES, WHICH LEADS TO SWAPPING AND SLOWS DOWN YOUR QUEUES\\r\\nSIGNIFICANTLY. OTHER REASONS COULD BE HARDWARE ISSUES LIKE TOO SLOW DISKS OR\\r\\nJUST LARGER DATA THAN YOUR SYSTEM CAN HANDLE. WHATEVER IT IS, FIXING IT WILL\\r\\nSPEED UP YOUR TRAINING PROCESS.\\r\\n\\r\\nGRAPH CONSTRUCTION AND TRAINING\\r\\nFINALIZE YOUR GRAPH\\r\\nTENSORFLOWS SEPARATE GRAPH CONSTRUCTION AND GRAPH COMPUTATION MODEL IS QUITE\\r\\nRARE IN DAY TO DAY PROGRAMMING AND CAN CAUSE SOME CONFUSION FOR BEGINNERS. THIS\\r\\nAPPLIES TO BUGS AND ERROR MESSAGES, WHICH CAN OCCUR IN THE CODE FOR THE FIRST\\r\\nTIME WHEN THE GRAPH IS BUILT, AND THEN AGAIN WHEN IT'S ACTUALLY EVALUATED, WHICH\\r\\nIS COUNTERINTUITIVE WHEN YOU ARE USED TO CODE BEING EVALUATED JUST ONCE.\\r\\n\\r\\nANOTHER ISSUE IS GRAPH CONSTRUCTION IN COMBINATION WITH TRAINING LOOPS. THESE\\r\\nLOOPS ARE USUALLY 'STANDARD' PYTHON LOOPS AND CAN THEREFORE ALTER THE GRAPH AND\\r\\nADD NEW OPERATIONS TO IT. ALTERING A GRAPH WHILE CONTINUOUSLY EVALUATING IT WILL\\r\\nCREATE A MAJOR PERFORMANCE LOSS, BUT IS RATHER HARD TO NOTICE AT FIRST.\\r\\nTHANKFULLY THERE IS AN EASY FIX. JUST FINALIZE YOUR GRAPH BEFORE STARTING YOUR\\r\\nTRAINING LOOP BY CALLING TF.GETDEFAULTGRAPH().FINALIZE() . THIS WILL LOCK THE GRAPH AND ANY ATTEMPTS TO ADD A NEW OPERATION WILL THROW\\r\\nAN ERROR. EXACTLY WHAT WE WANT.\\r\\n\\r\\nPROFILE YOUR GRAPH\\r\\nA LESS PROMINENTLY ADVERTISED FEATURE OF TENSORFLOW IS PROFILING. THERE IS A\\r\\nMECHANISM TO RECORD RUN TIMES AND MEMORY CONSUMPTION OF YOUR GRAPHS OPERATIONS.\\r\\nTHIS CAN COME IN HANDY IF YOU ARE LOOKING FOR BOTTLENECKS OR NEED TO FIND OUT IF\\r\\nA MODEL CAN BE TRAINED ON YOUR MACHINE WITHOUT SWAPPING TO THE HARD DRIVE.\\r\\n\\r\\nTO GENERATE PROFILING DATA YOU NEED TO PERFORM A SINGLE RUN THROUGH YOUR GRAPH\\r\\nWITH TRACING ENABLED:\\r\\n\\r\\n# COLLECT TRACING INFORMATION DURING THE FIFTH STEP.\\r\\nIF GLOBAL_STEP == 5:\\r\\n    # CREATE AN OBJECT TO HOLD THE TRACING DATA\\r\\n    RUN_METADATA = TF.RUNMETADATA()\\r\\n\\r\\n    # RUN ONE STEP AND COLLECT THE TRACING DATA\\r\\n    _, LOSS = SESS.RUN([TRAIN_OP, LOSS_OP], OPTIONS=TF.RUNOPTIONS(TRACE_LEVEL=TF.RUNOPTIONS.FULL_TRACE),\\r\\n        RUN_METADATA=RUN_METADATA)\\r\\n\\r\\n    # ADD SUMMARY TO THE SUMMARY WRITER\\r\\n    SUMMARY_WRITER.ADD_RUN_METADATA(RUN_METADATA, 'STEP%D', GLOBAL_STEP)\\r\\n\\r\\n\\r\\nAFTERWARDS A TIMELINE.JSON FILE IS SAVED TO THE CURRENT FOLDER AND THE TRACING DATA BECOME AVAILABLE IN\\r\\nTENSORBOARD. YOU CAN NOW EASILY SEE, HOW LONG AN OPERATION TAKES TO COMPUTE AND\\r\\nHOW MUCH MEMORY IT CONSUMES. JUST OPEN THE GRAPH VIEW IN TENSORBOARD, SELECT\\r\\nYOUR LATEST RUN ON THE LEFT AND YOU SHOULD SEE PERFORMANCE DETAILS ON THE RIGHT.\\r\\nON THE ONE HAND, THIS ALLOWS YOU TO ADJUST YOUR MODEL IN ORDER TO USE YOUR\\r\\nMACHINE AS MUCH AS POSSIBLE, ON THE OTHER HAND, IT LETS YOU FIND BOTTLENECKS IN\\r\\nYOUR TRAINING PIPELINE. IF YOU PREFER A TIMELINE VIEW, YOU CAN LOAD THE TIMELINE.JSON FILE IN GOOGLE CHROMES TRACE EVENT PROFILING TOOL .\\r\\n\\r\\nANOTHER NICE TOOL IS TFPROF , WHICH MAKES USE OF THE SAME FUNCTIONALITY FOR MEMORY AND EXECUTION TIME\\r\\nPROFILING, BUT OFFERS MORE CONVENIENCE FEATURES. ADDITIONAL STATISTICS REQUIRE\\r\\nCODE CHANGES.\\r\\n\\r\\nWATCH YOUR MEMORY\\r\\nPROFILING, AS EXPLAINED IN THE PREVIOUS SECTION, ALLOWS YOU TO KEEP AN EYE ON\\r\\nTHE MEMORY USAGE OF PARTICULAR OPERATIONS, BUT WATCHING YOUR WHOLE MODELS MEMORY\\r\\nCONSUMPTION IS EVEN MORE IMPORTANT. ALWAYS MAKE SURE, THAT YOU DON'T EXCEED YOUR\\r\\nMACHINE'S MEMORY, AS SWAPPING WILL MOST CERTAINLY SLOW DOWN YOUR INPUT PIPELINE\\r\\nAND YOUR GPU STARTS WAITING FOR NEW DATA. A SIMPLE TOP OR, AS EXPLAINED IN ONE OF THE PREVIOUS SECTIONS, THE QUEUE GRAPHS IN\\r\\nTENSORBOARD SHOULD BE SUFFICIENT FOR DETECTING SUCH BEHAVIOR. DETAILED\\r\\nINVESTIGATION CAN THEN BE DONE USING THE AFOREMENTIONED TRACING.\\r\\n\\r\\nDEBUGGING\\r\\nPRINT IS YOUR FRIEND\\r\\nMY MAIN TOOL FOR DEBUGGING ISSUES LIKE STAGNATING LOSS OR STRANGE OUTPUTS IS TF.PRINT . DUE TO THE NATURE OF NEURAL NETWORKS, LOOKING AT THE RAW VALUES OF TENSORS\\r\\nINSIDE OF YOUR MODEL USUALLY DOESN'T MAKE MUCH SENSE. NOBODY CAN INTERPRET\\r\\nMILLIONS OF FLOATING POINT NUMBERS AND SEE WHATS WRONG. BUT ESPECIALLY PRINTING\\r\\nOUT SHAPES OR MEAN VALUES CAN GIVE GREAT INSIGHTS. IF YOU ARE TRYING TO\\r\\nIMPLEMENT SOME EXISTING MODEL, THIS ALLOWS YOU TO COMPARE YOUR MODEL'S VALUES TO\\r\\nTHE ONES IN THE PAPER OR ARTICLE AND CAN HELP YOU SOLVE TRICKY ISSUES OR EXPOSE\\r\\nTYPOS IN PAPERS.\\r\\n\\r\\nWITH TENSORFLOW 1.0 WE HAVE BEEN GIVEN THE NEW TFDEBUGGER , WHICH LOOKS VERY PROMISING. I HAVEN'T USED IT YET, BUT WILL DEFINITELY TRY IT\\r\\nOUT IN THE COMING WEEKS.\\r\\n\\r\\nSET AN OPERATION EXECUTION TIMEOUT\\r\\nYOU HAVE IMPLEMENTED YOUR MODEL, LAUNCH YOUR SESSION AND NOTHING HAPPENS? THIS\\r\\nIS USUALLY CAUSED BY EMPTY QUEUES, BUT IF YOU HAVE NO IDEA, WHICH QUEUE COULD BE\\r\\nRESPONSIBLE FOR THE MISHAP THERE IS AN EASY FIX: JUST ENABLE THE OPERATION\\r\\nEXECUTION TIMEOUT WHEN CREATING YOUR SESSION AND YOUR SCRIPT WILL CRASH WHEN AN\\r\\nOPERATION EXCEEDS YOUR LIMIT:\\r\\n\\r\\nCONFIG = TF.CONFIGPROTO()\\r\\nCONFIG.OPERATION_TIMEOUT_IN_MS=5000\\r\\nSESS = TF.SESSION(CONFIG=CONFIG)\\r\\n\\r\\n\\r\\nUSING THE STACK TRACE YOU CAN THEN FIND OUT, WHICH OP CAUSES YOUR HEADACHE, FIX\\r\\nTHE ERROR AND TRAIN ON.\\r\\n\\r\\n\\r\\n--------------------------------------------------------------------------------\\r\\n\\r\\nI HOPE I COULD HELP SOME OF MY FELLOW TENSORFLOW CODERS. IF YOU FOUND AN ERROR,\\r\\nHAVE MORE TIPS OR JUST WANT TO GET IN TOUCH, PLEASE SEND ME AN EMAIL!\\r\\n\\r\\n\\r\\nSIGN UP TO RECEIVE MORE CONTENT LIKE THIS PLUS INDUSTRY NEWS, CODE AND TUTORIALS EVERY WEEK FRESH TO YOUR INBOX.\\r\\nNo spam. One-click unsubscribe.\",\n          \"Homepage Stats and Bots Follow Sign in Get started * Home\\r\\n * DATA SCIENCE\\r\\n * ANALYTICS\\r\\n * STARTUPS\\r\\n * BOTS\\r\\n * DESIGN\\r\\n * Subscribe\\r\\n * \\r\\n * \\ud83e\\udd16 TRY STATSBOT FREE\\r\\n * \\r\\n\\r\\nEduard Tyantov Blocked Unblock Follow Following Mail.ru Group, Head of Machine Learning Team Dec 21, 2017\\r\\n--------------------------------------------------------------------------------\\r\\n\\r\\nDEEP LEARNING ACHIEVEMENTS OVER THE PAST YEAR\\r\\nGREAT DEVELOPMENTS IN TEXT, VOICE, AND COMPUTER VISION TECHNOLOGIES\\r\\nAt Statsbot , we\\u2019re constantly reviewing the deep learning achievements to improve our\\r\\nmodels and product. Around Christmas time, our team decided to take stock of the\\r\\nrecent achievements in deep learning over the past year (and a bit longer). We\\r\\ntranslated the article by a data scientist, Ed Tyantov, to tell you about the\\r\\nmost significant developments that can affect our future.\\r\\n\\r\\n1. TEXT\\r\\n1.1. GOOGLE NEURAL MACHINE TRANSLATION\\r\\nAlmost a year ago, Google announced the launch of a new model for Google Translate . The company described in detail the network architecture \\u2014 Recurrent Neural Network (RNN).\\r\\n\\r\\nMachine Learning Translation and the Google Translate Algorithm The basic\\r\\nprinciples of machine translation engines blog.statsbot.coThe key outcome: closing down the gap with humans in accuracy of the translation\\r\\nby 55\\u201385% (estimated by people on a 6-point scale). It is difficult to reproduce\\r\\ngood results with this model without the huge dataset that Google has.\\r\\n\\r\\n1.2. NEGOTIATIONS. WILL THERE BE A DEAL?\\r\\nYou probably heard the silly news that Facebook turned off its chatbot , which went out of control and made up its own language. This chatbot was\\r\\ncreated by the company for negotiations. Its purpose is to conduct text\\r\\nnegotiations with another agent and reach a deal: how to divide items (books,\\r\\nhats, etc.) by two. Each agent has his own goal in the negotiations that the\\r\\nother does not know about. It\\u2019s impossible to leave the negotiations without a\\r\\ndeal.\\r\\n\\r\\nFor training, they collected a dataset of human negotiations and trained a\\r\\nsupervised recurrent network. Then, they took a reinforcement learning trained\\r\\nagent and trained it to talk with itself, setting a limit \\u2014 the similarity of\\r\\nthe language to human.\\r\\n\\r\\nThe bot has learned one of the real negotiation strategies \\u2014 showing a fake\\r\\ninterest in certain aspects of the deal, only to give up on them later and\\r\\nbenefit from its real goals. It has been the first attempt to create such an\\r\\ninteractive bot, and it was quite successful.\\r\\n\\r\\nFull story is in this article , and the code is publicly available .\\r\\n\\r\\nCertainly, the news that the bot has allegedly invented a language was inflated\\r\\nfrom scratch. When training (in negotiations with the same agent), they disabled\\r\\nthe restriction of the similarity of the text to human, and the algorithm\\r\\nmodified the language of interaction. Nothing unusual.\\r\\n\\r\\nCreepiest Stories in Artificial Intelligence Development Scary things about AI:\\r\\nfrom virtual cannibalism to racist monsters blog.statsbot.coOver the past year, recurrent networks have been actively developed and used in\\r\\nmany tasks and applications. The architecture of RNNs has become much more\\r\\ncomplicated, but in some areas similar results were achieved by simple\\r\\nfeedforward-networks \\u2014 DSSM . For example, Google has reached the same quality , as with LSTM previously, for its mail feature Smart Reply. In addition,\\r\\nYandex launched a new search engine based on such networks.\\r\\n\\r\\n2. VOICE\\r\\n2.1. WAVENET: A GENERATIVE MODEL FOR RAW AUDIO\\r\\nEmployees of DeepMind reported in their article about generating audio. Briefly, researchers made an autoregressive\\r\\nfull-convolution WaveNet model based on previous approaches to image generation\\r\\n( PixelRNN and PixelCNN ).\\r\\n\\r\\nThe network was trained end-to-end: text for the input, audio for the output.\\r\\nThe researches got an excellent result as the difference compared to human has\\r\\nbeen reduced by 50%.\\r\\n\\r\\nThe main disadvantage of the network is a low productivity as, because of the\\r\\nautoregression, sounds are generated sequentially and it takes about 1\\u20132 minutes\\r\\nto create one second of audio.\\r\\n\\r\\nLook at\\u2026 sorry, hear this example.\\r\\n\\r\\nIf you remove the dependence of the network on the input text and leave only the\\r\\ndependence on the previously generated phoneme, then the network will generate\\r\\nphonemes similar to the human language, but they will be meaningless.\\r\\n\\r\\nHear the example of the generated voice.\\r\\n\\r\\nThis same model can be applied not only to speech, but also, for example, to\\r\\ncreating music. Imagine audio generated by the model , which was taught using the dataset of a piano game (again without any\\r\\ndependence on the input data).\\r\\n\\r\\nRead a full version of DeepMind research if you\\u2019re interested.\\r\\n\\r\\n2.2. LIP READING\\r\\nLip reading is another deep learning achievement and victory over humans.\\r\\n\\r\\nGoogle Deepmind, in collaboration with Oxford University, reported in the\\r\\narticle, \\u201cLip Reading Sentences in the Wild\\u201d on how their model, which had been trained on a television dataset, was able to\\r\\nsurpass the professional lip reader from the BBC channel.\\r\\n\\r\\nThere are 100,000 sentences with audio and video in the dataset. Model: LSTM on\\r\\naudio, and CNN + LSTM on video. These two state vectors are fed to the final\\r\\nLSTM, which generates the result (characters).\\r\\n\\r\\nDifferent types of input data were used during training: audio, video, and audio\\r\\n+ video. In other words, it is an \\u201comnichannel\\u201d model.\\r\\n\\r\\n2.3. SYNTHESIZING OBAMA: SYNCHRONIZATION OF THE LIP MOVEMENT FROM AUDIO\\r\\nThe University of Washington has done a serious job of generating the lip movements of former US President Obama. The choice fell\\r\\non him due to the huge number of his performance recordings online (17 hours of\\r\\nHD video).\\r\\n\\r\\nThey couldn\\u2019t get along with just the network as they got too many artifacts.\\r\\nTherefore, the authors of the article made several crutches (or tricks, if you\\r\\nlike) to improve the texture and timings.\\r\\n\\r\\nYou can see that the results are amazing . Soon, you couldn\\u2019t trust even the video with the president.\\r\\n\\r\\n3. COMPUTER VISION\\r\\n3.1. OCR: GOOGLE MAPS AND STREET VIEW\\r\\nIn their post and article , Google Brain Team reported on how they introduced a new OCR (Optical\\r\\nCharacter Recognition) engine into its Maps, through which street signs and\\r\\nstore signs are recognized.\\r\\n\\r\\nIn the process of technology development, the company compiled a new FSNS (French Street Name Signs), which contains many complex cases.\\r\\n\\r\\nTo recognize each sign, the network uses up to four of its photos. The features\\r\\nare extracted with the CNN, scaled with the help of the spatial attention (pixel\\r\\ncoordinates are taken into account), and the result is fed to the LSTM.\\r\\n\\r\\nThe same approach is applied to the task of recognizing store names on\\r\\nsignboards (there can be a lot of \\u201cnoise\\u201d data, and the network itself must\\r\\n\\u201cfocus\\u201d in the right places). This algorithm was applied to 80 billion photos.\\r\\n\\r\\n3.2. VISUAL REASONING\\r\\nThere is a type of task called visual reasoning, where a neural network is asked\\r\\nto answer a question using a photo. For example: \\u201cIs there a same size rubber\\r\\nthing in the picture as a yellow metal cylinder?\\u201d The question is truly\\r\\nnontrivial, and until recently, the problem was solved with an accuracy of only\\r\\n68.5%.\\r\\n\\r\\nAnd again the breakthrough was achieved by the team from Deepmind: on the CLEVR dataset they reached a super-human accuracy of 95.5% .\\r\\n\\r\\nThe network architecture is very interesting:\\r\\n\\r\\n 1. Using the pre-trained LSTM on the text question, we get the embedding of the\\r\\n    question.\\r\\n 2. Using the CNN (just four layers) with the picture, we get feature maps\\r\\n    (features that characterize the picture).\\r\\n 3. Next, we form pairwise combinations of coordinatewise slices on the feature\\r\\n    maps (yellow, blue, red in the picture below), adding coordinates and text\\r\\n    embedding to each of them.\\r\\n 4. We drive all these triples through another network and sum up.\\r\\n 5. The resulting presentation is run through another feedforward network, which\\r\\n    provides the answer on the softmax.\\r\\n\\r\\n3.3. PIX2CODE\\r\\nAn interesting application of neural networks was created by the company Uizard : generating a layout code according to a screenshot from the interface\\r\\ndesigner.\\r\\n\\r\\nThis is an extremely useful application of neural networks, which can make life\\r\\neasier when developing software. The authors claim that they reached 77%\\r\\naccuracy. However, this is still under research and there is no talk on real\\r\\nusage yet.\\r\\n\\r\\nThere is no code or dataset in open source, but they promise to upload it.\\r\\n\\r\\n3.4. SKETCHRNN: TEACHING A MACHINE TO DRAW\\r\\nPerhaps you\\u2019ve seen Quick, Draw! from Google, where the goal is to draw sketches of various objects in 20\\r\\nseconds. The corporation collected this dataset in order to teach the neural\\r\\nnetwork to draw, as Google described in their blog and article .\\r\\n\\r\\nThe collected dataset consists of 70 thousand sketches, which eventually became publicly available . Sketches are not pictures, but detailed vector representations of drawings\\r\\n(at which point the user pressed the \\u201cpencil,\\u201d released where the line was\\r\\ndrawn, and so on).\\r\\n\\r\\nResearchers have trained the Sequence-to-Sequence Variational Autoencoder (VAE)\\r\\nusing RNN as a coding/decoding mechanism.\\r\\n\\r\\nEventually, as befits the auto-encoder, the model received a latent vector that\\r\\ncharacterizes the original picture.\\r\\n\\r\\nWhereas the decoder can extract a drawing from this vector, you can change it\\r\\nand get new sketches.\\r\\n\\r\\nAnd even perform vector arithmetic to create a catpig:\\r\\n\\r\\n3.5. GANS\\r\\nOne of the hottest topics in Deep Learning is Generative Adversarial Networks\\r\\n(GANs). Most often, this idea is used to work with images, so I will explain the\\r\\nconcept using them.\\r\\n\\r\\nGenerative Adversarial Networks (GANs): Engine and Applications How generative\\r\\nadversarial nets are used to make our life better blog.statsbot.coThe idea is in the competition of two networks \\u2014 the generator and the\\r\\ndiscriminator. The first network creates a picture, and the second one tries to\\r\\nunderstand whether the picture is real or generated.\\r\\n\\r\\nSchematically it looks like this:\\r\\n\\r\\nDuring training, the generator from a random vector (noise) generates an image\\r\\nand feeds it to the input of the discriminator, which says whether it is fake or\\r\\nnot. The discriminator is also given real images from the dataset.\\r\\n\\r\\nIt is difficult to train such construction, as it is hard to find the\\r\\nequilibrium point of two networks. Most often the discriminator wins and the\\r\\ntraining stagnates. However, the advantage of the system is that we can solve\\r\\nproblems in which it is difficult for us to set the loss-function (for example,\\r\\nimproving the quality of the photo) \\u2014 we give it to the discriminator.\\r\\n\\r\\nA classic example of the GAN training result is pictures of bedrooms or people\\r\\n\\r\\nPreviously, we considered the auto-coding (Sketch-RNN), which encodes the\\r\\noriginal data into a latent representation. The same thing happens with the\\r\\ngenerator.\\r\\n\\r\\nThe idea of generating an image using a vector is clearly shown in this project in the example of faces. You can change the vector and see how the faces\\r\\nchange.\\r\\n\\r\\nThe same arithmetic works over the latent space: \\u201ca man in glasses\\u201d minus \\u201ca\\r\\nman\\u201d plus a \\u201cwoman\\u201d is equal to \\u201ca woman with glasses.\\u201d\\r\\n\\r\\n3.6. CHANGING FACE AGE WITH GANS\\r\\nIf you teach a controlled parameter to the latent vector during training, when\\r\\nyou generate it, you can change it and so manage the necessary image in the\\r\\npicture. This approach is called conditional GAN.\\r\\n\\r\\nSo did the authors of the article, \\u201cFace Aging With Conditional Generative Adversarial Networks.\\u201d Having trained the engine on the IMDB dataset with a known age of actors, the\\r\\nresearchers were given the opportunity to change the face age of the person.\\r\\n\\r\\n3.7. PROFESSIONAL PHOTOS\\r\\nGoogle has found another interesting application to GAN \\u2014 the choice and improvement of photos. GAN was trained on a professional photo\\r\\ndataset: the generator is trying to improve bad photos (professionally shot and\\r\\ndegraded with the help of special filters), and the discriminator \\u2014 to\\r\\ndistinguish \\u201cimproved\\u201d photos and real professional ones.\\r\\n\\r\\nA trained algorithm went through Google Street View panoramas in search of the\\r\\nbest composition and received some pictures of professional and\\r\\nsemi-professional quality (as per photographers\\u2019 rating).\\r\\n\\r\\n3.8. SYNTHESIZATION OF AN IMAGE FROM A TEXT DESCRIPTION\\r\\nAn impressive example of GANs is generating images using text.\\r\\n\\r\\nThe authors of this research suggest embedding text into the input of not only a generator (conditional\\r\\nGAN), but also a discriminator, so that it verifies the correspondence of the\\r\\ntext to the picture. In order to make sure the discriminator learned to perform\\r\\nhis function, in addition to training they added pairs with an incorrect text\\r\\nfor the real pictures.\\r\\n\\r\\n3.9. PIX2PIX\\r\\nOne of the eye-catching articles of 2016 is, \\u201cImage-to-Image Translation with Conditional Adversarial Networks\\u201d by Berkeley AI Research (BAIR). Researchers solved the problem of\\r\\nimage-to-image generation, when, for example, it was required to create a map\\r\\nusing a satellite image, or realistic texture of the objects using their sketch.\\r\\n\\r\\nHere is another example of the successful performance of conditional GANs. In\\r\\nthis case, the condition goes to the whole picture. Popular in image\\r\\nsegmentation, UNet was used as the architecture of the generator, and a new\\r\\nPatchGAN classifier was used as a discriminator for combating blurred images\\r\\n(the picture is cut into N patches, and the prediction of fake/real goes for\\r\\neach of them separately).\\r\\n\\r\\nChristopher Hesse made the nightmare cat demo, which attracted great interest from the users.\\r\\n\\r\\nYou can find a source code here.\\r\\n\\r\\n3.10. CYCLEGAN\\r\\nIn order to apply Pix2Pix, you need a dataset with the corresponding pairs of\\r\\npictures from different domains. In the case, for example, with cards, it is not\\r\\na problem to assemble such a dataset. However, if you want to do something more\\r\\ncomplicated like \\u201ctransfiguring\\u201d objects or styling, then pairs of objects\\r\\ncannot be found in principle.\\r\\n\\r\\nTherefore, authors of Pix2Pix decided to develop their idea and came up with\\r\\nCycleGAN for transfer between different domains of images without specific pairs\\r\\n\\u2014 \\u201cUnpaired Image-to-Image Translation.\\u201d\\r\\n\\r\\nThe idea is to teach two pairs of generator-discriminators to transfer the image\\r\\nfrom one domain to another and back, while we require a cycle consistency \\u2014\\r\\nafter a sequential application of the generators, we should get an image similar\\r\\nto the original L1 loss. A cyclic loss is required to ensure that the generator\\r\\ndid not just begin to transfer pictures of one domain to pictures from another\\r\\ndomain, which are completely unrelated to the original image.\\r\\n\\r\\nThis approach allows you to learn the mapping of horses -> zebras.\\r\\n\\r\\nSuch transformations are unstable and often create unsuccessful options:\\r\\n\\r\\nYou can find a source code here.\\r\\n\\r\\n3.11. DEVELOPMENT OF MOLECULES IN ONCOLOGY\\r\\nMachine learning is now coming to medicine. In addition to recognizing\\r\\nultrasound, MRI, and diagnosis, it can be used to find new drugs to fight\\r\\ncancer.\\r\\n\\r\\nWe already reported in detail about this research . Briefly, with the help of Adversarial Autoencoder (AAE), you can learn the\\r\\nlatent representation of molecules and then use it to search for new ones. As a\\r\\nresult, 69 molecules were found, half of which are used to fight cancer, and the\\r\\nothers have serious potential.\\r\\n\\r\\n3.12. ADVERSARIAL-ATTACKS\\r\\nTopics with adversarial-attacks are actively explored. What are\\r\\nadversarial-attacks? Standard networks trained, for example, on ImageNet, are\\r\\ncompletely unstable when adding special noise to the classified picture. In the\\r\\nexample below, we see that the picture with noise for the human eye is\\r\\npractically unchanged, but the model goes crazy and predicts a completely\\r\\ndifferent class.\\r\\n\\r\\nStability is achieved with, for example, the Fast Gradient Sign Method (FGSM):\\r\\nhaving access to the parameters of the model, you can make one or several gradient steps towards the desired class and change the original picture.\\r\\n\\r\\nOne of the tasks on Kaggle is related to this: the participants are encouraged to create universal\\r\\nattacks/defenses, which are all eventually run against each other to determine\\r\\nthe best.\\r\\n\\r\\nWhy should we even investigate these attacks? First, if we want to protect our\\r\\nproducts, we can add noise to the captcha to prevent spammers from recognizing\\r\\nit automatically. Secondly, algorithms are more and more involved in our lives \\u2014\\r\\nface recognition systems and self-driving cars. In this case, attackers can use\\r\\nthe shortcomings of the algorithms.\\r\\n\\r\\nHere is an example of when special glasses allow you to deceive the face\\r\\nrecognition system and \\u201cpass yourself off as another person.\\u201d So, we need to\\r\\ntake possible attacks into account when teaching models.\\r\\n\\r\\nSuch manipulations with signs also do not allow them to be recognized correctly.\\r\\n\\r\\n\\u2022 A set of articles from the organizers of the contest.\\r\\n\\u2022 Already written libraries for attacks: cleverhans and foolbox.\\r\\n\\r\\n4. REINFORCEMENT LEARNING\\r\\nReinforcement learning (RL), or learning with reinforcement is also one of the\\r\\nmost interesting and actively developing approaches in machine learning.\\r\\n\\r\\nThe essence of the approach is to learn the successful behavior of the agent in\\r\\nan environment that gives a reward through experience \\u2014 just as people learn\\r\\nthroughout their lives.\\r\\n\\r\\nRL is actively used in games, robots, and system management (traffic, for\\r\\nexample).\\r\\n\\r\\nOf course, everyone has heard about AlphaGo\\u2019s victories in the game over the best professionals . Researchers were using RL for training: the bot played with itself to improve\\r\\nits strategies.\\r\\n\\r\\n4.1. REINFORCEMENT TRAINING WITH UNCONTROLLED AUXILIARY TASKS\\r\\nIn previous years, DeepMind had learned using DQN to play arcade games better than humans. Currently, algorithms are being taught\\r\\nto play more complex games like Doom .\\r\\n\\r\\nMuch of the attention is paid to learning acceleration because experience of the\\r\\nagent in interaction with the environment requires many hours of training on\\r\\nmodern GPUs.\\r\\n\\r\\nIn his blog, Deepmind reported that the introduction of additional losses (auxiliary tasks), such as the\\r\\nprediction of a frame change (pixel control) so that the agent better\\r\\nunderstands the consequences of the actions, significantly speeds up learning.\\r\\n\\r\\nLearning results:\\r\\n\\r\\n4.2. Learning robots\\r\\nIn OpenAI, they have been actively studying an agent\\u2019s training by humans in a\\r\\nvirtual environment, which is safer for experiments than in real life.\\r\\n\\r\\nIn one of the studies , the team showed that one-shot learning is possible: a person shows in VR how\\r\\nto perform a certain task, and one demonstration is enough for the algorithm to\\r\\nlearn it and then reproduce it in real conditions.\\r\\n\\r\\nIf only it was so easy with people. :)\\r\\n\\r\\n4.3. LEARNING ON HUMAN PREFERENCES\\r\\nHere is the work of OpenAI and DeepMind on the same topic . The bottom line is that an agent has a task, the algorithm provides two\\r\\npossible solutions for the human and indicates which one is better. The process\\r\\nis repeated iteratively and the algorithm for 900 bits of feedback (binary\\r\\nmarkup) from the person learned how to solve the problem.\\r\\n\\r\\nAs always, the human must be careful and think of what he is teaching the\\r\\nmachine. For example, the evaluator decided that the algorithm really wanted to\\r\\ntake the object, but in fact, he just simulated this action.\\r\\n\\r\\n4.4. MOVEMENT IN COMPLEX ENVIRONMENTS\\r\\nThere is another study from DeepMind . To teach the robot complex behavior (walk, jump, etc.), and even do it\\r\\nsimilar to the human, you have to be heavily involved with the choice of the\\r\\nloss function, which will encourage the desired behavior. However, it would be\\r\\npreferable that the algorithm learned complex behavior itself by leaning with\\r\\nsimple rewards.\\r\\n\\r\\nResearchers managed to achieve this: they taught agents (body emulators) to\\r\\nperform complex actions by constructing a complex environment with obstacles and\\r\\nwith a simple reward for progress in movement.\\r\\n\\r\\nYou can watch the impressive video with results . However, it\\u2019s much more fun to watch it with a superimposed sound!\\r\\n\\r\\nFinally, I will give a link to the recently published algorithms for learning RL from OpenAI . Now you can use more advanced solutions than the standard DQN.\\r\\n\\r\\n5. OTHER\\r\\n5.1. COOLING THE DATA CENTER\\r\\nIn July 2017, Google reported that it took advantage of DeepMind\\u2019s development in machine learning to reduce the energy costs of its data center.\\r\\n\\r\\nBased on the information from thousands of sensors in the data center, Google\\r\\ndevelopers trained a neural network ensemble to predict PUE (Power Usage\\r\\nEffectiveness) and more efficient data center management. This is an impressive\\r\\nand significant example of the practical application of ML.\\r\\n\\r\\n5.2. ONE MODEL FOR ALL TASKS\\r\\nAs you know, trained models are poorly transferred from task to task, as each\\r\\ntask has to be trained for a specific model. A small step towards the\\r\\nuniversality of the models was done by Google Brain in his article \\u201cOne Model To Learn The All.\\u201d\\r\\n\\r\\nResearchers have trained a model that performs eight tasks from different\\r\\ndomains (text, speech, and images). For example, translation from different\\r\\nlanguages, text parsing, and image and sound recognition.\\r\\n\\r\\nIn order to achieve this, they built a complex network architecture with various\\r\\nblocks to process different input data and generate a result. The blocks for the\\r\\nencoder/decoder fall into three types: convolution, attention, and gated mixture of experts (MoE).\\r\\n\\r\\nMain results of learning:\\r\\n\\r\\n * Almost perfect models were obtained (the authors did not fine tune the\\r\\n   hyperparameters).\\r\\n * There is a transfer of knowledge between different domains, that is, on tasks\\r\\n   with a lot of data, the performance will be almost the same. And it is better\\r\\n   on small problems (for example, on parsing).\\r\\n * Blocks needed for different tasks do not interfere with each other and even\\r\\n   sometimes help, for example, MoE \\u2014 for the Imagenet task.\\r\\n\\r\\nBy the way, this model is present in tensor2tensor .\\r\\n\\r\\n5.3. LEARNING ON IMAGENET IN ONE HOUR\\r\\nIn their post, Facebook staff told us how their engineers were able to teach the\\r\\nResnet-50 model on Imagenet in just one hour. Truth be told, this required a\\r\\ncluster of 256 GPUs (Tesla P100).\\r\\n\\r\\nThey used Gloo and Caffe2 for distributed learning . To make the process effective, it was necessary to adapt the learning\\r\\nstrategy with a huge batch (8192 elements): gradient averaging, warm-up phase,\\r\\nspecial learning rate, etc.\\r\\n\\r\\nAs a result, it was possible to achieve an efficiency of 90% when scaling from 8\\r\\nto 256 GPU. Now researchers from Facebook can experiment even faster, unlike\\r\\nmere mortals without such a cluster.\\r\\n\\r\\n6. NEWS\\r\\n6.1. SELF-DRIVING CARS\\r\\nThe self-driving car sphere is intensively developing, and the cars are actively\\r\\ntested. From the relatively recent events, we can note the purchase of Intel\\r\\nMobilEye, the scandals around Uber and Google technologies stolen by their former\\r\\nemployee , the first death when using an autopilot , and much more.\\r\\n\\r\\nI will note one thing: Google Waymo is launching a beta program . Google is a pioneer in this field, and it is assumed that their technology is\\r\\nvery good because cars have been driven more than 3 million miles.\\r\\n\\r\\nAs to more recent events, self-driving cars have been allowed to travel across\\r\\nall US states.\\r\\n\\r\\n6.2. HEALTHCARE\\r\\nAs I said, modern ML is beginning to be introduced into medicine. For example, Google collaborates with a medical center to help with diagnosis.\\r\\n\\r\\nDeepmind has even established a separate unit.\\r\\n\\r\\nThis year, under the program of the Data Science Bowl, there was a competition held to predict lung cancer in a year on the basis of detailed images with a prize fund of one million dollars.\\r\\n\\r\\n6.3. INVESTMENTS\\r\\nCurrently, there are heavy investments in ML as it was before with BigData.\\r\\n\\r\\nChina invested $150 billion in AI to become the world leader in the industry.\\r\\n\\r\\nFor comparison, Baidu Research employs 1,300 people, and in the same FAIR\\r\\n(Facebook) \\u2014 80. At the last KDD, Alibaba employees talked about their parameter\\r\\nserver KungPeng , which runs on 100 billion samples with a trillion parameters, which \\u201cbecomes\\r\\na common task\\u201d \\u00a9.\\r\\n\\r\\nYou can draw your own conclusions, it\\u2019s never too late to study machine learning . In one way or another, over time, all developers will use machine learning,\\r\\nwhich will become one of the common skills, as it is today \\u2014 the ability to work\\r\\nwith databases.\\r\\n\\r\\nLink to the original post .\\r\\n\\r\\nYOU\\u2019D ALSO LIKE:\\r\\nSQL Window Functions Tutorial for Business Analysis The most popular business\\r\\nproblems solved with SQL blog.statsbot.co A Guide for Customer Retention Analysis with SQL How to make customer retention\\r\\ncurves and cohort analysis the right way blog.statsbot.co SQL Queries for Funnel Analysis A template for building SQL funnel queries\\r\\nblog.statsbot.co * Machine Learning\\r\\n * Deep Learning\\r\\n * Data Science\\r\\n * AI\\r\\n * Computer Vision\\r\\n\\r\\nOne clap, two clap, three clap, forty?By clapping more or less, you can signal to us which stories really stand out.\\r\\n\\r\\n3.9K 9 Blocked Unblock Follow FollowingEDUARD TYANTOV\\r\\nMail.ru Group, Head of Machine Learning Team\\r\\n\\r\\nFollowSTATS AND BOTS\\r\\nData stories on machine learning and analytics. From Statsbot\\u2019s makers.\\r\\n\\r\\n * 3.9K\\r\\n * \\r\\n * \\r\\n * \\r\\n\\r\\nNever miss a story from Stats and Bots , when you sign up for Medium. Learn more Never miss a story from Stats and Bots Get updates Get updates\"\n        ],\n        \"semantic_type\": \"\",\n        \"description\": \"\"\n      }\n    },\n    {\n      \"column\": \"doc_description\",\n      \"properties\": {\n        \"dtype\": \"string\",\n        \"num_unique_values\": 1022,\n        \"samples\": [\n          \"we take a look at long-time Compose customer, Emarsys, who runs Compose-hosted MongoDB, PostgreSQL and Redis for their micro-services architected marketing automation platform.\",\n          \"Python for loops are for iterating through sequences like lists, strings, dictionaries or ranges. In this article, I\\u2019ll show you everything you need to know about them: the syntax, the logic and best practices too!\",\n          \"Cloudant will soon run on the Apache CouchDB 2.0 code base. Today, we're announcing a sandbox cluster for functional testing. Here's what's new.\"\n        ],\n        \"semantic_type\": \"\",\n        \"description\": \"\"\n      }\n    },\n    {\n      \"column\": \"doc_full_name\",\n      \"properties\": {\n        \"dtype\": \"string\",\n        \"num_unique_values\": 1051,\n        \"samples\": [\n          \"How IBM builds an effective data science team\",\n          \"Improved Performance for Redis Cache Mode on Compose\",\n          \"A Moving Average Trading Strategy\"\n        ],\n        \"semantic_type\": \"\",\n        \"description\": \"\"\n      }\n    },\n    {\n      \"column\": \"doc_status\",\n      \"properties\": {\n        \"dtype\": \"category\",\n        \"num_unique_values\": 1,\n        \"samples\": [\n          \"Live\"\n        ],\n        \"semantic_type\": \"\",\n        \"description\": \"\"\n      }\n    },\n    {\n      \"column\": \"article_id\",\n      \"properties\": {\n        \"dtype\": \"number\",\n        \"std\": 303,\n        \"min\": 0,\n        \"max\": 1050,\n        \"num_unique_values\": 1051,\n        \"samples\": [\n          352\n        ],\n        \"semantic_type\": \"\",\n        \"description\": \"\"\n      }\n    }\n  ]\n}"
            }
          },
          "metadata": {},
          "execution_count": 2
        }
      ],
      "source": [
        "# Show df_content to get an idea of the data\n",
        "df_content.head()"
      ]
    },
    {
      "cell_type": "code",
      "source": [
        "df.shape"
      ],
      "metadata": {
        "colab": {
          "base_uri": "https://localhost:8080/"
        },
        "id": "VCItuO9M7xnZ",
        "outputId": "57930974-fe0e-4211-d1e6-cc70a64b664a"
      },
      "execution_count": 3,
      "outputs": [
        {
          "output_type": "execute_result",
          "data": {
            "text/plain": [
              "(45993, 3)"
            ]
          },
          "metadata": {},
          "execution_count": 3
        }
      ]
    },
    {
      "cell_type": "code",
      "source": [
        "df.info()"
      ],
      "metadata": {
        "colab": {
          "base_uri": "https://localhost:8080/"
        },
        "id": "wD24OmViAZkR",
        "outputId": "259c8846-3100-4a1e-8be3-e1c73ebd51a0"
      },
      "execution_count": 4,
      "outputs": [
        {
          "output_type": "stream",
          "name": "stdout",
          "text": [
            "<class 'pandas.core.frame.DataFrame'>\n",
            "RangeIndex: 45993 entries, 0 to 45992\n",
            "Data columns (total 3 columns):\n",
            " #   Column      Non-Null Count  Dtype  \n",
            "---  ------      --------------  -----  \n",
            " 0   article_id  45993 non-null  float64\n",
            " 1   title       45993 non-null  object \n",
            " 2   email       45976 non-null  object \n",
            "dtypes: float64(1), object(2)\n",
            "memory usage: 1.1+ MB\n"
          ]
        }
      ]
    },
    {
      "cell_type": "markdown",
      "metadata": {
        "id": "NEUAaAjf2pAj"
      },
      "source": [
        "### <a class=\"anchor\" id=\"Exploratory-Data-Analysis\">Part I : Exploratory Data Analysis</a>\n",
        "\n",
        "Use the dictionary and cells below to provide some insight into the descriptive statistics of the data.\n",
        "\n",
        "`1.` What is the distribution of how many articles a user interacts with in the dataset?  Provide visual and descriptive statistics to assist with giving a look at the number of times each user interacts with an article.  "
      ]
    },
    {
      "cell_type": "code",
      "source": [
        "# interactions_per_user = df.groupby(['email'])['article_id'].count().values\n",
        "df_2 = df[['article_id', 'email']].groupby('email').count()\n",
        "df_2.describe()"
      ],
      "metadata": {
        "colab": {
          "base_uri": "https://localhost:8080/",
          "height": 300
        },
        "id": "LDKHqaSU3w4V",
        "outputId": "47293491-3594-4088-faff-78f6ad3b777f"
      },
      "execution_count": 5,
      "outputs": [
        {
          "output_type": "execute_result",
          "data": {
            "text/plain": [
              "        article_id\n",
              "count  5148.000000\n",
              "mean      8.930847\n",
              "std      16.802267\n",
              "min       1.000000\n",
              "25%       1.000000\n",
              "50%       3.000000\n",
              "75%       9.000000\n",
              "max     364.000000"
            ],
            "text/html": [
              "\n",
              "  <div id=\"df-adfd773f-4fe9-4a6c-ad71-352edc4ac1c0\" class=\"colab-df-container\">\n",
              "    <div>\n",
              "<style scoped>\n",
              "    .dataframe tbody tr th:only-of-type {\n",
              "        vertical-align: middle;\n",
              "    }\n",
              "\n",
              "    .dataframe tbody tr th {\n",
              "        vertical-align: top;\n",
              "    }\n",
              "\n",
              "    .dataframe thead th {\n",
              "        text-align: right;\n",
              "    }\n",
              "</style>\n",
              "<table border=\"1\" class=\"dataframe\">\n",
              "  <thead>\n",
              "    <tr style=\"text-align: right;\">\n",
              "      <th></th>\n",
              "      <th>article_id</th>\n",
              "    </tr>\n",
              "  </thead>\n",
              "  <tbody>\n",
              "    <tr>\n",
              "      <th>count</th>\n",
              "      <td>5148.000000</td>\n",
              "    </tr>\n",
              "    <tr>\n",
              "      <th>mean</th>\n",
              "      <td>8.930847</td>\n",
              "    </tr>\n",
              "    <tr>\n",
              "      <th>std</th>\n",
              "      <td>16.802267</td>\n",
              "    </tr>\n",
              "    <tr>\n",
              "      <th>min</th>\n",
              "      <td>1.000000</td>\n",
              "    </tr>\n",
              "    <tr>\n",
              "      <th>25%</th>\n",
              "      <td>1.000000</td>\n",
              "    </tr>\n",
              "    <tr>\n",
              "      <th>50%</th>\n",
              "      <td>3.000000</td>\n",
              "    </tr>\n",
              "    <tr>\n",
              "      <th>75%</th>\n",
              "      <td>9.000000</td>\n",
              "    </tr>\n",
              "    <tr>\n",
              "      <th>max</th>\n",
              "      <td>364.000000</td>\n",
              "    </tr>\n",
              "  </tbody>\n",
              "</table>\n",
              "</div>\n",
              "    <div class=\"colab-df-buttons\">\n",
              "\n",
              "  <div class=\"colab-df-container\">\n",
              "    <button class=\"colab-df-convert\" onclick=\"convertToInteractive('df-adfd773f-4fe9-4a6c-ad71-352edc4ac1c0')\"\n",
              "            title=\"Convert this dataframe to an interactive table.\"\n",
              "            style=\"display:none;\">\n",
              "\n",
              "  <svg xmlns=\"http://www.w3.org/2000/svg\" height=\"24px\" viewBox=\"0 -960 960 960\">\n",
              "    <path d=\"M120-120v-720h720v720H120Zm60-500h600v-160H180v160Zm220 220h160v-160H400v160Zm0 220h160v-160H400v160ZM180-400h160v-160H180v160Zm440 0h160v-160H620v160ZM180-180h160v-160H180v160Zm440 0h160v-160H620v160Z\"/>\n",
              "  </svg>\n",
              "    </button>\n",
              "\n",
              "  <style>\n",
              "    .colab-df-container {\n",
              "      display:flex;\n",
              "      gap: 12px;\n",
              "    }\n",
              "\n",
              "    .colab-df-convert {\n",
              "      background-color: #E8F0FE;\n",
              "      border: none;\n",
              "      border-radius: 50%;\n",
              "      cursor: pointer;\n",
              "      display: none;\n",
              "      fill: #1967D2;\n",
              "      height: 32px;\n",
              "      padding: 0 0 0 0;\n",
              "      width: 32px;\n",
              "    }\n",
              "\n",
              "    .colab-df-convert:hover {\n",
              "      background-color: #E2EBFA;\n",
              "      box-shadow: 0px 1px 2px rgba(60, 64, 67, 0.3), 0px 1px 3px 1px rgba(60, 64, 67, 0.15);\n",
              "      fill: #174EA6;\n",
              "    }\n",
              "\n",
              "    .colab-df-buttons div {\n",
              "      margin-bottom: 4px;\n",
              "    }\n",
              "\n",
              "    [theme=dark] .colab-df-convert {\n",
              "      background-color: #3B4455;\n",
              "      fill: #D2E3FC;\n",
              "    }\n",
              "\n",
              "    [theme=dark] .colab-df-convert:hover {\n",
              "      background-color: #434B5C;\n",
              "      box-shadow: 0px 1px 3px 1px rgba(0, 0, 0, 0.15);\n",
              "      filter: drop-shadow(0px 1px 2px rgba(0, 0, 0, 0.3));\n",
              "      fill: #FFFFFF;\n",
              "    }\n",
              "  </style>\n",
              "\n",
              "    <script>\n",
              "      const buttonEl =\n",
              "        document.querySelector('#df-adfd773f-4fe9-4a6c-ad71-352edc4ac1c0 button.colab-df-convert');\n",
              "      buttonEl.style.display =\n",
              "        google.colab.kernel.accessAllowed ? 'block' : 'none';\n",
              "\n",
              "      async function convertToInteractive(key) {\n",
              "        const element = document.querySelector('#df-adfd773f-4fe9-4a6c-ad71-352edc4ac1c0');\n",
              "        const dataTable =\n",
              "          await google.colab.kernel.invokeFunction('convertToInteractive',\n",
              "                                                    [key], {});\n",
              "        if (!dataTable) return;\n",
              "\n",
              "        const docLinkHtml = 'Like what you see? Visit the ' +\n",
              "          '<a target=\"_blank\" href=https://colab.research.google.com/notebooks/data_table.ipynb>data table notebook</a>'\n",
              "          + ' to learn more about interactive tables.';\n",
              "        element.innerHTML = '';\n",
              "        dataTable['output_type'] = 'display_data';\n",
              "        await google.colab.output.renderOutput(dataTable, element);\n",
              "        const docLink = document.createElement('div');\n",
              "        docLink.innerHTML = docLinkHtml;\n",
              "        element.appendChild(docLink);\n",
              "      }\n",
              "    </script>\n",
              "  </div>\n",
              "\n",
              "\n",
              "<div id=\"df-a930be9d-c3fe-4826-b1d2-35ed9eb359ff\">\n",
              "  <button class=\"colab-df-quickchart\" onclick=\"quickchart('df-a930be9d-c3fe-4826-b1d2-35ed9eb359ff')\"\n",
              "            title=\"Suggest charts\"\n",
              "            style=\"display:none;\">\n",
              "\n",
              "<svg xmlns=\"http://www.w3.org/2000/svg\" height=\"24px\"viewBox=\"0 0 24 24\"\n",
              "     width=\"24px\">\n",
              "    <g>\n",
              "        <path d=\"M19 3H5c-1.1 0-2 .9-2 2v14c0 1.1.9 2 2 2h14c1.1 0 2-.9 2-2V5c0-1.1-.9-2-2-2zM9 17H7v-7h2v7zm4 0h-2V7h2v10zm4 0h-2v-4h2v4z\"/>\n",
              "    </g>\n",
              "</svg>\n",
              "  </button>\n",
              "\n",
              "<style>\n",
              "  .colab-df-quickchart {\n",
              "      --bg-color: #E8F0FE;\n",
              "      --fill-color: #1967D2;\n",
              "      --hover-bg-color: #E2EBFA;\n",
              "      --hover-fill-color: #174EA6;\n",
              "      --disabled-fill-color: #AAA;\n",
              "      --disabled-bg-color: #DDD;\n",
              "  }\n",
              "\n",
              "  [theme=dark] .colab-df-quickchart {\n",
              "      --bg-color: #3B4455;\n",
              "      --fill-color: #D2E3FC;\n",
              "      --hover-bg-color: #434B5C;\n",
              "      --hover-fill-color: #FFFFFF;\n",
              "      --disabled-bg-color: #3B4455;\n",
              "      --disabled-fill-color: #666;\n",
              "  }\n",
              "\n",
              "  .colab-df-quickchart {\n",
              "    background-color: var(--bg-color);\n",
              "    border: none;\n",
              "    border-radius: 50%;\n",
              "    cursor: pointer;\n",
              "    display: none;\n",
              "    fill: var(--fill-color);\n",
              "    height: 32px;\n",
              "    padding: 0;\n",
              "    width: 32px;\n",
              "  }\n",
              "\n",
              "  .colab-df-quickchart:hover {\n",
              "    background-color: var(--hover-bg-color);\n",
              "    box-shadow: 0 1px 2px rgba(60, 64, 67, 0.3), 0 1px 3px 1px rgba(60, 64, 67, 0.15);\n",
              "    fill: var(--button-hover-fill-color);\n",
              "  }\n",
              "\n",
              "  .colab-df-quickchart-complete:disabled,\n",
              "  .colab-df-quickchart-complete:disabled:hover {\n",
              "    background-color: var(--disabled-bg-color);\n",
              "    fill: var(--disabled-fill-color);\n",
              "    box-shadow: none;\n",
              "  }\n",
              "\n",
              "  .colab-df-spinner {\n",
              "    border: 2px solid var(--fill-color);\n",
              "    border-color: transparent;\n",
              "    border-bottom-color: var(--fill-color);\n",
              "    animation:\n",
              "      spin 1s steps(1) infinite;\n",
              "  }\n",
              "\n",
              "  @keyframes spin {\n",
              "    0% {\n",
              "      border-color: transparent;\n",
              "      border-bottom-color: var(--fill-color);\n",
              "      border-left-color: var(--fill-color);\n",
              "    }\n",
              "    20% {\n",
              "      border-color: transparent;\n",
              "      border-left-color: var(--fill-color);\n",
              "      border-top-color: var(--fill-color);\n",
              "    }\n",
              "    30% {\n",
              "      border-color: transparent;\n",
              "      border-left-color: var(--fill-color);\n",
              "      border-top-color: var(--fill-color);\n",
              "      border-right-color: var(--fill-color);\n",
              "    }\n",
              "    40% {\n",
              "      border-color: transparent;\n",
              "      border-right-color: var(--fill-color);\n",
              "      border-top-color: var(--fill-color);\n",
              "    }\n",
              "    60% {\n",
              "      border-color: transparent;\n",
              "      border-right-color: var(--fill-color);\n",
              "    }\n",
              "    80% {\n",
              "      border-color: transparent;\n",
              "      border-right-color: var(--fill-color);\n",
              "      border-bottom-color: var(--fill-color);\n",
              "    }\n",
              "    90% {\n",
              "      border-color: transparent;\n",
              "      border-bottom-color: var(--fill-color);\n",
              "    }\n",
              "  }\n",
              "</style>\n",
              "\n",
              "  <script>\n",
              "    async function quickchart(key) {\n",
              "      const quickchartButtonEl =\n",
              "        document.querySelector('#' + key + ' button');\n",
              "      quickchartButtonEl.disabled = true;  // To prevent multiple clicks.\n",
              "      quickchartButtonEl.classList.add('colab-df-spinner');\n",
              "      try {\n",
              "        const charts = await google.colab.kernel.invokeFunction(\n",
              "            'suggestCharts', [key], {});\n",
              "      } catch (error) {\n",
              "        console.error('Error during call to suggestCharts:', error);\n",
              "      }\n",
              "      quickchartButtonEl.classList.remove('colab-df-spinner');\n",
              "      quickchartButtonEl.classList.add('colab-df-quickchart-complete');\n",
              "    }\n",
              "    (() => {\n",
              "      let quickchartButtonEl =\n",
              "        document.querySelector('#df-a930be9d-c3fe-4826-b1d2-35ed9eb359ff button');\n",
              "      quickchartButtonEl.style.display =\n",
              "        google.colab.kernel.accessAllowed ? 'block' : 'none';\n",
              "    })();\n",
              "  </script>\n",
              "</div>\n",
              "\n",
              "    </div>\n",
              "  </div>\n"
            ],
            "application/vnd.google.colaboratory.intrinsic+json": {
              "type": "dataframe",
              "summary": "{\n  \"name\": \"df_2\",\n  \"rows\": 8,\n  \"fields\": [\n    {\n      \"column\": \"article_id\",\n      \"properties\": {\n        \"dtype\": \"number\",\n        \"std\": 1804.0484830748358,\n        \"min\": 1.0,\n        \"max\": 5148.0,\n        \"num_unique_values\": 7,\n        \"samples\": [\n          5148.0,\n          8.930846930846931,\n          9.0\n        ],\n        \"semantic_type\": \"\",\n        \"description\": \"\"\n      }\n    }\n  ]\n}"
            }
          },
          "metadata": {},
          "execution_count": 5
        }
      ]
    },
    {
      "cell_type": "code",
      "execution_count": 6,
      "metadata": {
        "collapsed": true,
        "colab": {
          "base_uri": "https://localhost:8080/",
          "height": 489
        },
        "id": "4lg8Vje-2pAl",
        "outputId": "43892d02-7e85-438b-de94-90157f7c70b4"
      },
      "outputs": [
        {
          "output_type": "execute_result",
          "data": {
            "text/plain": [
              "Text(0, 0.5, '# of users')"
            ]
          },
          "metadata": {},
          "execution_count": 6
        },
        {
          "output_type": "display_data",
          "data": {
            "text/plain": [
              "<Figure size 640x480 with 1 Axes>"
            ],
            "image/png": "[encoded data removed]"
          },
          "metadata": {}
        }
      ],
      "source": [
        "plt.hist(df_2, bins='auto');\n",
        "plt.title('Distribution of user-article interactions')\n",
        "plt.xlabel('# of article interactions per user')\n",
        "plt.ylabel('# of users')"
      ]
    },
    {
      "cell_type": "code",
      "execution_count": 7,
      "metadata": {
        "collapsed": true,
        "id": "GjcvQZJz2pAl"
      },
      "outputs": [],
      "source": [
        "# Fill in the median and maximum number of user_article interactios below\n",
        "\n",
        "median_val = 3 # 50% of individuals interact with ____ number of articles or fewer.\n",
        "max_views_by_user = 364 # The maximum number of user-article interactions by any 1 user is ______."
      ]
    },
    {
      "cell_type": "markdown",
      "metadata": {
        "id": "-3xjUGig2pAn"
      },
      "source": [
        "`2.` Explore and remove duplicate articles from the **df_content** dataframe.  "
      ]
    },
    {
      "cell_type": "code",
      "execution_count": 8,
      "metadata": {
        "collapsed": true,
        "colab": {
          "base_uri": "https://localhost:8080/",
          "height": 293
        },
        "id": "KMCWJNcP2pAo",
        "outputId": "c992f6c6-41c9-444e-e7a7-1db2a9dcd90b"
      },
      "outputs": [
        {
          "output_type": "execute_result",
          "data": {
            "text/plain": [
              "                                              doc_body  \\\n",
              "365  Follow Sign in / Sign up Home About Insight Da...   \n",
              "692  Homepage Follow Sign in / Sign up Homepage * H...   \n",
              "761  Homepage Follow Sign in Get started Homepage *...   \n",
              "970  This video shows you how to construct queries ...   \n",
              "971  Homepage Follow Sign in Get started * Home\\r\\n...   \n",
              "\n",
              "                                       doc_description  \\\n",
              "365  During the seven-week Insight Data Engineering...   \n",
              "692  One of the earliest documented catalogs was co...   \n",
              "761  Today’s world of data science leverages data f...   \n",
              "970  This video shows you how to construct queries ...   \n",
              "971  If you are like most data scientists, you are ...   \n",
              "\n",
              "                                         doc_full_name doc_status  article_id  \n",
              "365                       Graph-based machine learning       Live          50  \n",
              "692  How smart catalogs can turn the big data flood...       Live         221  \n",
              "761  Using Apache Spark as a parallel processing fr...       Live         398  \n",
              "970                              Use the Primary Index       Live         577  \n",
              "971  Self-service data preparation with IBM Data Re...       Live         232  "
            ],
            "text/html": [
              "\n",
              "  <div id=\"df-b9c4d5cc-ce84-4360-ac3c-4444478fe0fc\" class=\"colab-df-container\">\n",
              "    <div>\n",
              "<style scoped>\n",
              "    .dataframe tbody tr th:only-of-type {\n",
              "        vertical-align: middle;\n",
              "    }\n",
              "\n",
              "    .dataframe tbody tr th {\n",
              "        vertical-align: top;\n",
              "    }\n",
              "\n",
              "    .dataframe thead th {\n",
              "        text-align: right;\n",
              "    }\n",
              "</style>\n",
              "<table border=\"1\" class=\"dataframe\">\n",
              "  <thead>\n",
              "    <tr style=\"text-align: right;\">\n",
              "      <th></th>\n",
              "      <th>doc_body</th>\n",
              "      <th>doc_description</th>\n",
              "      <th>doc_full_name</th>\n",
              "      <th>doc_status</th>\n",
              "      <th>article_id</th>\n",
              "    </tr>\n",
              "  </thead>\n",
              "  <tbody>\n",
              "    <tr>\n",
              "      <th>365</th>\n",
              "      <td>Follow Sign in / Sign up Home About Insight Da...</td>\n",
              "      <td>During the seven-week Insight Data Engineering...</td>\n",
              "      <td>Graph-based machine learning</td>\n",
              "      <td>Live</td>\n",
              "      <td>50</td>\n",
              "    </tr>\n",
              "    <tr>\n",
              "      <th>692</th>\n",
              "      <td>Homepage Follow Sign in / Sign up Homepage * H...</td>\n",
              "      <td>One of the earliest documented catalogs was co...</td>\n",
              "      <td>How smart catalogs can turn the big data flood...</td>\n",
              "      <td>Live</td>\n",
              "      <td>221</td>\n",
              "    </tr>\n",
              "    <tr>\n",
              "      <th>761</th>\n",
              "      <td>Homepage Follow Sign in Get started Homepage *...</td>\n",
              "      <td>Today’s world of data science leverages data f...</td>\n",
              "      <td>Using Apache Spark as a parallel processing fr...</td>\n",
              "      <td>Live</td>\n",
              "      <td>398</td>\n",
              "    </tr>\n",
              "    <tr>\n",
              "      <th>970</th>\n",
              "      <td>This video shows you how to construct queries ...</td>\n",
              "      <td>This video shows you how to construct queries ...</td>\n",
              "      <td>Use the Primary Index</td>\n",
              "      <td>Live</td>\n",
              "      <td>577</td>\n",
              "    </tr>\n",
              "    <tr>\n",
              "      <th>971</th>\n",
              "      <td>Homepage Follow Sign in Get started * Home\\r\\n...</td>\n",
              "      <td>If you are like most data scientists, you are ...</td>\n",
              "      <td>Self-service data preparation with IBM Data Re...</td>\n",
              "      <td>Live</td>\n",
              "      <td>232</td>\n",
              "    </tr>\n",
              "  </tbody>\n",
              "</table>\n",
              "</div>\n",
              "    <div class=\"colab-df-buttons\">\n",
              "\n",
              "  <div class=\"colab-df-container\">\n",
              "    <button class=\"colab-df-convert\" onclick=\"convertToInteractive('df-b9c4d5cc-ce84-4360-ac3c-4444478fe0fc')\"\n",
              "            title=\"Convert this dataframe to an interactive table.\"\n",
              "            style=\"display:none;\">\n",
              "\n",
              "  <svg xmlns=\"http://www.w3.org/2000/svg\" height=\"24px\" viewBox=\"0 -960 960 960\">\n",
              "    <path d=\"M120-120v-720h720v720H120Zm60-500h600v-160H180v160Zm220 220h160v-160H400v160Zm0 220h160v-160H400v160ZM180-400h160v-160H180v160Zm440 0h160v-160H620v160ZM180-180h160v-160H180v160Zm440 0h160v-160H620v160Z\"/>\n",
              "  </svg>\n",
              "    </button>\n",
              "\n",
              "  <style>\n",
              "    .colab-df-container {\n",
              "      display:flex;\n",
              "      gap: 12px;\n",
              "    }\n",
              "\n",
              "    .colab-df-convert {\n",
              "      background-color: #E8F0FE;\n",
              "      border: none;\n",
              "      border-radius: 50%;\n",
              "      cursor: pointer;\n",
              "      display: none;\n",
              "      fill: #1967D2;\n",
              "      height: 32px;\n",
              "      padding: 0 0 0 0;\n",
              "      width: 32px;\n",
              "    }\n",
              "\n",
              "    .colab-df-convert:hover {\n",
              "      background-color: #E2EBFA;\n",
              "      box-shadow: 0px 1px 2px rgba(60, 64, 67, 0.3), 0px 1px 3px 1px rgba(60, 64, 67, 0.15);\n",
              "      fill: #174EA6;\n",
              "    }\n",
              "\n",
              "    .colab-df-buttons div {\n",
              "      margin-bottom: 4px;\n",
              "    }\n",
              "\n",
              "    [theme=dark] .colab-df-convert {\n",
              "      background-color: #3B4455;\n",
              "      fill: #D2E3FC;\n",
              "    }\n",
              "\n",
              "    [theme=dark] .colab-df-convert:hover {\n",
              "      background-color: #434B5C;\n",
              "      box-shadow: 0px 1px 3px 1px rgba(0, 0, 0, 0.15);\n",
              "      filter: drop-shadow(0px 1px 2px rgba(0, 0, 0, 0.3));\n",
              "      fill: #FFFFFF;\n",
              "    }\n",
              "  </style>\n",
              "\n",
              "    <script>\n",
              "      const buttonEl =\n",
              "        document.querySelector('#df-b9c4d5cc-ce84-4360-ac3c-4444478fe0fc button.colab-df-convert');\n",
              "      buttonEl.style.display =\n",
              "        google.colab.kernel.accessAllowed ? 'block' : 'none';\n",
              "\n",
              "      async function convertToInteractive(key) {\n",
              "        const element = document.querySelector('#df-b9c4d5cc-ce84-4360-ac3c-4444478fe0fc');\n",
              "        const dataTable =\n",
              "          await google.colab.kernel.invokeFunction('convertToInteractive',\n",
              "                                                    [key], {});\n",
              "        if (!dataTable) return;\n",
              "\n",
              "        const docLinkHtml = 'Like what you see? Visit the ' +\n",
              "          '<a target=\"_blank\" href=https://colab.research.google.com/notebooks/data_table.ipynb>data table notebook</a>'\n",
              "          + ' to learn more about interactive tables.';\n",
              "        element.innerHTML = '';\n",
              "        dataTable['output_type'] = 'display_data';\n",
              "        await google.colab.output.renderOutput(dataTable, element);\n",
              "        const docLink = document.createElement('div');\n",
              "        docLink.innerHTML = docLinkHtml;\n",
              "        element.appendChild(docLink);\n",
              "      }\n",
              "    </script>\n",
              "  </div>\n",
              "\n",
              "\n",
              "<div id=\"df-4ed46dad-eb3b-4764-bd13-f480ef177c2b\">\n",
              "  <button class=\"colab-df-quickchart\" onclick=\"quickchart('df-4ed46dad-eb3b-4764-bd13-f480ef177c2b')\"\n",
              "            title=\"Suggest charts\"\n",
              "            style=\"display:none;\">\n",
              "\n",
              "<svg xmlns=\"http://www.w3.org/2000/svg\" height=\"24px\"viewBox=\"0 0 24 24\"\n",
              "     width=\"24px\">\n",
              "    <g>\n",
              "        <path d=\"M19 3H5c-1.1 0-2 .9-2 2v14c0 1.1.9 2 2 2h14c1.1 0 2-.9 2-2V5c0-1.1-.9-2-2-2zM9 17H7v-7h2v7zm4 0h-2V7h2v10zm4 0h-2v-4h2v4z\"/>\n",
              "    </g>\n",
              "</svg>\n",
              "  </button>\n",
              "\n",
              "<style>\n",
              "  .colab-df-quickchart {\n",
              "      --bg-color: #E8F0FE;\n",
              "      --fill-color: #1967D2;\n",
              "      --hover-bg-color: #E2EBFA;\n",
              "      --hover-fill-color: #174EA6;\n",
              "      --disabled-fill-color: #AAA;\n",
              "      --disabled-bg-color: #DDD;\n",
              "  }\n",
              "\n",
              "  [theme=dark] .colab-df-quickchart {\n",
              "      --bg-color: #3B4455;\n",
              "      --fill-color: #D2E3FC;\n",
              "      --hover-bg-color: #434B5C;\n",
              "      --hover-fill-color: #FFFFFF;\n",
              "      --disabled-bg-color: #3B4455;\n",
              "      --disabled-fill-color: #666;\n",
              "  }\n",
              "\n",
              "  .colab-df-quickchart {\n",
              "    background-color: var(--bg-color);\n",
              "    border: none;\n",
              "    border-radius: 50%;\n",
              "    cursor: pointer;\n",
              "    display: none;\n",
              "    fill: var(--fill-color);\n",
              "    height: 32px;\n",
              "    padding: 0;\n",
              "    width: 32px;\n",
              "  }\n",
              "\n",
              "  .colab-df-quickchart:hover {\n",
              "    background-color: var(--hover-bg-color);\n",
              "    box-shadow: 0 1px 2px rgba(60, 64, 67, 0.3), 0 1px 3px 1px rgba(60, 64, 67, 0.15);\n",
              "    fill: var(--button-hover-fill-color);\n",
              "  }\n",
              "\n",
              "  .colab-df-quickchart-complete:disabled,\n",
              "  .colab-df-quickchart-complete:disabled:hover {\n",
              "    background-color: var(--disabled-bg-color);\n",
              "    fill: var(--disabled-fill-color);\n",
              "    box-shadow: none;\n",
              "  }\n",
              "\n",
              "  .colab-df-spinner {\n",
              "    border: 2px solid var(--fill-color);\n",
              "    border-color: transparent;\n",
              "    border-bottom-color: var(--fill-color);\n",
              "    animation:\n",
              "      spin 1s steps(1) infinite;\n",
              "  }\n",
              "\n",
              "  @keyframes spin {\n",
              "    0% {\n",
              "      border-color: transparent;\n",
              "      border-bottom-color: var(--fill-color);\n",
              "      border-left-color: var(--fill-color);\n",
              "    }\n",
              "    20% {\n",
              "      border-color: transparent;\n",
              "      border-left-color: var(--fill-color);\n",
              "      border-top-color: var(--fill-color);\n",
              "    }\n",
              "    30% {\n",
              "      border-color: transparent;\n",
              "      border-left-color: var(--fill-color);\n",
              "      border-top-color: var(--fill-color);\n",
              "      border-right-color: var(--fill-color);\n",
              "    }\n",
              "    40% {\n",
              "      border-color: transparent;\n",
              "      border-right-color: var(--fill-color);\n",
              "      border-top-color: var(--fill-color);\n",
              "    }\n",
              "    60% {\n",
              "      border-color: transparent;\n",
              "      border-right-color: var(--fill-color);\n",
              "    }\n",
              "    80% {\n",
              "      border-color: transparent;\n",
              "      border-right-color: var(--fill-color);\n",
              "      border-bottom-color: var(--fill-color);\n",
              "    }\n",
              "    90% {\n",
              "      border-color: transparent;\n",
              "      border-bottom-color: var(--fill-color);\n",
              "    }\n",
              "  }\n",
              "</style>\n",
              "\n",
              "  <script>\n",
              "    async function quickchart(key) {\n",
              "      const quickchartButtonEl =\n",
              "        document.querySelector('#' + key + ' button');\n",
              "      quickchartButtonEl.disabled = true;  // To prevent multiple clicks.\n",
              "      quickchartButtonEl.classList.add('colab-df-spinner');\n",
              "      try {\n",
              "        const charts = await google.colab.kernel.invokeFunction(\n",
              "            'suggestCharts', [key], {});\n",
              "      } catch (error) {\n",
              "        console.error('Error during call to suggestCharts:', error);\n",
              "      }\n",
              "      quickchartButtonEl.classList.remove('colab-df-spinner');\n",
              "      quickchartButtonEl.classList.add('colab-df-quickchart-complete');\n",
              "    }\n",
              "    (() => {\n",
              "      let quickchartButtonEl =\n",
              "        document.querySelector('#df-4ed46dad-eb3b-4764-bd13-f480ef177c2b button');\n",
              "      quickchartButtonEl.style.display =\n",
              "        google.colab.kernel.accessAllowed ? 'block' : 'none';\n",
              "    })();\n",
              "  </script>\n",
              "</div>\n",
              "\n",
              "    </div>\n",
              "  </div>\n"
            ],
            "application/vnd.google.colaboratory.intrinsic+json": {
              "type": "dataframe",
              "summary": "{\n  \"name\": \"df_content[df_content\",\n  \"rows\": 5,\n  \"fields\": [\n    {\n      \"column\": \"doc_body\",\n      \"properties\": {\n        \"dtype\": \"string\",\n        \"num_unique_values\": 5,\n        \"samples\": [\n          \"Homepage Follow Sign in / Sign up Homepage * Home\\r\\n * Data Science Experience\\r\\n * Data Catalog\\r\\n * \\r\\n * Watson Data Platform\\r\\n * \\r\\n\\r\\nSusanna Tai Blocked Unblock Follow Following Offering Manager, Watson Data Platform | Data Catalog Oct 30\\r\\n--------------------------------------------------------------------------------\\r\\n\\r\\nHOW SMART CATALOGS CAN TURN THE BIG DATA FLOOD INTO AN OCEAN OF OPPORTUNITY\\r\\nOne of the earliest documented catalogs was compiled at the great library of\\r\\nAlexandria in the third century BC, to help scholars manage, understand and\\r\\naccess its vast collection of literature. While that cataloging process\\r\\nrepresented a massive undertaking for the Alexandrian librarians, it pales in\\r\\ncomparison to the task of wrangling the volume and variety of data that modern\\r\\norganizations generate.\\r\\n\\r\\nNowadays, data is often described as an organization\\u2019s most valuable asset, but\\r\\nunless users can easily sift through data artifacts to find the information they\\r\\nneed, the value of that data may remain unrealized. Catalogs can solve this\\r\\nproblem by providing an indexed set of information about the organization\\u2019s\\r\\ndata, storing metadata that describes all assets and providing a reference to\\r\\nwhere they can be found or accessed.\\r\\n\\r\\nIt\\u2019s not just the size and complexity of the data that makes cataloging a tough\\r\\nchallenge: organizations also need to be able to perform increasingly\\r\\ncomplicated operations on that data at high speed, and even in real-time. As a\\r\\nresult, technology leaders must continually find better ways to solve today\\u2019s\\r\\nversion of the same cataloging challenges faced in Alexandria all those years\\r\\nago.\\r\\n\\r\\nENTER IBM\\r\\nIBM\\u2019s aim with Watson Data Platform is to make data accessible for anyone who uses it. An integral part of Watson\\r\\nData Platform will be a new intelligent asset catalog, IBM Data Catalog , a solution underpinned by a central repository of metadata describing all the\\r\\ninformation managed by the platform. Unlike many other catalog solutions on the\\r\\nmarket, the intelligent asset catalog will also offer full end-to-end\\r\\ncapabilities around data lifecycle and governance.\\r\\n\\r\\nBecause all the elements of Watson Data Platform can utilize the same catalog,\\r\\nusers will be able to share data with their colleagues more easily, regardless\\r\\nof what the data is, where it is stored, or how they intend to use it. In this\\r\\nway, the intelligent asset catalog will unlock the value held within that data\\r\\nacross user groups \\u2014 helping organizations use this key asset to its full\\r\\npotential.\\r\\n\\r\\nBREAKING DOWN SILOS\\r\\nWith Watson Data Platform, data engineers, data scientists and other knowledge\\r\\nworkers throughout an enterprise can search for, share and leverage assets\\r\\n(including datasets, files, connections, notebooks, data flows, models and\\r\\nmore). Assets can be accessed using the Data Science Experience web user interface to analyze data,\\r\\n\\r\\nTo collaborate with colleagues, users can put assets into a Project that acts as\\r\\na shared sandbox where the whole team can access and utilize them. Once their\\r\\nwork is complete, they can submit any resulting content to the catalog for\\r\\nfurther reuse by other people and groups across the organization.\\r\\n\\r\\nRich metadata about each asset makes it easy for knowledge workers to find and\\r\\naccess relevant resources. Along with data files, the catalog can also include\\r\\nconnections to databases and other data sources, both on- and off-premises,\\r\\ngiving users a full 360-degree view to all information relevant to their\\r\\nbusiness, regardless of where or how it is stored.\\r\\n\\r\\nMANAGING DATA OVER TIME\\r\\nIt\\u2019s important to look at data as an evolving asset, rather than something that\\r\\nstays fixed over time. To help manage and trace this evolution, IBM Data Catalog\\r\\nwill keep a complete track of which users have added or modified each asset, so\\r\\nthat it is always clear who is responsible for any changes.\\r\\n\\r\\nSMART CATALOG CAPABILITIES FOR BIG DATA MANAGEMENT\\r\\nThe concept of catalogs may be simple, but when they\\u2019re being used to make sense\\r\\nof huge amounts of constantly changing data, smart capabilities make all the\\r\\ndifference. Here are some of the key smart catalog functionalities that we see\\r\\nas integral to tackling the big data challenge.\\r\\n\\r\\nDATA AND ASSET TYPE AWARENESS\\r\\nWhen a user chooses to preview or view an asset of a particular type, the data\\r\\nand asset type awareness feature will automatically launch the data in the best\\r\\nviewer \\u2014 such as a shaper for a dataset, or a canvas for a data flow. This will\\r\\nsave time and boost productivity for users, optimizing discovery and making it\\r\\neasier to work with a variety of data types without switching tools.\\r\\n\\r\\nINTELLIGENT SEARCH AND EXPLORATION\\r\\nBy combining metadata, machine learning-based algorithms and user interaction\\r\\ndata, it is possible to fine-tune search results over time. Presenting users\\r\\nwith the most relevant data for their purpose will increase usefulness of the\\r\\nsolution the more it is used.\\r\\n\\r\\nSOCIAL CURATION\\r\\nEffective use of data throughout your organization is a two-way street: when\\r\\nusers discover a useful dataset, it\\u2019s important for them to help others find it\\r\\ntoo. Users can be encouraged to engage by taking advantage of curation features,\\r\\nenabling them to tag, rank and comment on assets within the catalog. By\\r\\naugmenting the metadata for each asset, this can help the catalog\\u2019s intelligent\\r\\nsearch algorithms guide users to the assets that are most relevant to their\\r\\nneeds.\\r\\n\\r\\nDATA LINEAGE\\r\\nIf data is incomplete or inaccurate, utilizing it can cause more problems than\\r\\nit solves. On the other hand, if data is accurate but users do not trust it,\\r\\nthey might not use it when it could make a real difference. In either scenario,\\r\\ndata lineage can help.\\r\\n\\r\\nData lineage captures the complete history of an asset in the catalog: from its\\r\\noriginal source, through all the operations and transformations it has\\r\\nundergone, to its current state. By exploring this lineage, users can be\\r\\nconfident they know where assets have come from, how those assets have evolved,\\r\\nand whether they can be trusted.\\r\\n\\r\\nMONITORING\\r\\nTaking a step back to a higher-level view, monitoring features will help users\\r\\nkeep track of overall usage of the catalog. Real-time dashboards help chief data\\r\\nofficers and other data professionals monitor how data is being used, and\\r\\nidentify ways to increase its usage in different areas of the organization.\\r\\n\\r\\nMETADATA DISCOVERY\\r\\nWe have already mentioned that data needs to be seen as an evolving asset \\u2014\\r\\nwhich means our catalogs must evolve with it. We plan to make it easy for users\\r\\nto augment assets with metadata manually; in the future, it may also be possible\\r\\nto integrate algorithms that can discover assets and capture their metadata\\r\\nautomatically.\\r\\n\\r\\nDATA GOVERNANCE\\r\\nFor many organizations, keeping data secure while ensuring access for authorized\\r\\nusers is one of the most significant information management challenges. You can\\r\\nmitigate this challenge with rule-based access control and automatic enforcement\\r\\nof data governance policies.\\r\\n\\r\\nAPIS\\r\\nFinally, the catalog will enable access to all these capabilities and more\\r\\nthrough a set of well-defined, RESTful APIs. IBM is committed to offering\\r\\napplication developers easy access to additional components of Watson Data Platform , such as persistence stores and data sets. We hope that they can use our\\r\\nservices to extend their current suite of data and analytics tools, to innovate\\r\\nand create smart new ways of working with the data.\\r\\n\\r\\nLearn more about IBM Data Catalog\\r\\n\\r\\n\\r\\n--------------------------------------------------------------------------------\\r\\n\\r\\nWritten by Jay Limburn\\r\\nDistinguished Engineer and Offering Lead, Watson Data Platform\\r\\n\\r\\nOriginally published at www.ibm.com on August 1, 2017\\r\\n\\r\\n * Data Catalog\\r\\n * Data Management\\r\\n * Data Analytics\\r\\n * IBM\\r\\n * Ibm Watson\\r\\n\\r\\nA single golf clap? Or a long standing ovation?By clapping more or less, you can signal to us which stories really stand out.\\r\\n\\r\\nBlocked Unblock Follow FollowingSUSANNA TAI\\r\\nOffering Manager, Watson Data Platform | Data Catalog\\r\\n\\r\\nFollowIBM WATSON DATA PLATFORM\\r\\nBuild smarter applications and quickly visualize, share, and gain insights\\r\\n\\r\\n * \\r\\n * \\r\\n * \\r\\n * \\r\\n\\r\\nNever miss a story from IBM Watson Data Platform , when you sign up for Medium. Learn more Never miss a story from IBM Watson Data Platform Get updates Get updates\",\n          \"Homepage Follow Sign in Get started * Home\\r\\n * Data Science Experience\\r\\n * Data Catalog\\r\\n * IBM Data Refinery\\r\\n * \\r\\n * Watson Data Platform\\r\\n * \\r\\n\\r\\nCarmen Ruppach Blocked Unblock Follow Following Offering Manager for Data Refinery on Watson Data Platform at IBM Nov 14, 2017\\r\\n--------------------------------------------------------------------------------\\r\\n\\r\\nSELF-SERVICE DATA PREPARATION WITH IBM DATA REFINERY\\r\\nIf you are like most data scientists, you are probably spending a lot of time to\\r\\ncleanse, shape and prepare your data before you can actually start with the more\\r\\nenjoyable part of building and training machine learning models. As a data\\r\\nanalyst, you might face similar struggles to obtain data in a format you need to\\r\\nbuild your reports. In many companies data scientists and analysts need to wait\\r\\nfor their IT teams to get access to cleaned data in a consumable format.\\r\\n\\r\\nIBM Data Refinery addresses this issue. It provides an intuitive self-service\\r\\ndata preparation environment where you can quickly analyze, cleanse and prepare\\r\\ndata sets. It is a fully managed cloud service, available in open beta now.\\r\\n\\r\\nAnalyze and prepare your data\\r\\n\\r\\nWith IBM Data Refinery, you can interactively explore your data and use a wide\\r\\nrange of transformations to cleanse and transform data into the format you need\\r\\nfor analysis.\\r\\n\\r\\nYou can use a simple point-and-click interface for selecting and combining a\\r\\nwide range of built-in operations, such as filtering, replacing, and deriving\\r\\nvalues. It is also possible to quickly remove duplicates, split and concatenate\\r\\nvalues, and choose from a comprehensive list of text and math operations.\\r\\n\\r\\nInteractive data exploration and preparationIf you prefer to code, in IBM Data Refinery you can directly enter R commands\\r\\nvia R libraries such as dplyr. We provide code templates and in-context\\r\\ndocumentation to help you become productive with the R syntax more quickly.\\r\\n\\r\\nCode templates to help users with R syntaxIf you\\u2019re not satisfied with the shaping results, you can easily undo and change\\r\\noperations in the Steps side bar.\\r\\n\\r\\nThe interactive user interface works on a subset of the data to give you a\\r\\nfaster preview of the operations and results. Once you\\u2019re happy with the sample\\r\\noutput, you can apply the transformations on the entire data set and save all\\r\\ntransformation steps in a data flow. You can repeat the data flow later and\\r\\ntrack changes that were applied to your data. To accelerate the job execution,\\r\\nApache Spark is used as the execution engine.\\r\\n\\r\\nProfile and visualize data\\r\\n\\r\\nData shaping is an iterative and time-consuming process. In a traditional data\\r\\nscience workflow, you might use one tool to apply various transformations to\\r\\nyour data set, and then load the data into another tool to visualize and\\r\\nevaluate the results. Over many cycles, this continual tool hopping can become\\r\\nfrustrating.\\r\\n\\r\\nIBM Data Refinery soothes the pain by integrating both data transformations and\\r\\nvisualizations in a single interface, so you can move between views with a\\r\\nsimple click. You can use the Profile tab to view descriptive statistics of your\\r\\ndata columns in order to better understand the distribution of values. You can\\r\\ncontinue to apply transformations and the corresponding profile information\\r\\nadjusts automatically.\\r\\n\\r\\nOn the Visualization tab you can select a combination of columns to build charts\\r\\nusing Brunel (open source visualization library). IBM Data Refinery\\r\\nautomatically suggests appropriate plots and you can choose between 12\\r\\npre-defined chart types. You can adjust the appearance of the charts using\\r\\nBrunel syntax.\\r\\n\\r\\nConnect to your data wherever it resides\\r\\n\\r\\nIBM Data Refinery comes with a comprehensive set of 30 prebuilt data connectors\\r\\nso that you can set up connections to a wide range of commonly used on-premises\\r\\nand cloud data stores. You can connect to IBM as well as non-IBM services. If\\r\\nyour data service is hosted on IBM Cloud (formerly IBM Bluemix), you can\\r\\ndirectly access the data service instance from IBM Data Refinery.\\r\\n\\r\\nOnce you specify a connection and connect the data object to your data, you can\\r\\nstart to analyze and refine your data wherever it resides.\\r\\n\\r\\nTry out IBM Data Refinery! Sign up for free at: https://www.ibm.com/cloud/data-refinery\\r\\n\\r\\n * Data Science\\r\\n * Data Visualization\\r\\n * Data Analysis\\r\\n * Data Refinery\\r\\n\\r\\nOne clap, two clap, three clap, forty?By clapping more or less, you can signal to us which stories really stand out.\\r\\n\\r\\n27 Blocked Unblock Follow FollowingCARMEN RUPPACH\\r\\nOffering Manager for Data Refinery on Watson Data Platform at IBM\\r\\n\\r\\nFollowIBM WATSON DATA\\r\\nBuild smarter applications and quickly visualize, share, and gain insights\\r\\n\\r\\n * 27\\r\\n * \\r\\n * \\r\\n * \\r\\n\\r\\nNever miss a story from IBM Watson Data , when you sign up for Medium. Learn more Never miss a story from IBM Watson Data Get updates Get updates\",\n          \"Homepage Follow Sign in Get started Homepage * Home\\r\\n * Data Science Experience\\r\\n * Data Catalog\\r\\n * IBM Data Refinery\\r\\n * \\r\\n * Watson Data Platform\\r\\n * \\r\\n\\r\\nSourav Mazumder Blocked Unblock Follow Following Nov 27\\r\\n--------------------------------------------------------------------------------\\r\\n\\r\\nUSING APACHE SPARK AS A PARALLEL PROCESSING FRAMEWORK FOR ACCESSING REST BASED\\r\\nDATA SERVICES\\r\\nToday\\u2019s world of data science leverages data from various sources. Commonly,\\r\\nthese sources are Hadoop File System, Enterprise Data Warehouse, Relational\\r\\nDatabase systems, Enterprise file systems, etc. The data from these sources are\\r\\naccessed in bulk using connectors specific to the underlying technology and\\r\\noptimized for accessing large volume of data.\\r\\n\\r\\nHowever, many a times, a data science exploration/modeling exercise also needs\\r\\nto access data from sources that support only API-based data access. These\\r\\nAPI-based data sources/data services can be of various types. For example:\\r\\n\\r\\n * Data services (external or internal), which can provide curated/enriched data\\r\\n   in record-by-record manner.\\r\\n * Validation services for verifying the data using an API. For example Address\\r\\n   validation.\\r\\n * Machine learning/AI services, which provide prediction, recommendations, and\\r\\n   insights based on a single input record.\\r\\n * Service from internal systems (like CRM, MDM, etc.) of the organization,\\r\\n   which supports data access through API only in record-by-record manner.\\r\\n * And many more \\u2026\\r\\n\\r\\nThese API-based data services are commonly implemented using REST architectural\\r\\nstyle ( https://en.wikipedia.org/wiki/Representational_state_transfer ) and are designed to be called for single item (or a limited set of items) per\\r\\nrequest. While this works well when the API needs to be called from an online\\r\\napplication, the approach breaks down in situations when the API has to be\\r\\ncalled in bulk. For example, during an online sign-up process an address\\r\\nvalidation API can be called for the particular address of the user. But, say in\\r\\na health care analytics application, where addresses of thousands of doctors,\\r\\nwhich already exist in a database or were obtained as part of a bulk load from\\r\\nan external source, have to be verified, this approach will not work. Because of\\r\\nthe \\u201csingle item per request\\u201d design of the API, you\\u2019d have to call the API\\r\\nthousands of times.\\r\\n\\r\\nCalling data service APIs in sequence \\u2014 Processing Time = (# of Records)*(API\\r\\nresponse time)\\r\\n--------------------------------------------------------------------------------\\r\\n\\r\\nThe above pseudo code snippet shows how calling a target REST API service is\\r\\nhandled in a sequential manner. You must first load the list of parameter values\\r\\nfrom a file or table in the memory. Next run a loop. In the loop, the target\\r\\nREST API has to be called for each set of parameter values. From the response\\r\\nreturned by each call the output must be extracted. The output is typically\\r\\npopulated in a complex object like JSON, XML, etc. Next, the necessary part of\\r\\nthe output has to be added to a result array or collection. For that, you must\\r\\nknow the schema of the result beforehand so that you can process the result\\r\\naccordingly. Finally, you can filter, exploring, aggregating data from the\\r\\nresult array or collection. For all of these steps, you have to use\\r\\nlanguage-specific complex code.\\r\\n\\r\\nAlternatively, you could use a programming language-specific library related to\\r\\nmulti-processing/multi-threading that can parallelize the call to the API.\\r\\nHowever, with that approach the parallelization achieved from a single machine\\r\\nwould be minuscule \\u2014 limited to the number of cores of the machine. Consider, a\\r\\ncase where someone is trying to get personality insights from tweets or Facebook\\r\\ncomments using a Natural Language Processing service. The tweets and comments\\r\\ncan be in tens to hundreds of thousands. So, using a single machine could take a\\r\\nnumber of hours to get the result. Hence, the approach should be to use a\\r\\ndistributed processing framework to make the API calls parallelized using\\r\\nmultiple cores of multiple machines with the least coding effort. Though it is\\r\\npossible to get distributed computing libraries or frameworks to achieve the\\r\\nsame in some programming languages like Java, C++ etc., they require a\\r\\nreasonable amount of coding and setup to achieve the same result. Achieving this\\r\\nin popular data science languages, like R or Python is actually more difficult\\r\\nas they are originally designed to run in single threaded/single machine\\r\\nenvironment.\\r\\n\\r\\nHere enters distributed computing frameworks like Apache Spark ( https://spark.apache.org/ ). REST APIs are inherently conducive to parallelization as each call to the\\r\\nAPI is completely independent of any other call to the same API. This fact, in\\r\\nconjunction with the parallel computing capability of Spark, can be leveraged to\\r\\ncreate a solution that solves the problem by delegating the API call to Spark\\u2019s\\r\\nparallel workers. Under this approach, one can package a specification for how\\r\\nto call the API along with the input data, and pass that to Spark to divide the\\r\\neffort among its workers (and tasks). The output can be assembled in set-level\\r\\nabstractions supported by Spark (like dataframes or data sets ) and passed back to the calling program. This approach not only helps you turn a\\r\\nsequential execution into a parallel one with the least coding effort, but also\\r\\nmakes it much easier to analyze and transform the returned result with an easier\\r\\ndata abstraction model to work with.\\r\\n\\r\\nThe performance benefit you gets is tremendous in this approach. This turns a\\r\\nproblem that takes incremental time for computation (that increases linearly\\r\\nwith the number of records to process), to one that is much more efficient and\\r\\nscales linearly on a much lower slope \\u2014 number of records to process divided by\\r\\nthe number of cores available to process them. Theoretically, one can make the\\r\\nprocess constant time by having enough cores to process ALL of the records at\\r\\nonce.\\r\\n\\r\\nTo enable the benefits of using Spark to call REST APIs, we are introducing a\\r\\ncustom data source for Spark, namely REST Data Source. It has been built by\\r\\nextending Spark\\u2019s Data Source API. This helps in delegating calls to the target\\r\\nREST API to a Spark level Task for each set of input parameter values/record.\\r\\nThis also enables the results from multiple API calls to be returned as one\\r\\nSpark Dataframe. The REST Data Source expects the input to be in the format of a\\r\\nSpark Temporary table. The results from the API calls are returned in a single\\r\\nDataframe of Rows including the input parameters in their corresponding column\\r\\nnames, as well as the output from the REST call in a structure matching that of\\r\\nthe target API\\u2019s response. You can check the schema of this Dataframe, and\\r\\naccess the result as necessary using Spark SQL.\\r\\n\\r\\nThe architecture of REST Data SourceThe above figure shows how REST Data Source works.\\r\\n\\r\\n 1. You first read different sets of parameter values (that have to be sent to\\r\\n    target REST API) from a file/table to a Spark Dataframe (say Input Data\\r\\n    Frame).\\r\\n 2. Then the Input Data Frame is passed to the REST Data Source.\\r\\n 3. The REST Data Source returns the results to another Dataframe, say Result\\r\\n    Data Frame.\\r\\n 4. Now you can use Spark SQL to explore, aggregate, and filter the result using\\r\\n    the Result Data Frame.\\r\\n\\r\\nREST Data Source internally calls the target REST API in parallel by executing\\r\\nmultiple tasks spawned by multiple worker processes running in different\\r\\nmachines. Each task is responsible for calling the target REST API Service for a\\r\\npart of the input (part of sets of parameter values).\\r\\n\\r\\nThe code snippet below demonstrates how to use REST Data Source in Python to get\\r\\nresults from Socrata Data Service (SODA API) for multiple sets of parameter\\r\\nvalues by calling the appropriate REST API in parallel.\\r\\n\\r\\nA sample code snippet showing use of REST Data Source to call REST API in\\r\\nparallelYou can configure the REST Data Source for different levels of parallelization.\\r\\nDepending on the volume of input sets of parameter values to be processed and\\r\\nthroughput supported by the target REST API server, you can pass the number of\\r\\npartitions to be used, and that can limit or extend the level of parallelization\\r\\nas needed. You can use this framework in all programming languages supported by\\r\\nSpark \\u2014 Python, Scala, R, or Java \\u2014 without any additional coding specific to\\r\\nthat programming language. Last, but not the least, you can also use this\\r\\nframework to ensure that the target API is called only once for a given set of\\r\\nparameter values. In this way you can avoid calling the target REST API multiple\\r\\ntimes for same set of parameter values. This is especially useful when you must\\r\\npay for the REST API being called or there is a limit per day for the same.\\r\\n\\r\\nSee \\r\\nhttps://github.com/sourav-mazumder/Data-Science-Extensions/tree/master/spark-datasource-rest for details of the REST Data Source. Also see this notebook \\r\\nhttps://dataplatform.ibm.com/analytics/notebooks/ae63f056-e267-443e-bfc0-b9331f51d68a/view?access_token=0ec63c6e031aa57d065a4e1c4b71733729db43b1490c331a44323cce28725b7d for an example of how to use the REST Data Source.\\r\\n\\r\\n * Big Data\\r\\n * Spark\\r\\n * Artificial Intelligence\\r\\n * Data Science\\r\\n * Rest Api\\r\\n\\r\\nOne clap, two clap, three clap, forty?By clapping more or less, you can signal to us which stories really stand out.\\r\\n\\r\\n9 Blocked Unblock Follow FollowingSOURAV MAZUMDER\\r\\nMedium member since Nov 2017 FollowIBM WATSON DATA PLATFORM\\r\\nBuild smarter applications and quickly visualize, share, and gain insights\\r\\n\\r\\n * 9\\r\\n * \\r\\n * \\r\\n * \\r\\n\\r\\nNever miss a story from IBM Watson Data Platform , when you sign up for Medium. Learn more Never miss a story from IBM Watson Data Platform Get updates Get updates\"\n        ],\n        \"semantic_type\": \"\",\n        \"description\": \"\"\n      }\n    },\n    {\n      \"column\": \"doc_description\",\n      \"properties\": {\n        \"dtype\": \"string\",\n        \"num_unique_values\": 5,\n        \"samples\": [\n          \"One of the earliest documented catalogs was compiled at the great library of Alexandria in the third century BC, to help scholars manage, understand and access its vast collection of literature\\u2026\",\n          \"If you are like most data scientists, you are probably spending a lot of time to cleanse, shape and prepare your data before you can actually start with the more enjoyable part of building and\\u2026\",\n          \"Today\\u2019s world of data science leverages data from various sources. Commonly, these sources are Hadoop File System, Enterprise Data Warehouse, Relational Database systems, Enterprise file systems, etc\\u2026\"\n        ],\n        \"semantic_type\": \"\",\n        \"description\": \"\"\n      }\n    },\n    {\n      \"column\": \"doc_full_name\",\n      \"properties\": {\n        \"dtype\": \"string\",\n        \"num_unique_values\": 5,\n        \"samples\": [\n          \"How smart catalogs can turn the big data flood into an ocean of opportunity\",\n          \"Self-service data preparation with IBM Data Refinery\",\n          \"Using Apache Spark as a parallel processing framework for accessing REST based data services\"\n        ],\n        \"semantic_type\": \"\",\n        \"description\": \"\"\n      }\n    },\n    {\n      \"column\": \"doc_status\",\n      \"properties\": {\n        \"dtype\": \"category\",\n        \"num_unique_values\": 1,\n        \"samples\": [\n          \"Live\"\n        ],\n        \"semantic_type\": \"\",\n        \"description\": \"\"\n      }\n    },\n    {\n      \"column\": \"article_id\",\n      \"properties\": {\n        \"dtype\": \"number\",\n        \"std\": 199,\n        \"min\": 50,\n        \"max\": 577,\n        \"num_unique_values\": 5,\n        \"samples\": [\n          221\n        ],\n        \"semantic_type\": \"\",\n        \"description\": \"\"\n      }\n    }\n  ]\n}"
            }
          },
          "metadata": {},
          "execution_count": 8
        }
      ],
      "source": [
        "# Find and explore duplicate articles\n",
        "df_content[df_content.duplicated(subset=['article_id'])]"
      ]
    },
    {
      "cell_type": "code",
      "execution_count": 9,
      "metadata": {
        "collapsed": true,
        "id": "Hnmi-vgE2pAo"
      },
      "outputs": [],
      "source": [
        "# Remove any rows that have the same article_id - only keep the first\n",
        "df_content.drop_duplicates(subset=['article_id'], keep='first', inplace=True)"
      ]
    },
    {
      "cell_type": "code",
      "source": [
        "# sanity check\n",
        "df_content.article_id.duplicated().sum()"
      ],
      "metadata": {
        "colab": {
          "base_uri": "https://localhost:8080/"
        },
        "id": "LOX1r5N39mK8",
        "outputId": "002d9288-ac6b-4e5d-c2e9-dd5877e9ab74"
      },
      "execution_count": 10,
      "outputs": [
        {
          "output_type": "execute_result",
          "data": {
            "text/plain": [
              "0"
            ]
          },
          "metadata": {},
          "execution_count": 10
        }
      ]
    },
    {
      "cell_type": "markdown",
      "metadata": {
        "id": "za-cQeSo2pAp"
      },
      "source": [
        "`3.` Use the cells below to find:\n",
        "\n",
        "**a.** The number of unique articles that have an interaction with a user.  \n",
        "**b.** The number of unique articles in the dataset (whether they have any interactions or not).<br>\n",
        "**c.** The number of unique users in the dataset. (excluding null values)<br>\n",
        "**d.** The number of user-article interactions in the dataset."
      ]
    },
    {
      "cell_type": "code",
      "source": [
        "# a\n",
        "np.sum(df.groupby(['article_id'])['email'].count() > 0)"
      ],
      "metadata": {
        "colab": {
          "base_uri": "https://localhost:8080/"
        },
        "id": "2O6fRKA8-2SE",
        "outputId": "b0508937-d572-4f2b-cd30-45959d9c994d"
      },
      "execution_count": 11,
      "outputs": [
        {
          "output_type": "execute_result",
          "data": {
            "text/plain": [
              "714"
            ]
          },
          "metadata": {},
          "execution_count": 11
        }
      ]
    },
    {
      "cell_type": "code",
      "source": [
        "# b\n",
        "df_content.article_id.nunique()"
      ],
      "metadata": {
        "colab": {
          "base_uri": "https://localhost:8080/"
        },
        "id": "OHARQdtl_T7P",
        "outputId": "61ca2d18-c7d7-48af-e70b-65638f3fef0b"
      },
      "execution_count": 12,
      "outputs": [
        {
          "output_type": "execute_result",
          "data": {
            "text/plain": [
              "1051"
            ]
          },
          "metadata": {},
          "execution_count": 12
        }
      ]
    },
    {
      "cell_type": "code",
      "source": [
        "# c\n",
        "df.email.nunique()"
      ],
      "metadata": {
        "colab": {
          "base_uri": "https://localhost:8080/"
        },
        "id": "gDsogyHj_h-b",
        "outputId": "d879f4ff-46d8-49b7-a8a7-0ec33d7eba06"
      },
      "execution_count": 13,
      "outputs": [
        {
          "output_type": "execute_result",
          "data": {
            "text/plain": [
              "5148"
            ]
          },
          "metadata": {},
          "execution_count": 13
        }
      ]
    },
    {
      "cell_type": "code",
      "source": [
        "df.shape"
      ],
      "metadata": {
        "colab": {
          "base_uri": "https://localhost:8080/"
        },
        "id": "_ncjwsNOC2vl",
        "outputId": "3981ae9b-192c-4c91-9662-776f37350c1e"
      },
      "execution_count": 14,
      "outputs": [
        {
          "output_type": "execute_result",
          "data": {
            "text/plain": [
              "(45993, 3)"
            ]
          },
          "metadata": {},
          "execution_count": 14
        }
      ]
    },
    {
      "cell_type": "code",
      "source": [
        "# d\n",
        "df.shape[0] - df.email.isna().sum()"
      ],
      "metadata": {
        "colab": {
          "base_uri": "https://localhost:8080/"
        },
        "id": "raTzV1Mf_py5",
        "outputId": "a99b9866-5850-42fc-ff54-1bc999f4fc62"
      },
      "execution_count": 15,
      "outputs": [
        {
          "output_type": "execute_result",
          "data": {
            "text/plain": [
              "45976"
            ]
          },
          "metadata": {},
          "execution_count": 15
        }
      ]
    },
    {
      "cell_type": "code",
      "execution_count": 16,
      "metadata": {
        "collapsed": true,
        "id": "Tt4kPfDJ2pAr"
      },
      "outputs": [],
      "source": [
        "unique_articles = 714 # The number of unique articles that have at least one interaction\n",
        "total_articles = 1051 # The number of unique articles on the IBM platform\n",
        "unique_users = 5148 # The number of unique users\n",
        "user_article_interactions = 45993 # The number of user-article interactions"
      ]
    },
    {
      "cell_type": "markdown",
      "metadata": {
        "id": "w9oXSC0L2pAs"
      },
      "source": [
        "`4.` Use the cells below to find the most viewed **article_id**, as well as how often it was viewed.  After talking to the company leaders, the `email_mapper` function was deemed a reasonable way to map users to ids.  There were a small number of null values, and it was find using other information that all of these null values likely belonged to a single user."
      ]
    },
    {
      "cell_type": "code",
      "source": [
        "# most viewed article\n",
        "df.groupby('article_id')['email'].count().sort_values(ascending=False)"
      ],
      "metadata": {
        "colab": {
          "base_uri": "https://localhost:8080/"
        },
        "id": "eviI0vspBu-T",
        "outputId": "39055825-7e83-434c-92dd-07ceb5f7ed99"
      },
      "execution_count": 17,
      "outputs": [
        {
          "output_type": "execute_result",
          "data": {
            "text/plain": [
              "article_id\n",
              "1429.0    937\n",
              "1330.0    927\n",
              "1431.0    671\n",
              "1427.0    643\n",
              "1364.0    627\n",
              "         ... \n",
              "1113.0      1\n",
              "1119.0      1\n",
              "984.0       1\n",
              "1127.0      1\n",
              "1266.0      1\n",
              "Name: email, Length: 714, dtype: int64"
            ]
          },
          "metadata": {},
          "execution_count": 17
        }
      ]
    },
    {
      "cell_type": "code",
      "execution_count": 18,
      "metadata": {
        "collapsed": true,
        "id": "0R1yVL5G2pAs"
      },
      "outputs": [],
      "source": [
        "most_viewed_article_id = '1429.0' # The most viewed article in the dataset as a string with one value following the decimal\n",
        "max_views = 937 # The most viewed article in the dataset was viewed how many times?"
      ]
    },
    {
      "cell_type": "code",
      "execution_count": 19,
      "metadata": {
        "collapsed": true,
        "colab": {
          "base_uri": "https://localhost:8080/",
          "height": 206
        },
        "id": "Dcj9BZa-2pAt",
        "outputId": "14ab79e7-5bb8-4a13-8bf0-b96c46b737d2"
      },
      "outputs": [
        {
          "output_type": "execute_result",
          "data": {
            "text/plain": [
              "   article_id                                              title  user_id\n",
              "0      1430.0  using pixiedust for fast, flexible, and easier...        1\n",
              "1      1314.0       healthcare python streaming application demo        2\n",
              "2      1429.0         use deep learning for image classification        3\n",
              "3      1338.0          ml optimization using cognitive assistant        4\n",
              "4      1276.0          deploy your python model as a restful api        5"
            ],
            "text/html": [
              "\n",
              "  <div id=\"df-125083c7-05ee-4131-88e8-d4169c223f65\" class=\"colab-df-container\">\n",
              "    <div>\n",
              "<style scoped>\n",
              "    .dataframe tbody tr th:only-of-type {\n",
              "        vertical-align: middle;\n",
              "    }\n",
              "\n",
              "    .dataframe tbody tr th {\n",
              "        vertical-align: top;\n",
              "    }\n",
              "\n",
              "    .dataframe thead th {\n",
              "        text-align: right;\n",
              "    }\n",
              "</style>\n",
              "<table border=\"1\" class=\"dataframe\">\n",
              "  <thead>\n",
              "    <tr style=\"text-align: right;\">\n",
              "      <th></th>\n",
              "      <th>article_id</th>\n",
              "      <th>title</th>\n",
              "      <th>user_id</th>\n",
              "    </tr>\n",
              "  </thead>\n",
              "  <tbody>\n",
              "    <tr>\n",
              "      <th>0</th>\n",
              "      <td>1430.0</td>\n",
              "      <td>using pixiedust for fast, flexible, and easier...</td>\n",
              "      <td>1</td>\n",
              "    </tr>\n",
              "    <tr>\n",
              "      <th>1</th>\n",
              "      <td>1314.0</td>\n",
              "      <td>healthcare python streaming application demo</td>\n",
              "      <td>2</td>\n",
              "    </tr>\n",
              "    <tr>\n",
              "      <th>2</th>\n",
              "      <td>1429.0</td>\n",
              "      <td>use deep learning for image classification</td>\n",
              "      <td>3</td>\n",
              "    </tr>\n",
              "    <tr>\n",
              "      <th>3</th>\n",
              "      <td>1338.0</td>\n",
              "      <td>ml optimization using cognitive assistant</td>\n",
              "      <td>4</td>\n",
              "    </tr>\n",
              "    <tr>\n",
              "      <th>4</th>\n",
              "      <td>1276.0</td>\n",
              "      <td>deploy your python model as a restful api</td>\n",
              "      <td>5</td>\n",
              "    </tr>\n",
              "  </tbody>\n",
              "</table>\n",
              "</div>\n",
              "    <div class=\"colab-df-buttons\">\n",
              "\n",
              "  <div class=\"colab-df-container\">\n",
              "    <button class=\"colab-df-convert\" onclick=\"convertToInteractive('df-125083c7-05ee-4131-88e8-d4169c223f65')\"\n",
              "            title=\"Convert this dataframe to an interactive table.\"\n",
              "            style=\"display:none;\">\n",
              "\n",
              "  <svg xmlns=\"http://www.w3.org/2000/svg\" height=\"24px\" viewBox=\"0 -960 960 960\">\n",
              "    <path d=\"M120-120v-720h720v720H120Zm60-500h600v-160H180v160Zm220 220h160v-160H400v160Zm0 220h160v-160H400v160ZM180-400h160v-160H180v160Zm440 0h160v-160H620v160ZM180-180h160v-160H180v160Zm440 0h160v-160H620v160Z\"/>\n",
              "  </svg>\n",
              "    </button>\n",
              "\n",
              "  <style>\n",
              "    .colab-df-container {\n",
              "      display:flex;\n",
              "      gap: 12px;\n",
              "    }\n",
              "\n",
              "    .colab-df-convert {\n",
              "      background-color: #E8F0FE;\n",
              "      border: none;\n",
              "      border-radius: 50%;\n",
              "      cursor: pointer;\n",
              "      display: none;\n",
              "      fill: #1967D2;\n",
              "      height: 32px;\n",
              "      padding: 0 0 0 0;\n",
              "      width: 32px;\n",
              "    }\n",
              "\n",
              "    .colab-df-convert:hover {\n",
              "      background-color: #E2EBFA;\n",
              "      box-shadow: 0px 1px 2px rgba(60, 64, 67, 0.3), 0px 1px 3px 1px rgba(60, 64, 67, 0.15);\n",
              "      fill: #174EA6;\n",
              "    }\n",
              "\n",
              "    .colab-df-buttons div {\n",
              "      margin-bottom: 4px;\n",
              "    }\n",
              "\n",
              "    [theme=dark] .colab-df-convert {\n",
              "      background-color: #3B4455;\n",
              "      fill: #D2E3FC;\n",
              "    }\n",
              "\n",
              "    [theme=dark] .colab-df-convert:hover {\n",
              "      background-color: #434B5C;\n",
              "      box-shadow: 0px 1px 3px 1px rgba(0, 0, 0, 0.15);\n",
              "      filter: drop-shadow(0px 1px 2px rgba(0, 0, 0, 0.3));\n",
              "      fill: #FFFFFF;\n",
              "    }\n",
              "  </style>\n",
              "\n",
              "    <script>\n",
              "      const buttonEl =\n",
              "        document.querySelector('#df-125083c7-05ee-4131-88e8-d4169c223f65 button.colab-df-convert');\n",
              "      buttonEl.style.display =\n",
              "        google.colab.kernel.accessAllowed ? 'block' : 'none';\n",
              "\n",
              "      async function convertToInteractive(key) {\n",
              "        const element = document.querySelector('#df-125083c7-05ee-4131-88e8-d4169c223f65');\n",
              "        const dataTable =\n",
              "          await google.colab.kernel.invokeFunction('convertToInteractive',\n",
              "                                                    [key], {});\n",
              "        if (!dataTable) return;\n",
              "\n",
              "        const docLinkHtml = 'Like what you see? Visit the ' +\n",
              "          '<a target=\"_blank\" href=https://colab.research.google.com/notebooks/data_table.ipynb>data table notebook</a>'\n",
              "          + ' to learn more about interactive tables.';\n",
              "        element.innerHTML = '';\n",
              "        dataTable['output_type'] = 'display_data';\n",
              "        await google.colab.output.renderOutput(dataTable, element);\n",
              "        const docLink = document.createElement('div');\n",
              "        docLink.innerHTML = docLinkHtml;\n",
              "        element.appendChild(docLink);\n",
              "      }\n",
              "    </script>\n",
              "  </div>\n",
              "\n",
              "\n",
              "<div id=\"df-02ca4b2f-be35-4d63-9a1b-2ec6ef3239e3\">\n",
              "  <button class=\"colab-df-quickchart\" onclick=\"quickchart('df-02ca4b2f-be35-4d63-9a1b-2ec6ef3239e3')\"\n",
              "            title=\"Suggest charts\"\n",
              "            style=\"display:none;\">\n",
              "\n",
              "<svg xmlns=\"http://www.w3.org/2000/svg\" height=\"24px\"viewBox=\"0 0 24 24\"\n",
              "     width=\"24px\">\n",
              "    <g>\n",
              "        <path d=\"M19 3H5c-1.1 0-2 .9-2 2v14c0 1.1.9 2 2 2h14c1.1 0 2-.9 2-2V5c0-1.1-.9-2-2-2zM9 17H7v-7h2v7zm4 0h-2V7h2v10zm4 0h-2v-4h2v4z\"/>\n",
              "    </g>\n",
              "</svg>\n",
              "  </button>\n",
              "\n",
              "<style>\n",
              "  .colab-df-quickchart {\n",
              "      --bg-color: #E8F0FE;\n",
              "      --fill-color: #1967D2;\n",
              "      --hover-bg-color: #E2EBFA;\n",
              "      --hover-fill-color: #174EA6;\n",
              "      --disabled-fill-color: #AAA;\n",
              "      --disabled-bg-color: #DDD;\n",
              "  }\n",
              "\n",
              "  [theme=dark] .colab-df-quickchart {\n",
              "      --bg-color: #3B4455;\n",
              "      --fill-color: #D2E3FC;\n",
              "      --hover-bg-color: #434B5C;\n",
              "      --hover-fill-color: #FFFFFF;\n",
              "      --disabled-bg-color: #3B4455;\n",
              "      --disabled-fill-color: #666;\n",
              "  }\n",
              "\n",
              "  .colab-df-quickchart {\n",
              "    background-color: var(--bg-color);\n",
              "    border: none;\n",
              "    border-radius: 50%;\n",
              "    cursor: pointer;\n",
              "    display: none;\n",
              "    fill: var(--fill-color);\n",
              "    height: 32px;\n",
              "    padding: 0;\n",
              "    width: 32px;\n",
              "  }\n",
              "\n",
              "  .colab-df-quickchart:hover {\n",
              "    background-color: var(--hover-bg-color);\n",
              "    box-shadow: 0 1px 2px rgba(60, 64, 67, 0.3), 0 1px 3px 1px rgba(60, 64, 67, 0.15);\n",
              "    fill: var(--button-hover-fill-color);\n",
              "  }\n",
              "\n",
              "  .colab-df-quickchart-complete:disabled,\n",
              "  .colab-df-quickchart-complete:disabled:hover {\n",
              "    background-color: var(--disabled-bg-color);\n",
              "    fill: var(--disabled-fill-color);\n",
              "    box-shadow: none;\n",
              "  }\n",
              "\n",
              "  .colab-df-spinner {\n",
              "    border: 2px solid var(--fill-color);\n",
              "    border-color: transparent;\n",
              "    border-bottom-color: var(--fill-color);\n",
              "    animation:\n",
              "      spin 1s steps(1) infinite;\n",
              "  }\n",
              "\n",
              "  @keyframes spin {\n",
              "    0% {\n",
              "      border-color: transparent;\n",
              "      border-bottom-color: var(--fill-color);\n",
              "      border-left-color: var(--fill-color);\n",
              "    }\n",
              "    20% {\n",
              "      border-color: transparent;\n",
              "      border-left-color: var(--fill-color);\n",
              "      border-top-color: var(--fill-color);\n",
              "    }\n",
              "    30% {\n",
              "      border-color: transparent;\n",
              "      border-left-color: var(--fill-color);\n",
              "      border-top-color: var(--fill-color);\n",
              "      border-right-color: var(--fill-color);\n",
              "    }\n",
              "    40% {\n",
              "      border-color: transparent;\n",
              "      border-right-color: var(--fill-color);\n",
              "      border-top-color: var(--fill-color);\n",
              "    }\n",
              "    60% {\n",
              "      border-color: transparent;\n",
              "      border-right-color: var(--fill-color);\n",
              "    }\n",
              "    80% {\n",
              "      border-color: transparent;\n",
              "      border-right-color: var(--fill-color);\n",
              "      border-bottom-color: var(--fill-color);\n",
              "    }\n",
              "    90% {\n",
              "      border-color: transparent;\n",
              "      border-bottom-color: var(--fill-color);\n",
              "    }\n",
              "  }\n",
              "</style>\n",
              "\n",
              "  <script>\n",
              "    async function quickchart(key) {\n",
              "      const quickchartButtonEl =\n",
              "        document.querySelector('#' + key + ' button');\n",
              "      quickchartButtonEl.disabled = true;  // To prevent multiple clicks.\n",
              "      quickchartButtonEl.classList.add('colab-df-spinner');\n",
              "      try {\n",
              "        const charts = await google.colab.kernel.invokeFunction(\n",
              "            'suggestCharts', [key], {});\n",
              "      } catch (error) {\n",
              "        console.error('Error during call to suggestCharts:', error);\n",
              "      }\n",
              "      quickchartButtonEl.classList.remove('colab-df-spinner');\n",
              "      quickchartButtonEl.classList.add('colab-df-quickchart-complete');\n",
              "    }\n",
              "    (() => {\n",
              "      let quickchartButtonEl =\n",
              "        document.querySelector('#df-02ca4b2f-be35-4d63-9a1b-2ec6ef3239e3 button');\n",
              "      quickchartButtonEl.style.display =\n",
              "        google.colab.kernel.accessAllowed ? 'block' : 'none';\n",
              "    })();\n",
              "  </script>\n",
              "</div>\n",
              "\n",
              "    </div>\n",
              "  </div>\n"
            ],
            "application/vnd.google.colaboratory.intrinsic+json": {
              "type": "dataframe",
              "variable_name": "df",
              "summary": "{\n  \"name\": \"df\",\n  \"rows\": 45993,\n  \"fields\": [\n    {\n      \"column\": \"article_id\",\n      \"properties\": {\n        \"dtype\": \"number\",\n        \"std\": 486.64786555202915,\n        \"min\": 0.0,\n        \"max\": 1444.0,\n        \"num_unique_values\": 714,\n        \"samples\": [\n          373.0,\n          16.0,\n          1279.0\n        ],\n        \"semantic_type\": \"\",\n        \"description\": \"\"\n      }\n    },\n    {\n      \"column\": \"title\",\n      \"properties\": {\n        \"dtype\": \"category\",\n        \"num_unique_values\": 714,\n        \"samples\": [\n          \"working with notebooks in dsx\",\n          \"higher-order logistic regression for large datasets\",\n          \"dry bulb temperature, by country, station and year\"\n        ],\n        \"semantic_type\": \"\",\n        \"description\": \"\"\n      }\n    },\n    {\n      \"column\": \"user_id\",\n      \"properties\": {\n        \"dtype\": \"number\",\n        \"std\": 1712,\n        \"min\": 1,\n        \"max\": 5149,\n        \"num_unique_values\": 5149,\n        \"samples\": [\n          1177,\n          3363,\n          1091\n        ],\n        \"semantic_type\": \"\",\n        \"description\": \"\"\n      }\n    }\n  ]\n}"
            }
          },
          "metadata": {},
          "execution_count": 19
        }
      ],
      "source": [
        "## No need to change the code here - this will be helpful for later parts of the notebook\n",
        "# Run this cell to map the user email to a user_id column and remove the email column\n",
        "\n",
        "def email_mapper():\n",
        "    coded_dict = dict()\n",
        "    cter = 1\n",
        "    email_encoded = []\n",
        "\n",
        "    for val in df['email']:\n",
        "        if val not in coded_dict:\n",
        "            coded_dict[val] = cter\n",
        "            cter+=1\n",
        "\n",
        "        email_encoded.append(coded_dict[val])\n",
        "    return email_encoded\n",
        "\n",
        "email_encoded = email_mapper()\n",
        "del df['email']\n",
        "df['user_id'] = email_encoded\n",
        "\n",
        "# show header\n",
        "df.head()"
      ]
    },
    {
      "cell_type": "code",
      "execution_count": 20,
      "metadata": {
        "collapsed": true,
        "colab": {
          "base_uri": "https://localhost:8080/"
        },
        "id": "Bz0QINqh2pAu",
        "outputId": "6522be9a-7419-414f-bddc-98c6df8dcc15"
      },
      "outputs": [
        {
          "output_type": "stream",
          "name": "stdout",
          "text": [
            "It looks like you have everything right here! Nice job!\n"
          ]
        }
      ],
      "source": [
        "## If you stored all your results in the variable names above,\n",
        "## you shouldn't need to change anything in this cell\n",
        "\n",
        "sol_1_dict = {\n",
        "    '`50% of individuals have _____ or fewer interactions.`': median_val,\n",
        "    '`The total number of user-article interactions in the dataset is ______.`': user_article_interactions,\n",
        "    '`The maximum number of user-article interactions by any 1 user is ______.`': max_views_by_user,\n",
        "    '`The most viewed article in the dataset was viewed _____ times.`': max_views,\n",
        "    '`The article_id of the most viewed article is ______.`': most_viewed_article_id,\n",
        "    '`The number of unique articles that have at least 1 rating ______.`': unique_articles,\n",
        "    '`The number of unique users in the dataset is ______`': unique_users,\n",
        "    '`The number of unique articles on the IBM platform`': total_articles\n",
        "}\n",
        "\n",
        "# Test your dictionary against the solution\n",
        "t.sol_1_test(sol_1_dict)"
      ]
    },
    {
      "cell_type": "markdown",
      "metadata": {
        "id": "Q5dt-2Ft2pAv"
      },
      "source": [
        "### <a class=\"anchor\" id=\"Rank\">Part II: Rank-Based Recommendations</a>\n",
        "\n",
        "Unlike in the earlier lessons, we don't actually have ratings for whether a user liked an article or not.  We only know that a user has interacted with an article.  In these cases, the popularity of an article can really only be based on how often an article was interacted with.\n",
        "\n",
        "`1.` Fill in the function below to return the **n** top articles ordered with most interactions as the top. Test your function using the tests below."
      ]
    },
    {
      "cell_type": "code",
      "execution_count": 21,
      "metadata": {
        "collapsed": true,
        "id": "sjLutf282pAv"
      },
      "outputs": [],
      "source": [
        "def get_top_articles(n, df=df):\n",
        "    '''\n",
        "    INPUT:\n",
        "    n - (int) the number of top articles to return\n",
        "    df - (pandas dataframe) df as defined at the top of the notebook\n",
        "\n",
        "    OUTPUT:\n",
        "    top_articles - (list) A list of the top 'n' article titles\n",
        "\n",
        "    '''\n",
        "    articles_interactions = df.article_id.value_counts().index[:n]\n",
        "    top_articles = df[df.article_id.isin(articles_interactions)]['title'].unique().tolist()\n",
        "\n",
        "    return top_articles # Return the top article titles from df (not df_content)\n",
        "\n",
        "def get_top_article_ids(n, df=df):\n",
        "    '''\n",
        "    INPUT:\n",
        "    n - (int) the number of top articles to return\n",
        "    df - (pandas dataframe) df as defined at the top of the notebook\n",
        "\n",
        "    OUTPUT:\n",
        "\n",
        "    '''\n",
        "    top_articles = df.article_id.value_counts().index[:n].tolist()\n",
        "\n",
        "    return top_articles # Return the top article ids"
      ]
    },
    {
      "cell_type": "code",
      "execution_count": 22,
      "metadata": {
        "collapsed": true,
        "colab": {
          "base_uri": "https://localhost:8080/"
        },
        "id": "nwXerG8G2pAw",
        "outputId": "0398cc3e-7cef-4164-b09b-18ffe8d5a523"
      },
      "outputs": [
        {
          "output_type": "stream",
          "name": "stdout",
          "text": [
            "['healthcare python streaming application demo', 'use deep learning for image classification', 'apache spark lab, part 1: basic concepts', 'predicting churn with the spss random tree algorithm', 'analyze energy consumption in buildings', 'visualize car data with brunel', 'use xgboost, scikit-learn & ibm watson machine learning apis', 'gosales transactions for logistic regression model', 'insights from new york car accident reports', 'finding optimal locations of new store using decision optimization']\n",
            "[1429.0, 1330.0, 1431.0, 1427.0, 1364.0, 1314.0, 1293.0, 1170.0, 1162.0, 1304.0]\n"
          ]
        }
      ],
      "source": [
        "print(get_top_articles(10))\n",
        "print(get_top_article_ids(10))"
      ]
    },
    {
      "cell_type": "code",
      "execution_count": 23,
      "metadata": {
        "collapsed": true,
        "colab": {
          "base_uri": "https://localhost:8080/"
        },
        "id": "XEu77Qjk2pAw",
        "outputId": "f68fcc18-6762-4213-b465-674362d023b6"
      },
      "outputs": [
        {
          "output_type": "stream",
          "name": "stdout",
          "text": [
            "Your top_5 looks like the solution list! Nice job.\n",
            "Your top_10 looks like the solution list! Nice job.\n",
            "Your top_20 looks like the solution list! Nice job.\n"
          ]
        }
      ],
      "source": [
        "# Test your function by returning the top 5, 10, and 20 articles\n",
        "top_5 = get_top_articles(5)\n",
        "top_10 = get_top_articles(10)\n",
        "top_20 = get_top_articles(20)\n",
        "\n",
        "# Test each of your three lists from above\n",
        "t.sol_2_test(get_top_articles)"
      ]
    },
    {
      "cell_type": "markdown",
      "metadata": {
        "id": "few8O8Ke2pAx"
      },
      "source": [
        "### <a class=\"anchor\" id=\"User-User\">Part III: User-User Based Collaborative Filtering</a>\n",
        "\n",
        "\n",
        "`1.` Use the function below to reformat the **df** dataframe to be shaped with users as the rows and articles as the columns.  \n",
        "\n",
        "* Each **user** should only appear in each **row** once.\n",
        "\n",
        "\n",
        "* Each **article** should only show up in one **column**.  \n",
        "\n",
        "\n",
        "* **If a user has interacted with an article, then place a 1 where the user-row meets for that article-column**.  It does not matter how many times a user has interacted with the article, all entries where a user has interacted with an article should be a 1.  \n",
        "\n",
        "\n",
        "* **If a user has not interacted with an item, then place a zero where the user-row meets for that article-column**.\n",
        "\n",
        "Use the tests to make sure the basic structure of your matrix matches what is expected by the solution."
      ]
    },
    {
      "cell_type": "code",
      "execution_count": 24,
      "metadata": {
        "collapsed": true,
        "id": "K-98EFjE2pAx"
      },
      "outputs": [],
      "source": [
        "# create the user-article matrix with 1's and 0's\n",
        "\n",
        "def create_user_item_matrix(df):\n",
        "    '''\n",
        "    INPUT:\n",
        "    df - pandas dataframe with article_id, title, user_id columns\n",
        "\n",
        "    OUTPUT:\n",
        "    user_item - user item matrix\n",
        "\n",
        "    Description:\n",
        "    Return a matrix with user ids as rows and article ids on the columns with 1 values where a user interacted with\n",
        "    an article and a 0 otherwise\n",
        "    '''\n",
        "\n",
        "    user_item = df.groupby(['user_id', 'article_id'])['article_id'].count().unstack()\n",
        "    user_item = user_item.fillna(0)\n",
        "    user_item[user_item > 1] = 1\n",
        "\n",
        "    return user_item\n",
        "\n",
        "user_item = create_user_item_matrix(df)"
      ]
    },
    {
      "cell_type": "code",
      "execution_count": 25,
      "metadata": {
        "collapsed": true,
        "colab": {
          "base_uri": "https://localhost:8080/"
        },
        "id": "4GAzVWSA2pAy",
        "outputId": "00254145-758e-4369-9e8c-6387c8e4f6ac"
      },
      "outputs": [
        {
          "output_type": "stream",
          "name": "stdout",
          "text": [
            "You have passed our quick tests!  Please proceed!\n"
          ]
        }
      ],
      "source": [
        "## Tests: You should just need to run this cell.  Don't change the code.\n",
        "assert user_item.shape[0] == 5149, \"Oops!  The number of users in the user-article matrix doesn't look right.\"\n",
        "assert user_item.shape[1] == 714, \"Oops!  The number of articles in the user-article matrix doesn't look right.\"\n",
        "assert user_item.sum(axis=1)[1] == 36, \"Oops!  The number of articles seen by user 1 doesn't look right.\"\n",
        "print(\"You have passed our quick tests!  Please proceed!\")"
      ]
    },
    {
      "cell_type": "markdown",
      "metadata": {
        "id": "282DZaSx2pAz"
      },
      "source": [
        "`2.` Complete the function below which should take a user_id and provide an ordered list of the most similar users to that user (from most similar to least similar).  The returned result should not contain the provided user_id, as we know that each user is similar to him/herself. Because the results for each user here are binary, it (perhaps) makes sense to compute similarity as the dot product of two users.\n",
        "\n",
        "Use the tests to test your function."
      ]
    },
    {
      "cell_type": "code",
      "execution_count": 26,
      "metadata": {
        "collapsed": true,
        "id": "xxP9RVQk2pAz"
      },
      "outputs": [],
      "source": [
        "def find_similar_users(user_id, user_item=user_item):\n",
        "    '''\n",
        "    INPUT:\n",
        "    user_id - (int) a user_id\n",
        "    user_item - (pandas dataframe) matrix of users by articles:\n",
        "                1's when a user has interacted with an article, 0 otherwise\n",
        "\n",
        "    OUTPUT:\n",
        "    similar_users - (list) an ordered list where the closest users (largest dot product users)\n",
        "                    are listed first\n",
        "\n",
        "    Description:\n",
        "    Computes the similarity of every pair of users based on the dot product\n",
        "    Returns an ordered\n",
        "\n",
        "    '''\n",
        "    # compute similarity of each user to the provided user\n",
        "    similarity = user_item.dot(user_item.loc[user_id])\n",
        "\n",
        "    # sort by similarity\n",
        "    most_similar_users = similarity.sort_values(ascending=False).index.tolist()\n",
        "\n",
        "    # remove the own user's id\n",
        "    most_similar_users.remove(user_id)\n",
        "\n",
        "    return most_similar_users # return a list of the users in order from most to least similar\n",
        ""
      ]
    },
    {
      "cell_type": "code",
      "execution_count": 27,
      "metadata": {
        "collapsed": true,
        "colab": {
          "base_uri": "https://localhost:8080/"
        },
        "id": "cgGtYjK82pA0",
        "outputId": "04d2f242-de00-44db-a152-773567ec0edd"
      },
      "outputs": [
        {
          "output_type": "stream",
          "name": "stdout",
          "text": [
            "The 10 most similar users to user 1 are: [3933, 23, 3782, 203, 4459, 3870, 131, 4201, 46, 5041]\n",
            "The 5 most similar users to user 3933 are: [1, 23, 3782, 203, 4459]\n",
            "The 3 most similar users to user 46 are: [4201, 3782, 23]\n"
          ]
        }
      ],
      "source": [
        "# Do a spot check of your function\n",
        "print(\"The 10 most similar users to user 1 are: {}\".format(find_similar_users(1)[:10]))\n",
        "print(\"The 5 most similar users to user 3933 are: {}\".format(find_similar_users(3933)[:5]))\n",
        "print(\"The 3 most similar users to user 46 are: {}\".format(find_similar_users(46)[:3]))"
      ]
    },
    {
      "cell_type": "markdown",
      "metadata": {
        "id": "N8oisLme2pA1"
      },
      "source": [
        "`3.` Now that you have a function that provides the most similar users to each user, you will want to use these users to find articles you can recommend.  Complete the functions below to return the articles you would recommend to each user."
      ]
    },
    {
      "cell_type": "code",
      "execution_count": 28,
      "metadata": {
        "collapsed": true,
        "id": "h-30Pfbf2pA1"
      },
      "outputs": [],
      "source": [
        "def get_article_names(article_ids, df=df):\n",
        "    '''\n",
        "    INPUT:\n",
        "    article_ids - (list) a list of article ids\n",
        "    df - (pandas dataframe) df as defined at the top of the notebook\n",
        "\n",
        "    OUTPUT:\n",
        "    article_names - (list) a list of article names associated with the list of article ids\n",
        "                    (this is identified by the title column)\n",
        "    '''\n",
        "    # Your code here\n",
        "    article_ids = [float(id) for id in article_ids]\n",
        "    article_names = list(set(df[df.article_id.isin(article_ids)]['title']))\n",
        "\n",
        "    return article_names # Return the article names associated with list of article ids\n",
        "\n",
        "\n",
        "def get_user_articles(user_id, user_item=user_item):\n",
        "    '''\n",
        "    INPUT:\n",
        "    user_id - (int) a user id\n",
        "    user_item - (pandas dataframe) matrix of users by articles:\n",
        "                1's when a user has interacted with an article, 0 otherwise\n",
        "\n",
        "    OUTPUT:\n",
        "    article_ids - (list) a list of the article ids seen by the user\n",
        "    article_names - (list) a list of article names associated with the list of article ids\n",
        "\n",
        "    Description:\n",
        "    Provides a list of the article_ids and article titles that have been seen by a user\n",
        "    '''\n",
        "    # Your code here\n",
        "    article_ids = list(user_item.columns[np.nonzero(user_item.loc[user_id])])\n",
        "    article_ids = [str(id) for id in article_ids]\n",
        "    article_names = get_article_names(article_ids)\n",
        "\n",
        "    return article_ids, article_names # return the ids and names\n",
        "\n",
        "\n",
        "def user_user_recs(user_id, m=10):\n",
        "    '''\n",
        "    INPUT:\n",
        "    user_id - (int) a user id\n",
        "    m - (int) the number of recommendations you want for the user\n",
        "\n",
        "    OUTPUT:\n",
        "    recs - (list) a list of recommendations for the user\n",
        "\n",
        "    Description:\n",
        "    Loops through the users based on closeness to the input user_id\n",
        "    For each user - finds articles the user hasn't seen before and provides them as recs\n",
        "    Does this until m recommendations are found\n",
        "\n",
        "    Notes:\n",
        "    Users who are the same closeness are chosen arbitrarily as the 'next' user\n",
        "\n",
        "    For the user where the number of recommended articles starts below m\n",
        "    and ends exceeding m, the last items are chosen arbitrarily\n",
        "\n",
        "    '''\n",
        "    # Your code here\n",
        "    recs = []\n",
        "    articles_seen = set(get_user_articles(user_id)[0])\n",
        "    similar_users = find_similar_users(user_id)\n",
        "\n",
        "    for user in similar_users:\n",
        "        neighbor_articles = set(get_user_articles(user)[0])\n",
        "        articles_to_add = list(neighbor_articles - articles_seen)\n",
        "        num_articles = min(len(articles_to_add), m - len(recs))\n",
        "        recs.extend(articles_to_add[:num_articles])\n",
        "\n",
        "        if len(recs) >= m:\n",
        "            break\n",
        "\n",
        "\n",
        "    return recs # return your recommendations for this user_id"
      ]
    },
    {
      "cell_type": "code",
      "execution_count": 29,
      "metadata": {
        "collapsed": true,
        "colab": {
          "base_uri": "https://localhost:8080/"
        },
        "id": "tZkPe8WM2pA2",
        "outputId": "35d96d2e-0160-4675-9040-99f2f77ee9dd"
      },
      "outputs": [
        {
          "output_type": "execute_result",
          "data": {
            "text/plain": [
              "['timeseries data analysis of iot events by using jupyter notebook',\n",
              " 'the 3 kinds of context: machine learning and the art of the frame',\n",
              " 'why even a moth’s brain is smarter than an ai',\n",
              " 'from scikit-learn model to cloud with wml client',\n",
              " 'analyze accident reports on amazon emr spark',\n",
              " 'improving real-time object detection with yolo',\n",
              " 'leverage python, scikit, and text classification for behavioral profiling',\n",
              " 'recent trends in recommender systems',\n",
              " 'spark-based machine learning tools for capturing word meanings',\n",
              " 'better together: spss and data science experience']"
            ]
          },
          "metadata": {},
          "execution_count": 29
        }
      ],
      "source": [
        "# Check Results\n",
        "get_article_names(user_user_recs(1, 10)) # Return 10 recommendations for user 1"
      ]
    },
    {
      "cell_type": "code",
      "execution_count": 30,
      "metadata": {
        "collapsed": true,
        "colab": {
          "base_uri": "https://localhost:8080/"
        },
        "id": "RUAmgAOn2pA2",
        "outputId": "424acc2c-7ca1-41bf-a0d3-d3f2a0380c84"
      },
      "outputs": [
        {
          "output_type": "stream",
          "name": "stdout",
          "text": [
            "If this is all you see, you passed all of our tests!  Nice job!\n"
          ]
        }
      ],
      "source": [
        "# Test your functions here - No need to change this code - just run this cell\n",
        "assert set(get_article_names(['1024.0', '1176.0', '1305.0', '1314.0', '1422.0', '1427.0'])) == set(['using deep learning to reconstruct high-resolution audio', 'build a python app on the streaming analytics service', 'gosales transactions for naive bayes model', 'healthcare python streaming application demo', 'use r dataframes & ibm watson natural language understanding', 'use xgboost, scikit-learn & ibm watson machine learning apis']), \"Oops! Your the get_article_names function doesn't work quite how we expect.\"\n",
        "assert set(get_article_names(['1320.0', '232.0', '844.0'])) == set(['housing (2015): united states demographic measures','self-service data preparation with ibm data refinery','use the cloudant-spark connector in python notebook']), \"Oops! Your the get_article_names function doesn't work quite how we expect.\"\n",
        "assert set(get_user_articles(20)[0]) == set(['1320.0', '232.0', '844.0'])\n",
        "assert set(get_user_articles(20)[1]) == set(['housing (2015): united states demographic measures', 'self-service data preparation with ibm data refinery','use the cloudant-spark connector in python notebook'])\n",
        "assert set(get_user_articles(2)[0]) == set(['1024.0', '1176.0', '1305.0', '1314.0', '1422.0', '1427.0'])\n",
        "assert set(get_user_articles(2)[1]) == set(['using deep learning to reconstruct high-resolution audio', 'build a python app on the streaming analytics service', 'gosales transactions for naive bayes model', 'healthcare python streaming application demo', 'use r dataframes & ibm watson natural language understanding', 'use xgboost, scikit-learn & ibm watson machine learning apis'])\n",
        "print(\"If this is all you see, you passed all of our tests!  Nice job!\")"
      ]
    },
    {
      "cell_type": "markdown",
      "metadata": {
        "id": "-a9g9cAu2pA3"
      },
      "source": [
        "`4.` Now we are going to improve the consistency of the **user_user_recs** function from above.  \n",
        "\n",
        "* Instead of arbitrarily choosing when we obtain users who are all the same closeness to a given user - choose the users that have the most total article interactions before choosing those with fewer article interactions.\n",
        "\n",
        "\n",
        "* Instead of arbitrarily choosing articles from the user where the number of recommended articles starts below m and ends exceeding m, choose articles with the articles with the most total interactions before choosing those with fewer total interactions. This ranking should be  what would be obtained from the **top_articles** function you wrote earlier."
      ]
    },
    {
      "cell_type": "code",
      "execution_count": 31,
      "metadata": {
        "collapsed": true,
        "id": "A9jMwm632pA4"
      },
      "outputs": [],
      "source": [
        "def get_top_sorted_users(user_id, df=df, user_item=user_item):\n",
        "    '''\n",
        "    INPUT:\n",
        "    user_id - (int)\n",
        "    df - (pandas dataframe) df as defined at the top of the notebook\n",
        "    user_item - (pandas dataframe) matrix of users by articles:\n",
        "            1's when a user has interacted with an article, 0 otherwise\n",
        "\n",
        "\n",
        "    OUTPUT:\n",
        "    neighbors_df - (pandas dataframe) a dataframe with:\n",
        "                    neighbor_id - is a neighbor user_id\n",
        "                    similarity - measure of the similarity of each user to the provided user_id\n",
        "                    num_interactions - the number of articles viewed by the user - if a u\n",
        "\n",
        "    Other Details - sort the neighbors_df by the similarity and then by number of interactions where\n",
        "                    highest of each is higher in the dataframe\n",
        "\n",
        "    '''\n",
        "\n",
        "    # Calculate similarity scores for all users at once using matrix dot product\n",
        "    similarities = np.dot(user_item.loc[user_id], user_item.T)\n",
        "\n",
        "    # Count interactions for each user\n",
        "    num_interactions = df.groupby('user_id')['article_id'].count()\n",
        "\n",
        "    # Create DataFrame from calculated values\n",
        "    neighbors_df = pd.DataFrame({\n",
        "        'neighbor_id': user_item.index,\n",
        "        'similarity': similarities,\n",
        "        'num_interactions': num_interactions\n",
        "    })\n",
        "\n",
        "    # Sort DataFrame by similarity and number of interactions\n",
        "    neighbors_df.sort_values(by=['similarity', 'num_interactions'], ascending=False, inplace=True)\n",
        "    neighbors_df = neighbors_df[neighbors_df.neighbor_id != user_id]\n",
        "\n",
        "    return neighbors_df\n",
        "\n",
        "\n",
        "def user_user_recs_part2(user_id, m=10):\n",
        "    '''\n",
        "    INPUT:\n",
        "    user_id - (int) a user id\n",
        "    m - (int) the number of recommendations you want for the user\n",
        "\n",
        "    OUTPUT:\n",
        "    recs - (list) a list of recommendations for the user by article id\n",
        "    rec_names - (list) a list of recommendations for the user by article title\n",
        "\n",
        "    Description:\n",
        "    Loops through the users based on closeness to the input user_id\n",
        "    For each user - finds articles the user hasn't seen before and provides them as recs\n",
        "    Does this until m recommendations are found\n",
        "\n",
        "    Notes:\n",
        "    * Choose the users that have the most total article interactions\n",
        "    before choosing those with fewer article interactions.\n",
        "\n",
        "    * Choose articles with the articles with the most total interactions\n",
        "    before choosing those with fewer total interactions.\n",
        "\n",
        "    '''\n",
        "    # Your code here\n",
        "    recs = []\n",
        "    articles_seen = set(get_user_articles(user_id)[0])\n",
        "    sorted_users_df = get_top_sorted_users(user_id)\n",
        "\n",
        "    top_article_ids = get_top_article_ids(int(df['article_id'].max()))\n",
        "\n",
        "    for user in sorted_users_df['neighbor_id']:\n",
        "        neighbor_articles = set(get_user_articles(user)[0])\n",
        "        articles_to_add = neighbor_articles - articles_seen\n",
        "\n",
        "        sorted_articles = [x for x in top_article_ids if str(x) in articles_to_add]\n",
        "        num_articles = min(len(sorted_articles), m - len(recs))\n",
        "        recs.extend(sorted_articles[:num_articles])\n",
        "\n",
        "        if len(recs) >= m:\n",
        "            break\n",
        "\n",
        "    rec_names = get_article_names(recs)\n",
        "\n",
        "    return recs, rec_names"
      ]
    },
    {
      "cell_type": "code",
      "execution_count": 32,
      "metadata": {
        "collapsed": true,
        "colab": {
          "base_uri": "https://localhost:8080/"
        },
        "id": "ooTxW_ea2pA5",
        "outputId": "bbf3baee-bdb6-4ee5-cd62-22d9ad951a1f"
      },
      "outputs": [
        {
          "output_type": "stream",
          "name": "stdout",
          "text": [
            "The top 10 recommendations for user 20 are the following article ids:\n",
            "[1330.0, 1427.0, 1364.0, 1170.0, 1162.0, 1304.0, 1351.0, 1160.0, 1354.0, 1368.0]\n",
            "\n",
            "The top 10 recommendations for user 20 are the following article names:\n",
            "['model bike sharing data with spss', 'predicting churn with the spss random tree algorithm', 'movie recommender system with spark machine learning', 'apache spark lab, part 1: basic concepts', 'gosales transactions for logistic regression model', 'putting a human face on machine learning', 'analyze accident reports on amazon emr spark', 'use xgboost, scikit-learn & ibm watson machine learning apis', 'insights from new york car accident reports', 'analyze energy consumption in buildings']\n"
          ]
        }
      ],
      "source": [
        "# Quick spot check - don't change this code - just use it to test your functions\n",
        "rec_ids, rec_names = user_user_recs_part2(20, 10)\n",
        "print(\"The top 10 recommendations for user 20 are the following article ids:\")\n",
        "print(rec_ids)\n",
        "print()\n",
        "print(\"The top 10 recommendations for user 20 are the following article names:\")\n",
        "print(rec_names)"
      ]
    },
    {
      "cell_type": "markdown",
      "metadata": {
        "id": "T5jM_gF62pA5"
      },
      "source": [
        "`5.` Use your functions from above to correctly fill in the solutions to the dictionary below.  Then test your dictionary against the solution.  Provide the code you need to answer each following the comments below."
      ]
    },
    {
      "cell_type": "code",
      "execution_count": 33,
      "metadata": {
        "collapsed": true,
        "id": "gCelxHn92pA5"
      },
      "outputs": [],
      "source": [
        "### Tests with a dictionary of results\n",
        "\n",
        "user1_most_sim =  get_top_sorted_users(1).iloc[0]['neighbor_id']   # Find the user that is most similar to user 1\n",
        "user131_10th_sim = get_top_sorted_users(131).iloc[9]['neighbor_id']  # Find the 10th most similar user to user 131"
      ]
    },
    {
      "cell_type": "code",
      "execution_count": 34,
      "metadata": {
        "collapsed": true,
        "colab": {
          "base_uri": "https://localhost:8080/"
        },
        "id": "oSv6dYr92pA6",
        "outputId": "304c5c7a-749d-4c1d-cd18-1ad0b931a1c1"
      },
      "outputs": [
        {
          "output_type": "stream",
          "name": "stdout",
          "text": [
            "This all looks good!  Nice job!\n"
          ]
        }
      ],
      "source": [
        "## Dictionary Test Here\n",
        "sol_5_dict = {\n",
        "    'The user that is most similar to user 1.': user1_most_sim,\n",
        "    'The user that is the 10th most similar to user 131': user131_10th_sim,\n",
        "}\n",
        "\n",
        "t.sol_5_test(sol_5_dict)"
      ]
    },
    {
      "cell_type": "markdown",
      "metadata": {
        "id": "xzk_xQZD2pA6"
      },
      "source": [
        "`6.` If we were given a new user, which of the above functions would you be able to use to make recommendations?  Explain.  Can you think of a better way we might make recommendations?  Use the cell below to explain a better method for new users."
      ]
    },
    {
      "cell_type": "markdown",
      "metadata": {
        "id": "px3FsIE-2pA6"
      },
      "source": [
        "**If we were given a new user, we can use the get_top_articles function to make recommendations. Collaborative filtering works effectively when we have existing users or items in the dataset. Without existing users or items, we cannot find similar items or users through collaborative filtering.**"
      ]
    },
    {
      "cell_type": "markdown",
      "metadata": {
        "id": "squzFoW72pBA"
      },
      "source": [
        "`7.` Using your existing functions, provide the top 10 recommended articles you would provide for the a new user below.  You can test your function against our thoughts to make sure we are all on the same page with how we might make a recommendation."
      ]
    },
    {
      "cell_type": "code",
      "execution_count": 35,
      "metadata": {
        "collapsed": true,
        "id": "sbG4luEL2pBB"
      },
      "outputs": [],
      "source": [
        "new_user = '0.0'\n",
        "\n",
        "# What would your recommendations be for this new user '0.0'?  As a new user, they have no observed articles.\n",
        "# Provide a list of the top 10 article ids you would give to\n",
        "new_user_recs = [str(article) for article in get_top_article_ids(10)] # Your recommendations here\n"
      ]
    },
    {
      "cell_type": "code",
      "execution_count": 36,
      "metadata": {
        "collapsed": true,
        "colab": {
          "base_uri": "https://localhost:8080/"
        },
        "id": "YDX-vJ6k2pBB",
        "outputId": "88db2fa1-436b-4e94-da5f-82ac1ec3be21"
      },
      "outputs": [
        {
          "output_type": "stream",
          "name": "stdout",
          "text": [
            "That's right!  Nice job!\n"
          ]
        }
      ],
      "source": [
        "assert set(new_user_recs) == set(['1314.0','1429.0','1293.0','1427.0','1162.0','1364.0','1304.0','1170.0','1431.0','1330.0']), \"Oops!  It makes sense that in this case we would want to recommend the most popular articles, because we don't know anything about these users.\"\n",
        "\n",
        "print(\"That's right!  Nice job!\")"
      ]
    },
    {
      "cell_type": "markdown",
      "metadata": {
        "id": "RXwD10T62pBB"
      },
      "source": [
        "### <a class=\"anchor\" id=\"Content-Recs\">Part IV: Content Based Recommendations (EXTRA - NOT REQUIRED)</a>\n",
        "\n",
        "Another method we might use to make recommendations is to perform a ranking of the highest ranked articles associated with some term.  You might consider content to be the **doc_body**, **doc_description**, or **doc_full_name**.  There isn't one way to create a content based recommendation, especially considering that each of these columns hold content related information.  \n",
        "\n",
        "`1.` Use the function body below to create a content based recommender.  Since there isn't one right answer for this recommendation tactic, no test functions are provided.  Feel free to change the function inputs if you decide you want to try a method that requires more input values.  The input values are currently set with one idea in mind that you may use to make content based recommendations.  One additional idea is that you might want to choose the most popular recommendations that meet your 'content criteria', but again, there is a lot of flexibility in how you might make these recommendations.\n",
        "\n",
        "### This part is NOT REQUIRED to pass this project.  However, you may choose to take this on as an extra way to show off your skills."
      ]
    },
    {
      "cell_type": "code",
      "execution_count": 37,
      "metadata": {
        "collapsed": true,
        "id": "E-9zgQKP2pBB"
      },
      "outputs": [],
      "source": [
        "def make_content_recs():\n",
        "    '''\n",
        "    INPUT:\n",
        "\n",
        "    OUTPUT:\n",
        "\n",
        "    '''"
      ]
    },
    {
      "cell_type": "markdown",
      "metadata": {
        "id": "PjiJqSo02pBC"
      },
      "source": [
        "`2.` Now that you have put together your content-based recommendation system, use the cell below to write a summary explaining how your content based recommender works.  Do you see any possible improvements that could be made to your function?  Is there anything novel about your content based recommender?\n",
        "\n",
        "### This part is NOT REQUIRED to pass this project.  However, you may choose to take this on as an extra way to show off your skills."
      ]
    },
    {
      "cell_type": "markdown",
      "metadata": {
        "id": "TX7Gwlig2pBC"
      },
      "source": [
        "**Write an explanation of your content based recommendation system here.**"
      ]
    },
    {
      "cell_type": "markdown",
      "metadata": {
        "id": "kBhJvnUG2pBD"
      },
      "source": [
        "`3.` Use your content-recommendation system to make recommendations for the below scenarios based on the comments.  Again no tests are provided here, because there isn't one right answer that could be used to find these content based recommendations.\n",
        "\n",
        "### This part is NOT REQUIRED to pass this project.  However, you may choose to take this on as an extra way to show off your skills."
      ]
    },
    {
      "cell_type": "code",
      "execution_count": 38,
      "metadata": {
        "collapsed": true,
        "id": "j-UvDjW22pBD"
      },
      "outputs": [],
      "source": [
        "# make recommendations for a brand new user\n",
        "\n",
        "\n",
        "# make recommendations for a user who only has interacted with article id '1427.0'\n",
        "\n"
      ]
    },
    {
      "cell_type": "markdown",
      "metadata": {
        "id": "3GhNAy3w2pBE"
      },
      "source": [
        "### <a class=\"anchor\" id=\"Matrix-Fact\">Part V: Matrix Factorization</a>\n",
        "\n",
        "In this part of the notebook, you will build use matrix factorization to make article recommendations to the users on the IBM Watson Studio platform.\n",
        "\n",
        "`1.` You should have already created a **user_item** matrix above in **question 1** of **Part III** above.  This first question here will just require that you run the cells to get things set up for the rest of **Part V** of the notebook."
      ]
    },
    {
      "cell_type": "code",
      "execution_count": null,
      "metadata": {
        "collapsed": true,
        "id": "LtrULwR_2pBF"
      },
      "outputs": [],
      "source": [
        "# Load the matrix here\n",
        "# user_item_matrix = pd.read_pickle('user_item_matrix.p')"
      ]
    },
    {
      "cell_type": "code",
      "execution_count": null,
      "metadata": {
        "collapsed": true,
        "id": "T4FhJ4be2pBF"
      },
      "outputs": [],
      "source": [
        "# quick look at the matrix\n",
        "# user_item_matrix.head()"
      ]
    },
    {
      "cell_type": "markdown",
      "metadata": {
        "id": "k5HEV1XH2pBF"
      },
      "source": [
        "`2.` In this situation, you can use Singular Value Decomposition from [numpy](https://docs.scipy.org/doc/numpy-1.14.0/reference/generated/numpy.linalg.svd.html) on the user-item matrix.  Use the cell to perform SVD, and explain why this is different than in the lesson."
      ]
    },
    {
      "cell_type": "code",
      "execution_count": 39,
      "metadata": {
        "collapsed": true,
        "id": "EF7j2P-h2pBG"
      },
      "outputs": [],
      "source": [
        "# Perform SVD on the User-Item Matrix Here\n",
        "\n",
        "u, s, vt = np.linalg.svd(user_item) # use the built in to get the three matrices"
      ]
    },
    {
      "cell_type": "markdown",
      "metadata": {
        "id": "8iRzwHvn2pBG"
      },
      "source": [
        "**To perform Singular Value Decomposition (SVD) using NumPy, the matrix shouldn't have missing values or NaNs. However, having 0s and 1s in the matrix is not a problem for SVD. SVD can still be applied to matrices containing only 0s and 1s.**"
      ]
    },
    {
      "cell_type": "markdown",
      "metadata": {
        "id": "bLnMDmey2pBH"
      },
      "source": [
        "`3.` Now for the tricky part, how do we choose the number of latent features to use?  Running the below cell, you can see that as the number of latent features increases, we obtain a lower error rate on making predictions for the 1 and 0 values in the user-item matrix.  Run the cell below to get an idea of how the accuracy improves as we increase the number of latent features."
      ]
    },
    {
      "cell_type": "code",
      "source": [
        "u.shape, s.shape, vt.shape,"
      ],
      "metadata": {
        "colab": {
          "base_uri": "https://localhost:8080/"
        },
        "id": "IscX-F7qzXBV",
        "outputId": "92344dc7-9267-40c3-f88b-3ad558311cb8"
      },
      "execution_count": 42,
      "outputs": [
        {
          "output_type": "execute_result",
          "data": {
            "text/plain": [
              "((5149, 5149), (714,), (714, 714))"
            ]
          },
          "metadata": {},
          "execution_count": 42
        }
      ]
    },
    {
      "cell_type": "code",
      "execution_count": 41,
      "metadata": {
        "collapsed": true,
        "colab": {
          "base_uri": "https://localhost:8080/",
          "height": 472
        },
        "id": "01GtpWg62pBH",
        "outputId": "5c9db734-aafc-4d0b-a0ce-953d11607eb4"
      },
      "outputs": [
        {
          "output_type": "display_data",
          "data": {
            "text/plain": [
              "<Figure size 640x480 with 1 Axes>"
            ],
            "image/png": "[encoded data removed]"
          },
          "metadata": {}
        }
      ],
      "source": [
        "num_latent_feats = np.arange(10,700+10,20)\n",
        "sum_errs = []\n",
        "\n",
        "for k in num_latent_feats:\n",
        "    # restructure with k latent features\n",
        "    s_new, u_new, vt_new = np.diag(s[:k]), u[:, :k], vt[:k, :]\n",
        "\n",
        "    # take dot product\n",
        "    user_item_est = np.around(np.dot(np.dot(u_new, s_new), vt_new))\n",
        "\n",
        "    # compute error for each prediction to actual value\n",
        "    diffs = np.subtract(user_item, user_item_est)\n",
        "\n",
        "    # total errors and keep track of them\n",
        "    err = np.sum(np.sum(np.abs(diffs)))\n",
        "    sum_errs.append(err)\n",
        "\n",
        "\n",
        "plt.plot(num_latent_feats, 1 - np.array(sum_errs)/df.shape[0]);\n",
        "plt.xlabel('Number of Latent Features');\n",
        "plt.ylabel('Accuracy');\n",
        "plt.title('Accuracy vs. Number of Latent Features');"
      ]
    },
    {
      "cell_type": "markdown",
      "metadata": {
        "id": "UNodgu4y2pBH"
      },
      "source": [
        "`4.` From the above, we can't really be sure how many features to use, because simply having a better way to predict the 1's and 0's of the matrix doesn't exactly give us an indication of if we are able to make good recommendations.  Instead, we might split our dataset into a training and test set of data, as shown in the cell below.  \n",
        "\n",
        "Use the code from question 3 to understand the impact on accuracy of the training and test sets of data with different numbers of latent features. Using the split below:\n",
        "\n",
        "* How many users can we make predictions for in the test set?  \n",
        "* How many users are we not able to make predictions for because of the cold start problem?\n",
        "* How many articles can we make predictions for in the test set?  \n",
        "* How many articles are we not able to make predictions for because of the cold start problem?"
      ]
    },
    {
      "cell_type": "code",
      "execution_count": 44,
      "metadata": {
        "collapsed": true,
        "id": "lEomBX342pBI"
      },
      "outputs": [],
      "source": [
        "df_train = df.head(40000)\n",
        "df_test = df.tail(5993)\n",
        "\n",
        "def create_test_and_train_user_item(df_train, df_test):\n",
        "    '''\n",
        "    INPUT:\n",
        "    df_train - training dataframe\n",
        "    df_test - test dataframe\n",
        "\n",
        "    OUTPUT:\n",
        "    user_item_train - a user-item matrix of the training dataframe\n",
        "                      (unique users for each row and unique articles for each column)\n",
        "    user_item_test - a user-item matrix of the testing dataframe\n",
        "                    (unique users for each row and unique articles for each column)\n",
        "    test_idx - all of the test user ids\n",
        "    test_arts - all of the test article ids\n",
        "\n",
        "    '''\n",
        "    # Your code here\n",
        "    user_item_train = create_user_item_matrix(df_train)\n",
        "    user_item_test = create_user_item_matrix(df_test)\n",
        "    test_idx = list(user_item_test.index.values)\n",
        "    test_arts = list(user_item_test.columns.values)\n",
        "\n",
        "    return user_item_train, user_item_test, test_idx, test_arts\n",
        "\n",
        "user_item_train, user_item_test, test_idx, test_arts = create_test_and_train_user_item(df_train, df_test)"
      ]
    },
    {
      "cell_type": "code",
      "source": [
        "len(test_idx), len(test_arts)"
      ],
      "metadata": {
        "colab": {
          "base_uri": "https://localhost:8080/"
        },
        "id": "GU66Owvz7bDd",
        "outputId": "582bb137-f61a-49a7-8f25-9c1688fc92b1"
      },
      "execution_count": 47,
      "outputs": [
        {
          "output_type": "execute_result",
          "data": {
            "text/plain": [
              "(682, 574)"
            ]
          },
          "metadata": {},
          "execution_count": 47
        }
      ]
    },
    {
      "cell_type": "code",
      "source": [
        "user_item_train.index.isin(test_idx).sum()"
      ],
      "metadata": {
        "colab": {
          "base_uri": "https://localhost:8080/"
        },
        "id": "Ht3Xl0r-7tv0",
        "outputId": "00a525bc-7761-4ff3-d557-db870462cf83"
      },
      "execution_count": 51,
      "outputs": [
        {
          "output_type": "execute_result",
          "data": {
            "text/plain": [
              "20"
            ]
          },
          "metadata": {},
          "execution_count": 51
        }
      ]
    },
    {
      "cell_type": "code",
      "source": [
        "user_item_train.columns.isin(test_arts).sum()"
      ],
      "metadata": {
        "colab": {
          "base_uri": "https://localhost:8080/"
        },
        "id": "i3OuwuIU8hwp",
        "outputId": "b397017f-f8ad-4734-dbdd-2489764d80d1"
      },
      "execution_count": 52,
      "outputs": [
        {
          "output_type": "execute_result",
          "data": {
            "text/plain": [
              "574"
            ]
          },
          "metadata": {},
          "execution_count": 52
        }
      ]
    },
    {
      "cell_type": "code",
      "execution_count": 54,
      "metadata": {
        "collapsed": true,
        "colab": {
          "base_uri": "https://localhost:8080/"
        },
        "id": "wFQhnNQF2pBJ",
        "outputId": "26abc0ce-5ac6-40d7-e68e-8f5800df3983"
      },
      "outputs": [
        {
          "output_type": "stream",
          "name": "stdout",
          "text": [
            "Awesome job!  That's right!  All of the test articles are in the training data, but there are only 20 test users that were also in the training set.  All of the other users that are in the test set we have no data on.  Therefore, we cannot make predictions for these users using SVD.\n"
          ]
        }
      ],
      "source": [
        "# Replace the values in the dictionary below\n",
        "a = 662\n",
        "b = 574\n",
        "c = 20\n",
        "d = 0\n",
        "\n",
        "\n",
        "sol_4_dict = {\n",
        "    'How many users can we make predictions for in the test set?': c,\n",
        "    'How many users in the test set are we not able to make predictions for because of the cold start problem?': a,\n",
        "    'How many articles can we make predictions for in the test set?': b,\n",
        "    'How many articles in the test set are we not able to make predictions for because of the cold start problem?': d\n",
        "}\n",
        "\n",
        "t.sol_4_test(sol_4_dict)"
      ]
    },
    {
      "cell_type": "markdown",
      "metadata": {
        "id": "TgThMP2b2pBJ"
      },
      "source": [
        "`5.` Now use the **user_item_train** dataset from above to find **U**, **S**, and **V** transpose using SVD. Then find the subset of rows in the **user_item_test** dataset that you can predict using this matrix decomposition with different numbers of latent features to see how many features makes sense to keep based on the accuracy on the test data. This will require combining what was done in questions `2` - `4`.\n",
        "\n",
        "Use the cells below to explore how well SVD works towards making predictions for recommendations on the test data.  "
      ]
    },
    {
      "cell_type": "code",
      "execution_count": 55,
      "metadata": {
        "collapsed": true,
        "id": "v_mqY0ur2pBK"
      },
      "outputs": [],
      "source": [
        "# fit SVD on the user_item_train matrix\n",
        "u_train, s_train, vt_train = np.linalg.svd(user_item_train) # fit svd similar to above then use the cells below"
      ]
    },
    {
      "cell_type": "code",
      "source": [
        "u_train.shape, s_train.shape, vt_train.shape"
      ],
      "metadata": {
        "colab": {
          "base_uri": "https://localhost:8080/"
        },
        "id": "19qfCXVV-I5E",
        "outputId": "539ef7e1-4775-4d80-d751-09a9a23e71bb"
      },
      "execution_count": 59,
      "outputs": [
        {
          "output_type": "execute_result",
          "data": {
            "text/plain": [
              "((4487, 4487), (714,), (714, 714))"
            ]
          },
          "metadata": {},
          "execution_count": 59
        }
      ]
    },
    {
      "cell_type": "code",
      "execution_count": 90,
      "metadata": {
        "collapsed": true,
        "colab": {
          "base_uri": "https://localhost:8080/",
          "height": 472
        },
        "id": "hmh3XuNW2pBK",
        "outputId": "add32f26-5533-4430-d7eb-ca60bc800805"
      },
      "outputs": [
        {
          "output_type": "display_data",
          "data": {
            "text/plain": [
              "<Figure size 640x480 with 1 Axes>"
            ],
            "image/png": "[encoded data removed]"
          },
          "metadata": {}
        }
      ],
      "source": [
        "# Use these cells to see how well you can use the training\n",
        "# decomposition to predict on test data\n",
        "users_idx = np.where(user_item_train.index.isin(test_idx))[0]\n",
        "article_idx = np.where(user_item_train.columns.isin(test_arts))[0]\n",
        "test_users = user_item_train[user_item_train.index.isin(test_idx)].index.tolist()\n",
        "\n",
        "num_latent_feats = np.arange(10,700+10,20)\n",
        "sum_errs = []\n",
        "\n",
        "for k in num_latent_feats:\n",
        "    # restructure with k latent features\n",
        "    s_new, u_new, vt_new = np.diag(s_train[:k]), u_train[:, :k], vt_train[:k, :]\n",
        "\n",
        "    # take dot product\n",
        "    user_item_est = np.around(np.dot(np.dot(u_new[users_idx, :], s_new), vt_new[:, article_idx]))\n",
        "\n",
        "\n",
        "    # compute error for each prediction to actual value\n",
        "    diffs = np.subtract(user_item_test.loc[test_users, :], user_item_est)\n",
        "\n",
        "    # total errors and keep track of them\n",
        "    err = np.sum(np.sum(np.abs(diffs)))\n",
        "    sum_errs.append(err)\n",
        "\n",
        "\n",
        "plt.plot(num_latent_feats, 1 - np.array(sum_errs)/df.shape[0]);\n",
        "plt.xlabel('Number of Latent Features');\n",
        "plt.ylabel('Accuracy');\n",
        "plt.title('Accuracy vs. Number of Latent Features');"
      ]
    },
    {
      "cell_type": "markdown",
      "metadata": {
        "collapsed": true,
        "id": "9MrNnFHq2pBK"
      },
      "source": [
        "`6.` Use the cell below to comment on the results you found in the previous question. Given the circumstances of your results, discuss what you might do to determine if the recommendations you make with any of the above recommendation systems are an improvement to how users currently find articles?"
      ]
    },
    {
      "cell_type": "markdown",
      "metadata": {
        "id": "NtQXAhI22pBL"
      },
      "source": [
        "**The decrease in test accuracy with increasing latent features suggests overfitting to the training data. As the number of latent features increases, the model's complexity increases. However, with only 20 shared users between the training and test datasets, the model may be unable to capture meaningful patterns in the data, resulting in reduced accuracy as the number of latent features increases.**\n",
        "\n",
        "Improvement:\n",
        "Conduct A/B testing to compare the performance of your recommendation systems against the current method of finding articles.\n",
        "1. Randomly assign users to different groups: one group receives recommendations from the new system, while the other group continues to use the current method.\n",
        "2. Measure user engagement metrics such as click-through rate, time spent on page, and conversion rate to evaluate the effectiveness of the new recommendations."
      ]
    },
    {
      "cell_type": "markdown",
      "metadata": {
        "collapsed": true,
        "id": "-cs7S4zv2pBL"
      },
      "source": [
        "<a id='conclusions'></a>\n",
        "### Extras\n",
        "Using your workbook, you could now save your recommendations for each user, develop a class to make new predictions and update your results, and make a flask app to deploy your results.  These tasks are beyond what is required for this project.  However, from what you learned in the lessons, you certainly capable of taking these tasks on to improve upon your work here!\n",
        "\n",
        "\n",
        "## Conclusion\n",
        "\n",
        "> Congratulations!  You have reached the end of the Recommendations with IBM project!\n",
        "\n",
        "> **Tip**: Once you are satisfied with your work here, check over your report to make sure that it satisfies all the areas of the rubric (found on the project submission page at the end of the lesson). You should also probably remove all of the \"Tips\" like this one so that the presentation is as polished as possible.\n",
        "\n",
        "\n",
        "## Directions to Submit\n",
        "\n",
        "> Before you submit your project, you need to create a .html or .pdf version of this notebook in the workspace here. To do that, run the code cell below. If it worked correctly, you should get a return code of 0, and you should see the generated .html file in the workspace directory (click on the orange Jupyter icon in the upper left).\n",
        "\n",
        "> Alternatively, you can download this report as .html via the **File** > **Download as** submenu, and then manually upload it into the workspace directory by clicking on the orange Jupyter icon in the upper left, then using the Upload button.\n",
        "\n",
        "> Once you've done this, you can submit your project by clicking on the \"Submit Project\" button in the lower right here. This will create and submit a zip file with this .ipynb doc and the .html or .pdf version you created. Congratulations!"
      ]
    },
    {
      "cell_type": "code",
      "execution_count": null,
      "metadata": {
        "collapsed": true,
        "id": "poyBWB4d2pBL"
      },
      "outputs": [],
      "source": [
        "from subprocess import call\n",
        "call(['python', '-m', 'nbconvert', 'Recommendations_with_IBM.ipynb'])"
      ]
    }
  ],
  "metadata": {
    "kernelspec": {
      "display_name": "Python [default]",
      "language": "python",
      "name": "python3"
    },
    "language_info": {
      "codemirror_mode": {
        "name": "ipython",
        "version": 3
      },
      "file_extension": ".py",
      "mimetype": "text/x-python",
      "name": "python",
      "nbconvert_exporter": "python",
      "pygments_lexer": "ipython3",
      "version": "3.5.6"
    },
    "colab": {
      "provenance": []
    }
  },
  "nbformat": 4,
  "nbformat_minor": 0
}